{
 "cells": [
  {
   "cell_type": "markdown",
   "metadata": {},
   "source": [
    "# Import packages"
   ]
  },
  {
   "cell_type": "code",
   "execution_count": 11,
   "metadata": {},
   "outputs": [],
   "source": [
    "from ultralytics import YOLO\n",
    "import cv2\n",
    "import matplotlib.pyplot as plt\n",
    "import torch\n",
    "import torchvision\n",
    "import os"
   ]
  },
  {
   "cell_type": "code",
   "execution_count": 2,
   "metadata": {},
   "outputs": [
    {
     "name": "stdout",
     "output_type": "stream",
     "text": [
      "True\n",
      "1\n"
     ]
    }
   ],
   "source": [
    "import torch\n",
    "print(torch.cuda.is_available())  # Should return True\n",
    "print(torch.cuda.device_count())  # Should return the number of GPUs"
   ]
  },
  {
   "cell_type": "code",
   "execution_count": 3,
   "metadata": {},
   "outputs": [
    {
     "name": "stdout",
     "output_type": "stream",
     "text": [
      "2.6.0+cu118\n",
      "0.21.0+cu118\n",
      "11.8\n",
      "90100\n"
     ]
    }
   ],
   "source": [
    "import torch\n",
    "import torchvision\n",
    "print(torch.__version__)\n",
    "print(torchvision.__version__)\n",
    "print(torch.version.cuda)  # Check CUDA version\n",
    "print(torch.backends.cudnn.version())  # Check cuDNN version"
   ]
  },
  {
   "cell_type": "code",
   "execution_count": 4,
   "metadata": {},
   "outputs": [
    {
     "name": "stdout",
     "output_type": "stream",
     "text": [
      "True\n"
     ]
    }
   ],
   "source": [
    "print(torch.cuda.is_available())"
   ]
  },
  {
   "cell_type": "code",
   "execution_count": 5,
   "metadata": {},
   "outputs": [
    {
     "data": {
      "text/plain": [
       "YOLO(\n",
       "  (model): DetectionModel(\n",
       "    (model): Sequential(\n",
       "      (0): Conv(\n",
       "        (conv): Conv2d(3, 16, kernel_size=(3, 3), stride=(2, 2), padding=(1, 1), bias=False)\n",
       "        (bn): BatchNorm2d(16, eps=0.001, momentum=0.03, affine=True, track_running_stats=True)\n",
       "        (act): SiLU(inplace=True)\n",
       "      )\n",
       "      (1): Conv(\n",
       "        (conv): Conv2d(16, 32, kernel_size=(3, 3), stride=(2, 2), padding=(1, 1), bias=False)\n",
       "        (bn): BatchNorm2d(32, eps=0.001, momentum=0.03, affine=True, track_running_stats=True)\n",
       "        (act): SiLU(inplace=True)\n",
       "      )\n",
       "      (2): C2f(\n",
       "        (cv1): Conv(\n",
       "          (conv): Conv2d(32, 32, kernel_size=(1, 1), stride=(1, 1), bias=False)\n",
       "          (bn): BatchNorm2d(32, eps=0.001, momentum=0.03, affine=True, track_running_stats=True)\n",
       "          (act): SiLU(inplace=True)\n",
       "        )\n",
       "        (cv2): Conv(\n",
       "          (conv): Conv2d(48, 32, kernel_size=(1, 1), stride=(1, 1), bias=False)\n",
       "          (bn): BatchNorm2d(32, eps=0.001, momentum=0.03, affine=True, track_running_stats=True)\n",
       "          (act): SiLU(inplace=True)\n",
       "        )\n",
       "        (m): ModuleList(\n",
       "          (0): Bottleneck(\n",
       "            (cv1): Conv(\n",
       "              (conv): Conv2d(16, 16, kernel_size=(3, 3), stride=(1, 1), padding=(1, 1), bias=False)\n",
       "              (bn): BatchNorm2d(16, eps=0.001, momentum=0.03, affine=True, track_running_stats=True)\n",
       "              (act): SiLU(inplace=True)\n",
       "            )\n",
       "            (cv2): Conv(\n",
       "              (conv): Conv2d(16, 16, kernel_size=(3, 3), stride=(1, 1), padding=(1, 1), bias=False)\n",
       "              (bn): BatchNorm2d(16, eps=0.001, momentum=0.03, affine=True, track_running_stats=True)\n",
       "              (act): SiLU(inplace=True)\n",
       "            )\n",
       "          )\n",
       "        )\n",
       "      )\n",
       "      (3): Conv(\n",
       "        (conv): Conv2d(32, 64, kernel_size=(3, 3), stride=(2, 2), padding=(1, 1), bias=False)\n",
       "        (bn): BatchNorm2d(64, eps=0.001, momentum=0.03, affine=True, track_running_stats=True)\n",
       "        (act): SiLU(inplace=True)\n",
       "      )\n",
       "      (4): C2f(\n",
       "        (cv1): Conv(\n",
       "          (conv): Conv2d(64, 64, kernel_size=(1, 1), stride=(1, 1), bias=False)\n",
       "          (bn): BatchNorm2d(64, eps=0.001, momentum=0.03, affine=True, track_running_stats=True)\n",
       "          (act): SiLU(inplace=True)\n",
       "        )\n",
       "        (cv2): Conv(\n",
       "          (conv): Conv2d(128, 64, kernel_size=(1, 1), stride=(1, 1), bias=False)\n",
       "          (bn): BatchNorm2d(64, eps=0.001, momentum=0.03, affine=True, track_running_stats=True)\n",
       "          (act): SiLU(inplace=True)\n",
       "        )\n",
       "        (m): ModuleList(\n",
       "          (0-1): 2 x Bottleneck(\n",
       "            (cv1): Conv(\n",
       "              (conv): Conv2d(32, 32, kernel_size=(3, 3), stride=(1, 1), padding=(1, 1), bias=False)\n",
       "              (bn): BatchNorm2d(32, eps=0.001, momentum=0.03, affine=True, track_running_stats=True)\n",
       "              (act): SiLU(inplace=True)\n",
       "            )\n",
       "            (cv2): Conv(\n",
       "              (conv): Conv2d(32, 32, kernel_size=(3, 3), stride=(1, 1), padding=(1, 1), bias=False)\n",
       "              (bn): BatchNorm2d(32, eps=0.001, momentum=0.03, affine=True, track_running_stats=True)\n",
       "              (act): SiLU(inplace=True)\n",
       "            )\n",
       "          )\n",
       "        )\n",
       "      )\n",
       "      (5): Conv(\n",
       "        (conv): Conv2d(64, 128, kernel_size=(3, 3), stride=(2, 2), padding=(1, 1), bias=False)\n",
       "        (bn): BatchNorm2d(128, eps=0.001, momentum=0.03, affine=True, track_running_stats=True)\n",
       "        (act): SiLU(inplace=True)\n",
       "      )\n",
       "      (6): C2f(\n",
       "        (cv1): Conv(\n",
       "          (conv): Conv2d(128, 128, kernel_size=(1, 1), stride=(1, 1), bias=False)\n",
       "          (bn): BatchNorm2d(128, eps=0.001, momentum=0.03, affine=True, track_running_stats=True)\n",
       "          (act): SiLU(inplace=True)\n",
       "        )\n",
       "        (cv2): Conv(\n",
       "          (conv): Conv2d(256, 128, kernel_size=(1, 1), stride=(1, 1), bias=False)\n",
       "          (bn): BatchNorm2d(128, eps=0.001, momentum=0.03, affine=True, track_running_stats=True)\n",
       "          (act): SiLU(inplace=True)\n",
       "        )\n",
       "        (m): ModuleList(\n",
       "          (0-1): 2 x Bottleneck(\n",
       "            (cv1): Conv(\n",
       "              (conv): Conv2d(64, 64, kernel_size=(3, 3), stride=(1, 1), padding=(1, 1), bias=False)\n",
       "              (bn): BatchNorm2d(64, eps=0.001, momentum=0.03, affine=True, track_running_stats=True)\n",
       "              (act): SiLU(inplace=True)\n",
       "            )\n",
       "            (cv2): Conv(\n",
       "              (conv): Conv2d(64, 64, kernel_size=(3, 3), stride=(1, 1), padding=(1, 1), bias=False)\n",
       "              (bn): BatchNorm2d(64, eps=0.001, momentum=0.03, affine=True, track_running_stats=True)\n",
       "              (act): SiLU(inplace=True)\n",
       "            )\n",
       "          )\n",
       "        )\n",
       "      )\n",
       "      (7): Conv(\n",
       "        (conv): Conv2d(128, 256, kernel_size=(3, 3), stride=(2, 2), padding=(1, 1), bias=False)\n",
       "        (bn): BatchNorm2d(256, eps=0.001, momentum=0.03, affine=True, track_running_stats=True)\n",
       "        (act): SiLU(inplace=True)\n",
       "      )\n",
       "      (8): C2f(\n",
       "        (cv1): Conv(\n",
       "          (conv): Conv2d(256, 256, kernel_size=(1, 1), stride=(1, 1), bias=False)\n",
       "          (bn): BatchNorm2d(256, eps=0.001, momentum=0.03, affine=True, track_running_stats=True)\n",
       "          (act): SiLU(inplace=True)\n",
       "        )\n",
       "        (cv2): Conv(\n",
       "          (conv): Conv2d(384, 256, kernel_size=(1, 1), stride=(1, 1), bias=False)\n",
       "          (bn): BatchNorm2d(256, eps=0.001, momentum=0.03, affine=True, track_running_stats=True)\n",
       "          (act): SiLU(inplace=True)\n",
       "        )\n",
       "        (m): ModuleList(\n",
       "          (0): Bottleneck(\n",
       "            (cv1): Conv(\n",
       "              (conv): Conv2d(128, 128, kernel_size=(3, 3), stride=(1, 1), padding=(1, 1), bias=False)\n",
       "              (bn): BatchNorm2d(128, eps=0.001, momentum=0.03, affine=True, track_running_stats=True)\n",
       "              (act): SiLU(inplace=True)\n",
       "            )\n",
       "            (cv2): Conv(\n",
       "              (conv): Conv2d(128, 128, kernel_size=(3, 3), stride=(1, 1), padding=(1, 1), bias=False)\n",
       "              (bn): BatchNorm2d(128, eps=0.001, momentum=0.03, affine=True, track_running_stats=True)\n",
       "              (act): SiLU(inplace=True)\n",
       "            )\n",
       "          )\n",
       "        )\n",
       "      )\n",
       "      (9): SPPF(\n",
       "        (cv1): Conv(\n",
       "          (conv): Conv2d(256, 128, kernel_size=(1, 1), stride=(1, 1), bias=False)\n",
       "          (bn): BatchNorm2d(128, eps=0.001, momentum=0.03, affine=True, track_running_stats=True)\n",
       "          (act): SiLU(inplace=True)\n",
       "        )\n",
       "        (cv2): Conv(\n",
       "          (conv): Conv2d(512, 256, kernel_size=(1, 1), stride=(1, 1), bias=False)\n",
       "          (bn): BatchNorm2d(256, eps=0.001, momentum=0.03, affine=True, track_running_stats=True)\n",
       "          (act): SiLU(inplace=True)\n",
       "        )\n",
       "        (m): MaxPool2d(kernel_size=5, stride=1, padding=2, dilation=1, ceil_mode=False)\n",
       "      )\n",
       "      (10): Upsample(scale_factor=2.0, mode='nearest')\n",
       "      (11): Concat()\n",
       "      (12): C2f(\n",
       "        (cv1): Conv(\n",
       "          (conv): Conv2d(384, 128, kernel_size=(1, 1), stride=(1, 1), bias=False)\n",
       "          (bn): BatchNorm2d(128, eps=0.001, momentum=0.03, affine=True, track_running_stats=True)\n",
       "          (act): SiLU(inplace=True)\n",
       "        )\n",
       "        (cv2): Conv(\n",
       "          (conv): Conv2d(192, 128, kernel_size=(1, 1), stride=(1, 1), bias=False)\n",
       "          (bn): BatchNorm2d(128, eps=0.001, momentum=0.03, affine=True, track_running_stats=True)\n",
       "          (act): SiLU(inplace=True)\n",
       "        )\n",
       "        (m): ModuleList(\n",
       "          (0): Bottleneck(\n",
       "            (cv1): Conv(\n",
       "              (conv): Conv2d(64, 64, kernel_size=(3, 3), stride=(1, 1), padding=(1, 1), bias=False)\n",
       "              (bn): BatchNorm2d(64, eps=0.001, momentum=0.03, affine=True, track_running_stats=True)\n",
       "              (act): SiLU(inplace=True)\n",
       "            )\n",
       "            (cv2): Conv(\n",
       "              (conv): Conv2d(64, 64, kernel_size=(3, 3), stride=(1, 1), padding=(1, 1), bias=False)\n",
       "              (bn): BatchNorm2d(64, eps=0.001, momentum=0.03, affine=True, track_running_stats=True)\n",
       "              (act): SiLU(inplace=True)\n",
       "            )\n",
       "          )\n",
       "        )\n",
       "      )\n",
       "      (13): Upsample(scale_factor=2.0, mode='nearest')\n",
       "      (14): Concat()\n",
       "      (15): C2f(\n",
       "        (cv1): Conv(\n",
       "          (conv): Conv2d(192, 64, kernel_size=(1, 1), stride=(1, 1), bias=False)\n",
       "          (bn): BatchNorm2d(64, eps=0.001, momentum=0.03, affine=True, track_running_stats=True)\n",
       "          (act): SiLU(inplace=True)\n",
       "        )\n",
       "        (cv2): Conv(\n",
       "          (conv): Conv2d(96, 64, kernel_size=(1, 1), stride=(1, 1), bias=False)\n",
       "          (bn): BatchNorm2d(64, eps=0.001, momentum=0.03, affine=True, track_running_stats=True)\n",
       "          (act): SiLU(inplace=True)\n",
       "        )\n",
       "        (m): ModuleList(\n",
       "          (0): Bottleneck(\n",
       "            (cv1): Conv(\n",
       "              (conv): Conv2d(32, 32, kernel_size=(3, 3), stride=(1, 1), padding=(1, 1), bias=False)\n",
       "              (bn): BatchNorm2d(32, eps=0.001, momentum=0.03, affine=True, track_running_stats=True)\n",
       "              (act): SiLU(inplace=True)\n",
       "            )\n",
       "            (cv2): Conv(\n",
       "              (conv): Conv2d(32, 32, kernel_size=(3, 3), stride=(1, 1), padding=(1, 1), bias=False)\n",
       "              (bn): BatchNorm2d(32, eps=0.001, momentum=0.03, affine=True, track_running_stats=True)\n",
       "              (act): SiLU(inplace=True)\n",
       "            )\n",
       "          )\n",
       "        )\n",
       "      )\n",
       "      (16): Conv(\n",
       "        (conv): Conv2d(64, 64, kernel_size=(3, 3), stride=(2, 2), padding=(1, 1), bias=False)\n",
       "        (bn): BatchNorm2d(64, eps=0.001, momentum=0.03, affine=True, track_running_stats=True)\n",
       "        (act): SiLU(inplace=True)\n",
       "      )\n",
       "      (17): Concat()\n",
       "      (18): C2f(\n",
       "        (cv1): Conv(\n",
       "          (conv): Conv2d(192, 128, kernel_size=(1, 1), stride=(1, 1), bias=False)\n",
       "          (bn): BatchNorm2d(128, eps=0.001, momentum=0.03, affine=True, track_running_stats=True)\n",
       "          (act): SiLU(inplace=True)\n",
       "        )\n",
       "        (cv2): Conv(\n",
       "          (conv): Conv2d(192, 128, kernel_size=(1, 1), stride=(1, 1), bias=False)\n",
       "          (bn): BatchNorm2d(128, eps=0.001, momentum=0.03, affine=True, track_running_stats=True)\n",
       "          (act): SiLU(inplace=True)\n",
       "        )\n",
       "        (m): ModuleList(\n",
       "          (0): Bottleneck(\n",
       "            (cv1): Conv(\n",
       "              (conv): Conv2d(64, 64, kernel_size=(3, 3), stride=(1, 1), padding=(1, 1), bias=False)\n",
       "              (bn): BatchNorm2d(64, eps=0.001, momentum=0.03, affine=True, track_running_stats=True)\n",
       "              (act): SiLU(inplace=True)\n",
       "            )\n",
       "            (cv2): Conv(\n",
       "              (conv): Conv2d(64, 64, kernel_size=(3, 3), stride=(1, 1), padding=(1, 1), bias=False)\n",
       "              (bn): BatchNorm2d(64, eps=0.001, momentum=0.03, affine=True, track_running_stats=True)\n",
       "              (act): SiLU(inplace=True)\n",
       "            )\n",
       "          )\n",
       "        )\n",
       "      )\n",
       "      (19): Conv(\n",
       "        (conv): Conv2d(128, 128, kernel_size=(3, 3), stride=(2, 2), padding=(1, 1), bias=False)\n",
       "        (bn): BatchNorm2d(128, eps=0.001, momentum=0.03, affine=True, track_running_stats=True)\n",
       "        (act): SiLU(inplace=True)\n",
       "      )\n",
       "      (20): Concat()\n",
       "      (21): C2f(\n",
       "        (cv1): Conv(\n",
       "          (conv): Conv2d(384, 256, kernel_size=(1, 1), stride=(1, 1), bias=False)\n",
       "          (bn): BatchNorm2d(256, eps=0.001, momentum=0.03, affine=True, track_running_stats=True)\n",
       "          (act): SiLU(inplace=True)\n",
       "        )\n",
       "        (cv2): Conv(\n",
       "          (conv): Conv2d(384, 256, kernel_size=(1, 1), stride=(1, 1), bias=False)\n",
       "          (bn): BatchNorm2d(256, eps=0.001, momentum=0.03, affine=True, track_running_stats=True)\n",
       "          (act): SiLU(inplace=True)\n",
       "        )\n",
       "        (m): ModuleList(\n",
       "          (0): Bottleneck(\n",
       "            (cv1): Conv(\n",
       "              (conv): Conv2d(128, 128, kernel_size=(3, 3), stride=(1, 1), padding=(1, 1), bias=False)\n",
       "              (bn): BatchNorm2d(128, eps=0.001, momentum=0.03, affine=True, track_running_stats=True)\n",
       "              (act): SiLU(inplace=True)\n",
       "            )\n",
       "            (cv2): Conv(\n",
       "              (conv): Conv2d(128, 128, kernel_size=(3, 3), stride=(1, 1), padding=(1, 1), bias=False)\n",
       "              (bn): BatchNorm2d(128, eps=0.001, momentum=0.03, affine=True, track_running_stats=True)\n",
       "              (act): SiLU(inplace=True)\n",
       "            )\n",
       "          )\n",
       "        )\n",
       "      )\n",
       "      (22): Detect(\n",
       "        (cv2): ModuleList(\n",
       "          (0): Sequential(\n",
       "            (0): Conv(\n",
       "              (conv): Conv2d(64, 64, kernel_size=(3, 3), stride=(1, 1), padding=(1, 1), bias=False)\n",
       "              (bn): BatchNorm2d(64, eps=0.001, momentum=0.03, affine=True, track_running_stats=True)\n",
       "              (act): SiLU(inplace=True)\n",
       "            )\n",
       "            (1): Conv(\n",
       "              (conv): Conv2d(64, 64, kernel_size=(3, 3), stride=(1, 1), padding=(1, 1), bias=False)\n",
       "              (bn): BatchNorm2d(64, eps=0.001, momentum=0.03, affine=True, track_running_stats=True)\n",
       "              (act): SiLU(inplace=True)\n",
       "            )\n",
       "            (2): Conv2d(64, 64, kernel_size=(1, 1), stride=(1, 1))\n",
       "          )\n",
       "          (1): Sequential(\n",
       "            (0): Conv(\n",
       "              (conv): Conv2d(128, 64, kernel_size=(3, 3), stride=(1, 1), padding=(1, 1), bias=False)\n",
       "              (bn): BatchNorm2d(64, eps=0.001, momentum=0.03, affine=True, track_running_stats=True)\n",
       "              (act): SiLU(inplace=True)\n",
       "            )\n",
       "            (1): Conv(\n",
       "              (conv): Conv2d(64, 64, kernel_size=(3, 3), stride=(1, 1), padding=(1, 1), bias=False)\n",
       "              (bn): BatchNorm2d(64, eps=0.001, momentum=0.03, affine=True, track_running_stats=True)\n",
       "              (act): SiLU(inplace=True)\n",
       "            )\n",
       "            (2): Conv2d(64, 64, kernel_size=(1, 1), stride=(1, 1))\n",
       "          )\n",
       "          (2): Sequential(\n",
       "            (0): Conv(\n",
       "              (conv): Conv2d(256, 64, kernel_size=(3, 3), stride=(1, 1), padding=(1, 1), bias=False)\n",
       "              (bn): BatchNorm2d(64, eps=0.001, momentum=0.03, affine=True, track_running_stats=True)\n",
       "              (act): SiLU(inplace=True)\n",
       "            )\n",
       "            (1): Conv(\n",
       "              (conv): Conv2d(64, 64, kernel_size=(3, 3), stride=(1, 1), padding=(1, 1), bias=False)\n",
       "              (bn): BatchNorm2d(64, eps=0.001, momentum=0.03, affine=True, track_running_stats=True)\n",
       "              (act): SiLU(inplace=True)\n",
       "            )\n",
       "            (2): Conv2d(64, 64, kernel_size=(1, 1), stride=(1, 1))\n",
       "          )\n",
       "        )\n",
       "        (cv3): ModuleList(\n",
       "          (0): Sequential(\n",
       "            (0): Conv(\n",
       "              (conv): Conv2d(64, 80, kernel_size=(3, 3), stride=(1, 1), padding=(1, 1), bias=False)\n",
       "              (bn): BatchNorm2d(80, eps=0.001, momentum=0.03, affine=True, track_running_stats=True)\n",
       "              (act): SiLU(inplace=True)\n",
       "            )\n",
       "            (1): Conv(\n",
       "              (conv): Conv2d(80, 80, kernel_size=(3, 3), stride=(1, 1), padding=(1, 1), bias=False)\n",
       "              (bn): BatchNorm2d(80, eps=0.001, momentum=0.03, affine=True, track_running_stats=True)\n",
       "              (act): SiLU(inplace=True)\n",
       "            )\n",
       "            (2): Conv2d(80, 80, kernel_size=(1, 1), stride=(1, 1))\n",
       "          )\n",
       "          (1): Sequential(\n",
       "            (0): Conv(\n",
       "              (conv): Conv2d(128, 80, kernel_size=(3, 3), stride=(1, 1), padding=(1, 1), bias=False)\n",
       "              (bn): BatchNorm2d(80, eps=0.001, momentum=0.03, affine=True, track_running_stats=True)\n",
       "              (act): SiLU(inplace=True)\n",
       "            )\n",
       "            (1): Conv(\n",
       "              (conv): Conv2d(80, 80, kernel_size=(3, 3), stride=(1, 1), padding=(1, 1), bias=False)\n",
       "              (bn): BatchNorm2d(80, eps=0.001, momentum=0.03, affine=True, track_running_stats=True)\n",
       "              (act): SiLU(inplace=True)\n",
       "            )\n",
       "            (2): Conv2d(80, 80, kernel_size=(1, 1), stride=(1, 1))\n",
       "          )\n",
       "          (2): Sequential(\n",
       "            (0): Conv(\n",
       "              (conv): Conv2d(256, 80, kernel_size=(3, 3), stride=(1, 1), padding=(1, 1), bias=False)\n",
       "              (bn): BatchNorm2d(80, eps=0.001, momentum=0.03, affine=True, track_running_stats=True)\n",
       "              (act): SiLU(inplace=True)\n",
       "            )\n",
       "            (1): Conv(\n",
       "              (conv): Conv2d(80, 80, kernel_size=(3, 3), stride=(1, 1), padding=(1, 1), bias=False)\n",
       "              (bn): BatchNorm2d(80, eps=0.001, momentum=0.03, affine=True, track_running_stats=True)\n",
       "              (act): SiLU(inplace=True)\n",
       "            )\n",
       "            (2): Conv2d(80, 80, kernel_size=(1, 1), stride=(1, 1))\n",
       "          )\n",
       "        )\n",
       "        (dfl): DFL(\n",
       "          (conv): Conv2d(16, 1, kernel_size=(1, 1), stride=(1, 1), bias=False)\n",
       "        )\n",
       "      )\n",
       "    )\n",
       "  )\n",
       ")"
      ]
     },
     "execution_count": 5,
     "metadata": {},
     "output_type": "execute_result"
    }
   ],
   "source": [
    "model = YOLO(\"yolov8n.pt\")  # Smallest YOLOv8 model\n",
    "# model = YOLO(\"yolov8n-ppe.pt\")  # YOLOv8 model trained on PPE dataset \n",
    "model.to(\"cuda\")  # Use GPU"
   ]
  },
  {
   "cell_type": "code",
   "execution_count": 6,
   "metadata": {},
   "outputs": [
    {
     "name": "stdout",
     "output_type": "stream",
     "text": [
      "\n"
     ]
    },
    {
     "name": "stderr",
     "output_type": "stream",
     "text": [
      "<>:1: SyntaxWarning: invalid escape sequence '\\c'\n",
      "<>:1: SyntaxWarning: invalid escape sequence '\\c'\n",
      "C:\\Users\\Myles McKay\\AppData\\Local\\Temp\\ipykernel_7320\\1666863675.py:1: SyntaxWarning: invalid escape sequence '\\c'\n",
      "  img = 'F:\\coding_projects\\hardhat_detection_on_construction_site\\hardhat_images\\maxresdefault.jpg'\n"
     ]
    },
    {
     "name": "stdout",
     "output_type": "stream",
     "text": [
      "image 1/1 F:\\coding_projects\\hardhat_detection_on_construction_site\\hardhat_images\\maxresdefault.jpg: 384x640 2 persons, 36.1ms\n",
      "Speed: 3.4ms preprocess, 36.1ms inference, 69.2ms postprocess per image at shape (1, 3, 384, 640)\n"
     ]
    }
   ],
   "source": [
    "img = 'F:\\coding_projects\\hardhat_detection_on_construction_site\\hardhat_images\\maxresdefault.jpg'\n",
    "results = model(img)"
   ]
  },
  {
   "cell_type": "code",
   "execution_count": 8,
   "metadata": {},
   "outputs": [
    {
     "data": {
      "image/png": "[encoded data removed]",
      "text/plain": [
       "<Figure size 640x480 with 1 Axes>"
      ]
     },
     "metadata": {},
     "output_type": "display_data"
    }
   ],
   "source": [
    "# Convert image to array and plot it\n",
    "annotated_img = results[0].plot()\n",
    "\n",
    "plt.imshow(annotated_img)\n",
    "plt.axis(\"off\")  # Hide axis\n",
    "plt.show()"
   ]
  },
  {
   "cell_type": "markdown",
   "metadata": {},
   "source": [
    "# Train YOLO on CHV dataset using YOLO_v8\n",
    "# Data: "
   ]
  },
  {
   "cell_type": "code",
   "execution_count": 9,
   "metadata": {},
   "outputs": [
    {
     "name": "stdout",
     "output_type": "stream",
     "text": [
      "Transferred 355/355 items from pretrained weights\n"
     ]
    }
   ],
   "source": [
    "# build a new model from YOLO YAML\n",
    "model = YOLO('yolov8n.yaml')  # build a new model from YAML\n",
    "model = YOLO('yolov8n.pt')  # load a pretrained model (recommended for training)\n",
    "model = YOLO('yolov8n.yaml').load('yolov8n.pt')  # build from YAML and transfer weights"
   ]
  },
  {
   "cell_type": "markdown",
   "metadata": {},
   "source": [
    "# Make train test val split for the images directory"
   ]
  },
  {
   "cell_type": "code",
   "execution_count": 16,
   "metadata": {},
   "outputs": [
    {
     "name": "stdout",
     "output_type": "stream",
     "text": [
      "Images successfully organized based on label directories!\n"
     ]
    }
   ],
   "source": [
    "import os\n",
    "import shutil\n",
    "\n",
    "# Define dataset paths\n",
    "dataset_root = \"CHV_dataset\"\n",
    "image_dir = os.path.join(dataset_root, \"images\")\n",
    "label_dir = os.path.join(dataset_root, \"labels\")\n",
    "\n",
    "# Train-test split directories (already existing for labels)\n",
    "train_label_dir = os.path.join(label_dir, \"train\")\n",
    "val_label_dir = os.path.join(label_dir, \"val\")\n",
    "test_label_dir = os.path.join(label_dir, \"test\")  # If you have a test split\n",
    "\n",
    "# Corresponding image directories\n",
    "train_image_dir = os.path.join(image_dir, \"train\")\n",
    "val_image_dir = os.path.join(image_dir, \"val\")\n",
    "test_image_dir = os.path.join(image_dir, \"test\")\n",
    "\n",
    "# Create image directories if they don't exist\n",
    "for d in [train_image_dir, val_image_dir, test_image_dir]:\n",
    "    os.makedirs(d, exist_ok=True)\n",
    "\n",
    "# Function to move images based on existing label structure\n",
    "def move_images(label_subdir, image_subdir):\n",
    "    label_files = [f for f in os.listdir(label_subdir) if f.endswith(\".txt\")]\n",
    "    for label_file in label_files:\n",
    "        image_file = label_file.replace(\".txt\", \".jpg\")  # Adjust if using PNG/JPEG\n",
    "        image_path = os.path.join(image_dir, image_file)\n",
    "        if os.path.exists(image_path):  # Ensure the image exists before moving\n",
    "            shutil.move(image_path, os.path.join(image_subdir, image_file))\n",
    "\n",
    "# Move images based on labels\n",
    "move_images(train_label_dir, train_image_dir)\n",
    "move_images(val_label_dir, val_image_dir)\n",
    "move_images(test_label_dir, test_image_dir)\n",
    "\n",
    "print(\"Images successfully organized based on label directories!\")\n"
   ]
  },
  {
   "cell_type": "code",
   "execution_count": null,
   "metadata": {},
   "outputs": [
    {
     "name": "stdout",
     "output_type": "stream",
     "text": [
      "Moved ppe_1106.txt → F:/coding_projects/datasets/CHV_dataset\\labels\\train\\ppe_1106.txt\n",
      "Moved ppe_0738.txt → F:/coding_projects/datasets/CHV_dataset\\labels\\train\\ppe_0738.txt\n",
      "Moved ppe_0259.txt → F:/coding_projects/datasets/CHV_dataset\\labels\\train\\ppe_0259.txt\n",
      "Moved ppe_0697.txt → F:/coding_projects/datasets/CHV_dataset\\labels\\train\\ppe_0697.txt\n",
      "Moved ppe_0729.txt → F:/coding_projects/datasets/CHV_dataset\\labels\\train\\ppe_0729.txt\n",
      "Moved ppe_0019.txt → F:/coding_projects/datasets/CHV_dataset\\labels\\train\\ppe_0019.txt\n",
      "Moved ppe_0072.txt → F:/coding_projects/datasets/CHV_dataset\\labels\\train\\ppe_0072.txt\n",
      "Moved ppe_0841.txt → F:/coding_projects/datasets/CHV_dataset\\labels\\train\\ppe_0841.txt\n",
      "Moved ppe_0661.txt → F:/coding_projects/datasets/CHV_dataset\\labels\\train\\ppe_0661.txt\n",
      "Moved ppe_0554.txt → F:/coding_projects/datasets/CHV_dataset\\labels\\train\\ppe_0554.txt\n",
      "Moved ppe_1227.txt → F:/coding_projects/datasets/CHV_dataset\\labels\\train\\ppe_1227.txt\n",
      "Moved ppe_1128.txt → F:/coding_projects/datasets/CHV_dataset\\labels\\train\\ppe_1128.txt\n",
      "Moved ppe_0431.txt → F:/coding_projects/datasets/CHV_dataset\\labels\\train\\ppe_0431.txt\n",
      "Moved ppe_0566.txt → F:/coding_projects/datasets/CHV_dataset\\labels\\train\\ppe_0566.txt\n",
      "Moved ppe_0098.txt → F:/coding_projects/datasets/CHV_dataset\\labels\\train\\ppe_0098.txt\n",
      "Moved ppe_1014.txt → F:/coding_projects/datasets/CHV_dataset\\labels\\train\\ppe_1014.txt\n",
      "Moved ppe_0790.txt → F:/coding_projects/datasets/CHV_dataset\\labels\\train\\ppe_0790.txt\n",
      "Moved ppe_0405.txt → F:/coding_projects/datasets/CHV_dataset\\labels\\train\\ppe_0405.txt\n",
      "Moved ppe_0167.txt → F:/coding_projects/datasets/CHV_dataset\\labels\\train\\ppe_0167.txt\n",
      "Moved ppe_1271.txt → F:/coding_projects/datasets/CHV_dataset\\labels\\train\\ppe_1271.txt\n",
      "Moved ppe_1258.txt → F:/coding_projects/datasets/CHV_dataset\\labels\\train\\ppe_1258.txt\n",
      "Moved ppe_0994.txt → F:/coding_projects/datasets/CHV_dataset\\labels\\train\\ppe_0994.txt\n",
      "Moved ppe_0408.txt → F:/coding_projects/datasets/CHV_dataset\\labels\\train\\ppe_0408.txt\n",
      "Moved ppe_0362.txt → F:/coding_projects/datasets/CHV_dataset\\labels\\train\\ppe_0362.txt\n",
      "Moved ppe_0438.txt → F:/coding_projects/datasets/CHV_dataset\\labels\\train\\ppe_0438.txt\n",
      "Moved ppe_0480.txt → F:/coding_projects/datasets/CHV_dataset\\labels\\train\\ppe_0480.txt\n",
      "Moved ppe_0295.txt → F:/coding_projects/datasets/CHV_dataset\\labels\\train\\ppe_0295.txt\n",
      "Moved ppe_1241.txt → F:/coding_projects/datasets/CHV_dataset\\labels\\train\\ppe_1241.txt\n",
      "Moved ppe_0811.txt → F:/coding_projects/datasets/CHV_dataset\\labels\\train\\ppe_0811.txt\n",
      "Moved ppe_0885.txt → F:/coding_projects/datasets/CHV_dataset\\labels\\train\\ppe_0885.txt\n",
      "Moved ppe_0603.txt → F:/coding_projects/datasets/CHV_dataset\\labels\\train\\ppe_0603.txt\n",
      "Moved ppe_0821.txt → F:/coding_projects/datasets/CHV_dataset\\labels\\train\\ppe_0821.txt\n",
      "Moved ppe_0478.txt → F:/coding_projects/datasets/CHV_dataset\\labels\\train\\ppe_0478.txt\n",
      "Moved ppe_0133.txt → F:/coding_projects/datasets/CHV_dataset\\labels\\train\\ppe_0133.txt\n",
      "Moved ppe_0182.txt → F:/coding_projects/datasets/CHV_dataset\\labels\\train\\ppe_0182.txt\n",
      "Moved ppe_0387.txt → F:/coding_projects/datasets/CHV_dataset\\labels\\train\\ppe_0387.txt\n",
      "Moved ppe_0685.txt → F:/coding_projects/datasets/CHV_dataset\\labels\\train\\ppe_0685.txt\n",
      "Moved ppe_1020.txt → F:/coding_projects/datasets/CHV_dataset\\labels\\train\\ppe_1020.txt\n",
      "Moved ppe_0829.txt → F:/coding_projects/datasets/CHV_dataset\\labels\\train\\ppe_0829.txt\n",
      "Moved ppe_0200.txt → F:/coding_projects/datasets/CHV_dataset\\labels\\train\\ppe_0200.txt\n",
      "Moved ppe_1150.txt → F:/coding_projects/datasets/CHV_dataset\\labels\\train\\ppe_1150.txt\n",
      "Moved ppe_0591.txt → F:/coding_projects/datasets/CHV_dataset\\labels\\train\\ppe_0591.txt\n",
      "Moved ppe_0987.txt → F:/coding_projects/datasets/CHV_dataset\\labels\\train\\ppe_0987.txt\n",
      "Moved ppe_0902.txt → F:/coding_projects/datasets/CHV_dataset\\labels\\train\\ppe_0902.txt\n",
      "Moved ppe_0310.txt → F:/coding_projects/datasets/CHV_dataset\\labels\\train\\ppe_0310.txt\n",
      "Moved ppe_0433.txt → F:/coding_projects/datasets/CHV_dataset\\labels\\train\\ppe_0433.txt\n",
      "Moved ppe_1312.txt → F:/coding_projects/datasets/CHV_dataset\\labels\\train\\ppe_1312.txt\n",
      "Moved ppe_0302.txt → F:/coding_projects/datasets/CHV_dataset\\labels\\train\\ppe_0302.txt\n",
      "Moved ppe_0201.txt → F:/coding_projects/datasets/CHV_dataset\\labels\\train\\ppe_0201.txt\n",
      "Moved ppe_0561.txt → F:/coding_projects/datasets/CHV_dataset\\labels\\train\\ppe_0561.txt\n",
      "Moved ppe_0771.txt → F:/coding_projects/datasets/CHV_dataset\\labels\\train\\ppe_0771.txt\n",
      "Moved ppe_0118.txt → F:/coding_projects/datasets/CHV_dataset\\labels\\train\\ppe_0118.txt\n",
      "Moved ppe_0204.txt → F:/coding_projects/datasets/CHV_dataset\\labels\\train\\ppe_0204.txt\n",
      "Moved ppe_1076.txt → F:/coding_projects/datasets/CHV_dataset\\labels\\train\\ppe_1076.txt\n",
      "Moved ppe_0451.txt → F:/coding_projects/datasets/CHV_dataset\\labels\\train\\ppe_0451.txt\n",
      "Moved ppe_0353.txt → F:/coding_projects/datasets/CHV_dataset\\labels\\train\\ppe_0353.txt\n",
      "Moved ppe_0160.txt → F:/coding_projects/datasets/CHV_dataset\\labels\\train\\ppe_0160.txt\n",
      "Moved ppe_0264.txt → F:/coding_projects/datasets/CHV_dataset\\labels\\train\\ppe_0264.txt\n",
      "Moved ppe_0756.txt → F:/coding_projects/datasets/CHV_dataset\\labels\\train\\ppe_0756.txt\n",
      "Moved ppe_0579.txt → F:/coding_projects/datasets/CHV_dataset\\labels\\train\\ppe_0579.txt\n",
      "Moved ppe_0549.txt → F:/coding_projects/datasets/CHV_dataset\\labels\\train\\ppe_0549.txt\n",
      "Moved ppe_1102.txt → F:/coding_projects/datasets/CHV_dataset\\labels\\train\\ppe_1102.txt\n",
      "Moved ppe_1322.txt → F:/coding_projects/datasets/CHV_dataset\\labels\\train\\ppe_1322.txt\n",
      "Moved ppe_0780.txt → F:/coding_projects/datasets/CHV_dataset\\labels\\train\\ppe_0780.txt\n",
      "Moved ppe_1088.txt → F:/coding_projects/datasets/CHV_dataset\\labels\\train\\ppe_1088.txt\n",
      "Moved ppe_0058.txt → F:/coding_projects/datasets/CHV_dataset\\labels\\train\\ppe_0058.txt\n",
      "Moved ppe_0126.txt → F:/coding_projects/datasets/CHV_dataset\\labels\\train\\ppe_0126.txt\n",
      "Moved ppe_0908.txt → F:/coding_projects/datasets/CHV_dataset\\labels\\train\\ppe_0908.txt\n",
      "Moved ppe_0990.txt → F:/coding_projects/datasets/CHV_dataset\\labels\\train\\ppe_0990.txt\n",
      "Moved ppe_0498.txt → F:/coding_projects/datasets/CHV_dataset\\labels\\train\\ppe_0498.txt\n",
      "Moved ppe_0767.txt → F:/coding_projects/datasets/CHV_dataset\\labels\\train\\ppe_0767.txt\n",
      "Moved ppe_0097.txt → F:/coding_projects/datasets/CHV_dataset\\labels\\train\\ppe_0097.txt\n",
      "Moved ppe_1268.txt → F:/coding_projects/datasets/CHV_dataset\\labels\\train\\ppe_1268.txt\n",
      "Moved ppe_0835.txt → F:/coding_projects/datasets/CHV_dataset\\labels\\train\\ppe_0835.txt\n",
      "Moved ppe_0696.txt → F:/coding_projects/datasets/CHV_dataset\\labels\\train\\ppe_0696.txt\n",
      "Moved ppe_0831.txt → F:/coding_projects/datasets/CHV_dataset\\labels\\train\\ppe_0831.txt\n",
      "Moved ppe_0217.txt → F:/coding_projects/datasets/CHV_dataset\\labels\\train\\ppe_0217.txt\n",
      "Moved ppe_0620.txt → F:/coding_projects/datasets/CHV_dataset\\labels\\train\\ppe_0620.txt\n",
      "Moved ppe_0918.txt → F:/coding_projects/datasets/CHV_dataset\\labels\\train\\ppe_0918.txt\n",
      "Moved ppe_0194.txt → F:/coding_projects/datasets/CHV_dataset\\labels\\train\\ppe_0194.txt\n",
      "Moved ppe_0219.txt → F:/coding_projects/datasets/CHV_dataset\\labels\\train\\ppe_0219.txt\n",
      "Moved ppe_0223.txt → F:/coding_projects/datasets/CHV_dataset\\labels\\train\\ppe_0223.txt\n",
      "Moved ppe_0525.txt → F:/coding_projects/datasets/CHV_dataset\\labels\\train\\ppe_0525.txt\n",
      "Moved ppe_0677.txt → F:/coding_projects/datasets/CHV_dataset\\labels\\train\\ppe_0677.txt\n",
      "Moved ppe_0953.txt → F:/coding_projects/datasets/CHV_dataset\\labels\\train\\ppe_0953.txt\n",
      "Moved ppe_0957.txt → F:/coding_projects/datasets/CHV_dataset\\labels\\train\\ppe_0957.txt\n",
      "Moved ppe_0297.txt → F:/coding_projects/datasets/CHV_dataset\\labels\\train\\ppe_0297.txt\n",
      "Moved ppe_1013.txt → F:/coding_projects/datasets/CHV_dataset\\labels\\train\\ppe_1013.txt\n",
      "Moved ppe_1228.txt → F:/coding_projects/datasets/CHV_dataset\\labels\\train\\ppe_1228.txt\n",
      "Moved ppe_0595.txt → F:/coding_projects/datasets/CHV_dataset\\labels\\train\\ppe_0595.txt\n",
      "Moved ppe_0378.txt → F:/coding_projects/datasets/CHV_dataset\\labels\\train\\ppe_0378.txt\n",
      "Moved ppe_1004.txt → F:/coding_projects/datasets/CHV_dataset\\labels\\train\\ppe_1004.txt\n",
      "Moved ppe_0789.txt → F:/coding_projects/datasets/CHV_dataset\\labels\\train\\ppe_0789.txt\n",
      "Moved ppe_0642.txt → F:/coding_projects/datasets/CHV_dataset\\labels\\train\\ppe_0642.txt\n",
      "Moved ppe_1279.txt → F:/coding_projects/datasets/CHV_dataset\\labels\\train\\ppe_1279.txt\n",
      "Moved ppe_0184.txt → F:/coding_projects/datasets/CHV_dataset\\labels\\train\\ppe_0184.txt\n",
      "Moved ppe_1186.txt → F:/coding_projects/datasets/CHV_dataset\\labels\\train\\ppe_1186.txt\n",
      "Moved ppe_1157.txt → F:/coding_projects/datasets/CHV_dataset\\labels\\train\\ppe_1157.txt\n",
      "Moved ppe_1198.txt → F:/coding_projects/datasets/CHV_dataset\\labels\\train\\ppe_1198.txt\n",
      "Moved ppe_0105.txt → F:/coding_projects/datasets/CHV_dataset\\labels\\train\\ppe_0105.txt\n",
      "Moved ppe_0368.txt → F:/coding_projects/datasets/CHV_dataset\\labels\\train\\ppe_0368.txt\n",
      "Moved ppe_0959.txt → F:/coding_projects/datasets/CHV_dataset\\labels\\train\\ppe_0959.txt\n",
      "Moved ppe_0914.txt → F:/coding_projects/datasets/CHV_dataset\\labels\\train\\ppe_0914.txt\n",
      "Moved ppe_1097.txt → F:/coding_projects/datasets/CHV_dataset\\labels\\train\\ppe_1097.txt\n",
      "Moved ppe_0423.txt → F:/coding_projects/datasets/CHV_dataset\\labels\\train\\ppe_0423.txt\n",
      "Moved ppe_0731.txt → F:/coding_projects/datasets/CHV_dataset\\labels\\train\\ppe_0731.txt\n",
      "Moved ppe_0216.txt → F:/coding_projects/datasets/CHV_dataset\\labels\\train\\ppe_0216.txt\n",
      "Moved ppe_0138.txt → F:/coding_projects/datasets/CHV_dataset\\labels\\train\\ppe_0138.txt\n",
      "Moved ppe_1206.txt → F:/coding_projects/datasets/CHV_dataset\\labels\\train\\ppe_1206.txt\n",
      "Moved ppe_0228.txt → F:/coding_projects/datasets/CHV_dataset\\labels\\train\\ppe_0228.txt\n",
      "Moved ppe_0546.txt → F:/coding_projects/datasets/CHV_dataset\\labels\\train\\ppe_0546.txt\n",
      "Moved ppe_0810.txt → F:/coding_projects/datasets/CHV_dataset\\labels\\train\\ppe_0810.txt\n",
      "Moved ppe_0406.txt → F:/coding_projects/datasets/CHV_dataset\\labels\\train\\ppe_0406.txt\n",
      "Moved ppe_0162.txt → F:/coding_projects/datasets/CHV_dataset\\labels\\train\\ppe_0162.txt\n",
      "Moved ppe_0521.txt → F:/coding_projects/datasets/CHV_dataset\\labels\\train\\ppe_0521.txt\n",
      "Moved ppe_0183.txt → F:/coding_projects/datasets/CHV_dataset\\labels\\train\\ppe_0183.txt\n",
      "Moved ppe_0513.txt → F:/coding_projects/datasets/CHV_dataset\\labels\\train\\ppe_0513.txt\n",
      "Moved ppe_0445.txt → F:/coding_projects/datasets/CHV_dataset\\labels\\train\\ppe_0445.txt\n",
      "Moved ppe_1108.txt → F:/coding_projects/datasets/CHV_dataset\\labels\\train\\ppe_1108.txt\n",
      "Moved ppe_1167.txt → F:/coding_projects/datasets/CHV_dataset\\labels\\train\\ppe_1167.txt\n",
      "Moved ppe_0307.txt → F:/coding_projects/datasets/CHV_dataset\\labels\\train\\ppe_0307.txt\n",
      "Moved ppe_1155.txt → F:/coding_projects/datasets/CHV_dataset\\labels\\train\\ppe_1155.txt\n",
      "Moved ppe_0733.txt → F:/coding_projects/datasets/CHV_dataset\\labels\\train\\ppe_0733.txt\n",
      "Moved ppe_0414.txt → F:/coding_projects/datasets/CHV_dataset\\labels\\train\\ppe_0414.txt\n",
      "Moved ppe_0151.txt → F:/coding_projects/datasets/CHV_dataset\\labels\\train\\ppe_0151.txt\n",
      "Moved ppe_0389.txt → F:/coding_projects/datasets/CHV_dataset\\labels\\train\\ppe_0389.txt\n",
      "Moved ppe_0855.txt → F:/coding_projects/datasets/CHV_dataset\\labels\\train\\ppe_0855.txt\n",
      "Moved ppe_0122.txt → F:/coding_projects/datasets/CHV_dataset\\labels\\train\\ppe_0122.txt\n",
      "Moved ppe_0263.txt → F:/coding_projects/datasets/CHV_dataset\\labels\\train\\ppe_0263.txt\n",
      "Moved ppe_0664.txt → F:/coding_projects/datasets/CHV_dataset\\labels\\train\\ppe_0664.txt\n",
      "Moved ppe_0795.txt → F:/coding_projects/datasets/CHV_dataset\\labels\\train\\ppe_0795.txt\n",
      "Moved ppe_1226.txt → F:/coding_projects/datasets/CHV_dataset\\labels\\train\\ppe_1226.txt\n",
      "Moved ppe_0299.txt → F:/coding_projects/datasets/CHV_dataset\\labels\\train\\ppe_0299.txt\n",
      "Moved ppe_1154.txt → F:/coding_projects/datasets/CHV_dataset\\labels\\train\\ppe_1154.txt\n",
      "Moved ppe_0419.txt → F:/coding_projects/datasets/CHV_dataset\\labels\\train\\ppe_0419.txt\n",
      "Moved ppe_0253.txt → F:/coding_projects/datasets/CHV_dataset\\labels\\train\\ppe_0253.txt\n",
      "Moved ppe_0695.txt → F:/coding_projects/datasets/CHV_dataset\\labels\\train\\ppe_0695.txt\n",
      "Moved ppe_0094.txt → F:/coding_projects/datasets/CHV_dataset\\labels\\train\\ppe_0094.txt\n",
      "Moved ppe_0269.txt → F:/coding_projects/datasets/CHV_dataset\\labels\\train\\ppe_0269.txt\n",
      "Moved ppe_0289.txt → F:/coding_projects/datasets/CHV_dataset\\labels\\train\\ppe_0289.txt\n",
      "Moved ppe_0792.txt → F:/coding_projects/datasets/CHV_dataset\\labels\\train\\ppe_0792.txt\n",
      "Moved ppe_0694.txt → F:/coding_projects/datasets/CHV_dataset\\labels\\train\\ppe_0694.txt\n",
      "Moved ppe_1168.txt → F:/coding_projects/datasets/CHV_dataset\\labels\\train\\ppe_1168.txt\n",
      "Moved ppe_0257.txt → F:/coding_projects/datasets/CHV_dataset\\labels\\train\\ppe_0257.txt\n",
      "Moved ppe_0056.txt → F:/coding_projects/datasets/CHV_dataset\\labels\\train\\ppe_0056.txt\n",
      "Moved ppe_0304.txt → F:/coding_projects/datasets/CHV_dataset\\labels\\train\\ppe_0304.txt\n",
      "Moved ppe_0766.txt → F:/coding_projects/datasets/CHV_dataset\\labels\\train\\ppe_0766.txt\n",
      "Moved ppe_0413.txt → F:/coding_projects/datasets/CHV_dataset\\labels\\train\\ppe_0413.txt\n",
      "Moved ppe_0911.txt → F:/coding_projects/datasets/CHV_dataset\\labels\\train\\ppe_0911.txt\n",
      "Moved ppe_0736.txt → F:/coding_projects/datasets/CHV_dataset\\labels\\train\\ppe_0736.txt\n",
      "Moved ppe_0233.txt → F:/coding_projects/datasets/CHV_dataset\\labels\\train\\ppe_0233.txt\n",
      "Moved ppe_0318.txt → F:/coding_projects/datasets/CHV_dataset\\labels\\train\\ppe_0318.txt\n",
      "Moved ppe_0402.txt → F:/coding_projects/datasets/CHV_dataset\\labels\\train\\ppe_0402.txt\n",
      "Moved ppe_0047.txt → F:/coding_projects/datasets/CHV_dataset\\labels\\train\\ppe_0047.txt\n",
      "Moved ppe_0651.txt → F:/coding_projects/datasets/CHV_dataset\\labels\\train\\ppe_0651.txt\n",
      "Moved ppe_0275.txt → F:/coding_projects/datasets/CHV_dataset\\labels\\train\\ppe_0275.txt\n",
      "Moved ppe_0386.txt → F:/coding_projects/datasets/CHV_dataset\\labels\\train\\ppe_0386.txt\n",
      "Moved ppe_0875.txt → F:/coding_projects/datasets/CHV_dataset\\labels\\train\\ppe_0875.txt\n",
      "Moved ppe_1056.txt → F:/coding_projects/datasets/CHV_dataset\\labels\\train\\ppe_1056.txt\n",
      "Moved ppe_0220.txt → F:/coding_projects/datasets/CHV_dataset\\labels\\train\\ppe_0220.txt\n",
      "Moved ppe_0997.txt → F:/coding_projects/datasets/CHV_dataset\\labels\\train\\ppe_0997.txt\n",
      "Moved ppe_0589.txt → F:/coding_projects/datasets/CHV_dataset\\labels\\train\\ppe_0589.txt\n",
      "Moved ppe_0808.txt → F:/coding_projects/datasets/CHV_dataset\\labels\\train\\ppe_0808.txt\n",
      "Moved ppe_0637.txt → F:/coding_projects/datasets/CHV_dataset\\labels\\train\\ppe_0637.txt\n",
      "Moved ppe_0737.txt → F:/coding_projects/datasets/CHV_dataset\\labels\\train\\ppe_0737.txt\n",
      "Moved ppe_0864.txt → F:/coding_projects/datasets/CHV_dataset\\labels\\train\\ppe_0864.txt\n",
      "Moved ppe_0941.txt → F:/coding_projects/datasets/CHV_dataset\\labels\\train\\ppe_0941.txt\n",
      "Moved ppe_0711.txt → F:/coding_projects/datasets/CHV_dataset\\labels\\train\\ppe_0711.txt\n",
      "Moved ppe_0840.txt → F:/coding_projects/datasets/CHV_dataset\\labels\\train\\ppe_0840.txt\n",
      "Moved ppe_0108.txt → F:/coding_projects/datasets/CHV_dataset\\labels\\train\\ppe_0108.txt\n",
      "Moved ppe_0992.txt → F:/coding_projects/datasets/CHV_dataset\\labels\\train\\ppe_0992.txt\n",
      "Moved ppe_0210.txt → F:/coding_projects/datasets/CHV_dataset\\labels\\train\\ppe_0210.txt\n",
      "Moved ppe_0656.txt → F:/coding_projects/datasets/CHV_dataset\\labels\\train\\ppe_0656.txt\n",
      "Moved ppe_0146.txt → F:/coding_projects/datasets/CHV_dataset\\labels\\train\\ppe_0146.txt\n",
      "Moved ppe_1026.txt → F:/coding_projects/datasets/CHV_dataset\\labels\\train\\ppe_1026.txt\n",
      "Moved ppe_0460.txt → F:/coding_projects/datasets/CHV_dataset\\labels\\train\\ppe_0460.txt\n",
      "Moved ppe_0657.txt → F:/coding_projects/datasets/CHV_dataset\\labels\\train\\ppe_0657.txt\n",
      "Moved ppe_0963.txt → F:/coding_projects/datasets/CHV_dataset\\labels\\train\\ppe_0963.txt\n",
      "Moved ppe_0045.txt → F:/coding_projects/datasets/CHV_dataset\\labels\\train\\ppe_0045.txt\n",
      "Moved ppe_1027.txt → F:/coding_projects/datasets/CHV_dataset\\labels\\train\\ppe_1027.txt\n",
      "Moved ppe_1135.txt → F:/coding_projects/datasets/CHV_dataset\\labels\\train\\ppe_1135.txt\n",
      "Moved ppe_0609.txt → F:/coding_projects/datasets/CHV_dataset\\labels\\train\\ppe_0609.txt\n",
      "Moved ppe_0712.txt → F:/coding_projects/datasets/CHV_dataset\\labels\\train\\ppe_0712.txt\n",
      "Moved ppe_1324.txt → F:/coding_projects/datasets/CHV_dataset\\labels\\train\\ppe_1324.txt\n",
      "Moved ppe_0655.txt → F:/coding_projects/datasets/CHV_dataset\\labels\\train\\ppe_0655.txt\n",
      "Moved ppe_0489.txt → F:/coding_projects/datasets/CHV_dataset\\labels\\train\\ppe_0489.txt\n",
      "Moved ppe_0859.txt → F:/coding_projects/datasets/CHV_dataset\\labels\\train\\ppe_0859.txt\n",
      "Moved ppe_1139.txt → F:/coding_projects/datasets/CHV_dataset\\labels\\train\\ppe_1139.txt\n",
      "Moved ppe_0066.txt → F:/coding_projects/datasets/CHV_dataset\\labels\\train\\ppe_0066.txt\n",
      "Moved ppe_0342.txt → F:/coding_projects/datasets/CHV_dataset\\labels\\train\\ppe_0342.txt\n",
      "Moved ppe_1080.txt → F:/coding_projects/datasets/CHV_dataset\\labels\\train\\ppe_1080.txt\n",
      "Moved ppe_0006.txt → F:/coding_projects/datasets/CHV_dataset\\labels\\train\\ppe_0006.txt\n",
      "Moved ppe_0675.txt → F:/coding_projects/datasets/CHV_dataset\\labels\\train\\ppe_0675.txt\n",
      "Moved ppe_1022.txt → F:/coding_projects/datasets/CHV_dataset\\labels\\train\\ppe_1022.txt\n",
      "Moved ppe_0814.txt → F:/coding_projects/datasets/CHV_dataset\\labels\\train\\ppe_0814.txt\n",
      "Moved ppe_0760.txt → F:/coding_projects/datasets/CHV_dataset\\labels\\train\\ppe_0760.txt\n",
      "Moved ppe_0704.txt → F:/coding_projects/datasets/CHV_dataset\\labels\\train\\ppe_0704.txt\n",
      "Moved ppe_0276.txt → F:/coding_projects/datasets/CHV_dataset\\labels\\train\\ppe_0276.txt\n",
      "Moved ppe_0870.txt → F:/coding_projects/datasets/CHV_dataset\\labels\\train\\ppe_0870.txt\n",
      "Moved ppe_0878.txt → F:/coding_projects/datasets/CHV_dataset\\labels\\train\\ppe_0878.txt\n",
      "Moved ppe_0361.txt → F:/coding_projects/datasets/CHV_dataset\\labels\\train\\ppe_0361.txt\n",
      "Moved ppe_0035.txt → F:/coding_projects/datasets/CHV_dataset\\labels\\train\\ppe_0035.txt\n",
      "Moved ppe_0101.txt → F:/coding_projects/datasets/CHV_dataset\\labels\\train\\ppe_0101.txt\n",
      "Moved ppe_0922.txt → F:/coding_projects/datasets/CHV_dataset\\labels\\train\\ppe_0922.txt\n",
      "Moved ppe_0905.txt → F:/coding_projects/datasets/CHV_dataset\\labels\\train\\ppe_0905.txt\n",
      "Moved ppe_0134.txt → F:/coding_projects/datasets/CHV_dataset\\labels\\train\\ppe_0134.txt\n",
      "Moved ppe_1196.txt → F:/coding_projects/datasets/CHV_dataset\\labels\\train\\ppe_1196.txt\n",
      "Moved ppe_0567.txt → F:/coding_projects/datasets/CHV_dataset\\labels\\train\\ppe_0567.txt\n",
      "Moved ppe_1259.txt → F:/coding_projects/datasets/CHV_dataset\\labels\\train\\ppe_1259.txt\n",
      "Moved ppe_1191.txt → F:/coding_projects/datasets/CHV_dataset\\labels\\train\\ppe_1191.txt\n",
      "Moved ppe_0879.txt → F:/coding_projects/datasets/CHV_dataset\\labels\\train\\ppe_0879.txt\n",
      "Moved ppe_0709.txt → F:/coding_projects/datasets/CHV_dataset\\labels\\train\\ppe_0709.txt\n",
      "Moved ppe_0866.txt → F:/coding_projects/datasets/CHV_dataset\\labels\\train\\ppe_0866.txt\n",
      "Moved ppe_0787.txt → F:/coding_projects/datasets/CHV_dataset\\labels\\train\\ppe_0787.txt\n",
      "Moved ppe_1220.txt → F:/coding_projects/datasets/CHV_dataset\\labels\\train\\ppe_1220.txt\n",
      "Moved ppe_0507.txt → F:/coding_projects/datasets/CHV_dataset\\labels\\train\\ppe_0507.txt\n",
      "Moved ppe_0703.txt → F:/coding_projects/datasets/CHV_dataset\\labels\\train\\ppe_0703.txt\n",
      "Moved ppe_0032.txt → F:/coding_projects/datasets/CHV_dataset\\labels\\train\\ppe_0032.txt\n",
      "Moved ppe_0250.txt → F:/coding_projects/datasets/CHV_dataset\\labels\\train\\ppe_0250.txt\n",
      "Moved ppe_1096.txt → F:/coding_projects/datasets/CHV_dataset\\labels\\train\\ppe_1096.txt\n",
      "Moved ppe_0029.txt → F:/coding_projects/datasets/CHV_dataset\\labels\\train\\ppe_0029.txt\n",
      "Moved ppe_1011.txt → F:/coding_projects/datasets/CHV_dataset\\labels\\train\\ppe_1011.txt\n",
      "Moved ppe_0895.txt → F:/coding_projects/datasets/CHV_dataset\\labels\\train\\ppe_0895.txt\n",
      "Moved ppe_1275.txt → F:/coding_projects/datasets/CHV_dataset\\labels\\train\\ppe_1275.txt\n",
      "Moved ppe_0973.txt → F:/coding_projects/datasets/CHV_dataset\\labels\\train\\ppe_0973.txt\n",
      "Moved ppe_0670.txt → F:/coding_projects/datasets/CHV_dataset\\labels\\train\\ppe_0670.txt\n",
      "Moved ppe_1233.txt → F:/coding_projects/datasets/CHV_dataset\\labels\\train\\ppe_1233.txt\n",
      "Moved ppe_0858.txt → F:/coding_projects/datasets/CHV_dataset\\labels\\train\\ppe_0858.txt\n",
      "Moved ppe_1046.txt → F:/coding_projects/datasets/CHV_dataset\\labels\\train\\ppe_1046.txt\n",
      "Moved ppe_0956.txt → F:/coding_projects/datasets/CHV_dataset\\labels\\train\\ppe_0956.txt\n",
      "Moved ppe_0924.txt → F:/coding_projects/datasets/CHV_dataset\\labels\\train\\ppe_0924.txt\n",
      "Moved ppe_1064.txt → F:/coding_projects/datasets/CHV_dataset\\labels\\train\\ppe_1064.txt\n",
      "Moved ppe_0775.txt → F:/coding_projects/datasets/CHV_dataset\\labels\\train\\ppe_0775.txt\n",
      "Moved ppe_1114.txt → F:/coding_projects/datasets/CHV_dataset\\labels\\train\\ppe_1114.txt\n",
      "Moved ppe_0783.txt → F:/coding_projects/datasets/CHV_dataset\\labels\\train\\ppe_0783.txt\n",
      "Moved ppe_0598.txt → F:/coding_projects/datasets/CHV_dataset\\labels\\train\\ppe_0598.txt\n",
      "Moved ppe_0093.txt → F:/coding_projects/datasets/CHV_dataset\\labels\\train\\ppe_0093.txt\n",
      "Moved ppe_0600.txt → F:/coding_projects/datasets/CHV_dataset\\labels\\train\\ppe_0600.txt\n",
      "Moved ppe_0486.txt → F:/coding_projects/datasets/CHV_dataset\\labels\\train\\ppe_0486.txt\n",
      "Moved ppe_0993.txt → F:/coding_projects/datasets/CHV_dataset\\labels\\train\\ppe_0993.txt\n",
      "Moved ppe_0910.txt → F:/coding_projects/datasets/CHV_dataset\\labels\\train\\ppe_0910.txt\n",
      "Moved ppe_1016.txt → F:/coding_projects/datasets/CHV_dataset\\labels\\train\\ppe_1016.txt\n",
      "Moved ppe_1274.txt → F:/coding_projects/datasets/CHV_dataset\\labels\\train\\ppe_1274.txt\n",
      "Moved ppe_0745.txt → F:/coding_projects/datasets/CHV_dataset\\labels\\train\\ppe_0745.txt\n",
      "Moved ppe_1319.txt → F:/coding_projects/datasets/CHV_dataset\\labels\\train\\ppe_1319.txt\n",
      "Moved ppe_1045.txt → F:/coding_projects/datasets/CHV_dataset\\labels\\train\\ppe_1045.txt\n",
      "Moved ppe_0786.txt → F:/coding_projects/datasets/CHV_dataset\\labels\\train\\ppe_0786.txt\n",
      "Moved ppe_0155.txt → F:/coding_projects/datasets/CHV_dataset\\labels\\train\\ppe_0155.txt\n",
      "Moved ppe_0008.txt → F:/coding_projects/datasets/CHV_dataset\\labels\\train\\ppe_0008.txt\n",
      "Moved ppe_0088.txt → F:/coding_projects/datasets/CHV_dataset\\labels\\train\\ppe_0088.txt\n",
      "Moved ppe_1184.txt → F:/coding_projects/datasets/CHV_dataset\\labels\\train\\ppe_1184.txt\n",
      "Moved ppe_0470.txt → F:/coding_projects/datasets/CHV_dataset\\labels\\train\\ppe_0470.txt\n",
      "Moved ppe_0074.txt → F:/coding_projects/datasets/CHV_dataset\\labels\\train\\ppe_0074.txt\n",
      "Moved ppe_0873.txt → F:/coding_projects/datasets/CHV_dataset\\labels\\train\\ppe_0873.txt\n",
      "Moved ppe_1055.txt → F:/coding_projects/datasets/CHV_dataset\\labels\\train\\ppe_1055.txt\n",
      "Moved ppe_0848.txt → F:/coding_projects/datasets/CHV_dataset\\labels\\train\\ppe_0848.txt\n",
      "Moved ppe_1104.txt → F:/coding_projects/datasets/CHV_dataset\\labels\\train\\ppe_1104.txt\n",
      "Moved ppe_0124.txt → F:/coding_projects/datasets/CHV_dataset\\labels\\train\\ppe_0124.txt\n",
      "Moved ppe_1269.txt → F:/coding_projects/datasets/CHV_dataset\\labels\\train\\ppe_1269.txt\n",
      "Moved ppe_0298.txt → F:/coding_projects/datasets/CHV_dataset\\labels\\train\\ppe_0298.txt\n",
      "Moved ppe_0416.txt → F:/coding_projects/datasets/CHV_dataset\\labels\\train\\ppe_0416.txt\n",
      "Moved ppe_0221.txt → F:/coding_projects/datasets/CHV_dataset\\labels\\train\\ppe_0221.txt\n",
      "Moved ppe_0017.txt → F:/coding_projects/datasets/CHV_dataset\\labels\\train\\ppe_0017.txt\n",
      "Moved ppe_1079.txt → F:/coding_projects/datasets/CHV_dataset\\labels\\train\\ppe_1079.txt\n",
      "Moved ppe_0937.txt → F:/coding_projects/datasets/CHV_dataset\\labels\\train\\ppe_0937.txt\n",
      "Moved ppe_0102.txt → F:/coding_projects/datasets/CHV_dataset\\labels\\train\\ppe_0102.txt\n",
      "Moved ppe_1068.txt → F:/coding_projects/datasets/CHV_dataset\\labels\\train\\ppe_1068.txt\n",
      "Moved ppe_0939.txt → F:/coding_projects/datasets/CHV_dataset\\labels\\train\\ppe_0939.txt\n",
      "Moved ppe_1040.txt → F:/coding_projects/datasets/CHV_dataset\\labels\\train\\ppe_1040.txt\n",
      "Moved ppe_0634.txt → F:/coding_projects/datasets/CHV_dataset\\labels\\train\\ppe_0634.txt\n",
      "Moved ppe_0454.txt → F:/coding_projects/datasets/CHV_dataset\\labels\\train\\ppe_0454.txt\n",
      "Moved ppe_0643.txt → F:/coding_projects/datasets/CHV_dataset\\labels\\train\\ppe_0643.txt\n",
      "Moved ppe_0793.txt → F:/coding_projects/datasets/CHV_dataset\\labels\\train\\ppe_0793.txt\n",
      "Moved ppe_1260.txt → F:/coding_projects/datasets/CHV_dataset\\labels\\train\\ppe_1260.txt\n",
      "Moved ppe_0610.txt → F:/coding_projects/datasets/CHV_dataset\\labels\\train\\ppe_0610.txt\n",
      "Moved ppe_1281.txt → F:/coding_projects/datasets/CHV_dataset\\labels\\train\\ppe_1281.txt\n",
      "Moved ppe_0111.txt → F:/coding_projects/datasets/CHV_dataset\\labels\\train\\ppe_0111.txt\n",
      "Moved ppe_1179.txt → F:/coding_projects/datasets/CHV_dataset\\labels\\train\\ppe_1179.txt\n",
      "Moved ppe_0978.txt → F:/coding_projects/datasets/CHV_dataset\\labels\\train\\ppe_0978.txt\n",
      "Moved ppe_0947.txt → F:/coding_projects/datasets/CHV_dataset\\labels\\train\\ppe_0947.txt\n",
      "Moved ppe_0192.txt → F:/coding_projects/datasets/CHV_dataset\\labels\\train\\ppe_0192.txt\n",
      "Moved ppe_1263.txt → F:/coding_projects/datasets/CHV_dataset\\labels\\train\\ppe_1263.txt\n",
      "Moved ppe_0804.txt → F:/coding_projects/datasets/CHV_dataset\\labels\\train\\ppe_0804.txt\n",
      "Moved ppe_1005.txt → F:/coding_projects/datasets/CHV_dataset\\labels\\train\\ppe_1005.txt\n",
      "Moved ppe_0550.txt → F:/coding_projects/datasets/CHV_dataset\\labels\\train\\ppe_0550.txt\n",
      "Moved ppe_0115.txt → F:/coding_projects/datasets/CHV_dataset\\labels\\train\\ppe_0115.txt\n",
      "Moved ppe_0458.txt → F:/coding_projects/datasets/CHV_dataset\\labels\\train\\ppe_0458.txt\n",
      "Moved ppe_0190.txt → F:/coding_projects/datasets/CHV_dataset\\labels\\train\\ppe_0190.txt\n",
      "Moved ppe_0246.txt → F:/coding_projects/datasets/CHV_dataset\\labels\\train\\ppe_0246.txt\n",
      "Moved ppe_0646.txt → F:/coding_projects/datasets/CHV_dataset\\labels\\train\\ppe_0646.txt\n",
      "Moved ppe_1081.txt → F:/coding_projects/datasets/CHV_dataset\\labels\\train\\ppe_1081.txt\n",
      "Moved ppe_0429.txt → F:/coding_projects/datasets/CHV_dataset\\labels\\train\\ppe_0429.txt\n",
      "Moved ppe_0850.txt → F:/coding_projects/datasets/CHV_dataset\\labels\\train\\ppe_0850.txt\n",
      "Moved ppe_0474.txt → F:/coding_projects/datasets/CHV_dataset\\labels\\train\\ppe_0474.txt\n",
      "Moved ppe_0548.txt → F:/coding_projects/datasets/CHV_dataset\\labels\\train\\ppe_0548.txt\n",
      "Moved ppe_0404.txt → F:/coding_projects/datasets/CHV_dataset\\labels\\train\\ppe_0404.txt\n",
      "Moved ppe_1093.txt → F:/coding_projects/datasets/CHV_dataset\\labels\\train\\ppe_1093.txt\n",
      "Moved ppe_0322.txt → F:/coding_projects/datasets/CHV_dataset\\labels\\train\\ppe_0322.txt\n",
      "Moved ppe_0892.txt → F:/coding_projects/datasets/CHV_dataset\\labels\\train\\ppe_0892.txt\n",
      "Moved ppe_0165.txt → F:/coding_projects/datasets/CHV_dataset\\labels\\train\\ppe_0165.txt\n",
      "Moved ppe_0813.txt → F:/coding_projects/datasets/CHV_dataset\\labels\\train\\ppe_0813.txt\n",
      "Moved ppe_0536.txt → F:/coding_projects/datasets/CHV_dataset\\labels\\train\\ppe_0536.txt\n",
      "Moved ppe_1101.txt → F:/coding_projects/datasets/CHV_dataset\\labels\\train\\ppe_1101.txt\n",
      "Moved ppe_0974.txt → F:/coding_projects/datasets/CHV_dataset\\labels\\train\\ppe_0974.txt\n",
      "Moved ppe_0845.txt → F:/coding_projects/datasets/CHV_dataset\\labels\\train\\ppe_0845.txt\n",
      "Moved ppe_0693.txt → F:/coding_projects/datasets/CHV_dataset\\labels\\train\\ppe_0693.txt\n",
      "Moved ppe_1083.txt → F:/coding_projects/datasets/CHV_dataset\\labels\\train\\ppe_1083.txt\n",
      "Moved ppe_0442.txt → F:/coding_projects/datasets/CHV_dataset\\labels\\train\\ppe_0442.txt\n",
      "Moved ppe_1074.txt → F:/coding_projects/datasets/CHV_dataset\\labels\\train\\ppe_1074.txt\n",
      "Moved ppe_0890.txt → F:/coding_projects/datasets/CHV_dataset\\labels\\train\\ppe_0890.txt\n",
      "Moved ppe_1126.txt → F:/coding_projects/datasets/CHV_dataset\\labels\\train\\ppe_1126.txt\n",
      "Moved ppe_1178.txt → F:/coding_projects/datasets/CHV_dataset\\labels\\train\\ppe_1178.txt\n",
      "Moved ppe_1197.txt → F:/coding_projects/datasets/CHV_dataset\\labels\\train\\ppe_1197.txt\n",
      "Moved ppe_0576.txt → F:/coding_projects/datasets/CHV_dataset\\labels\\train\\ppe_0576.txt\n",
      "Moved ppe_0931.txt → F:/coding_projects/datasets/CHV_dataset\\labels\\train\\ppe_0931.txt\n",
      "Moved ppe_0340.txt → F:/coding_projects/datasets/CHV_dataset\\labels\\train\\ppe_0340.txt\n",
      "Moved ppe_0770.txt → F:/coding_projects/datasets/CHV_dataset\\labels\\train\\ppe_0770.txt\n",
      "Moved ppe_1152.txt → F:/coding_projects/datasets/CHV_dataset\\labels\\train\\ppe_1152.txt\n",
      "Moved ppe_0092.txt → F:/coding_projects/datasets/CHV_dataset\\labels\\train\\ppe_0092.txt\n",
      "Moved ppe_0740.txt → F:/coding_projects/datasets/CHV_dataset\\labels\\train\\ppe_0740.txt\n",
      "Moved ppe_0319.txt → F:/coding_projects/datasets/CHV_dataset\\labels\\train\\ppe_0319.txt\n",
      "Moved ppe_0247.txt → F:/coding_projects/datasets/CHV_dataset\\labels\\train\\ppe_0247.txt\n",
      "Moved ppe_0100.txt → F:/coding_projects/datasets/CHV_dataset\\labels\\train\\ppe_0100.txt\n",
      "Moved ppe_0485.txt → F:/coding_projects/datasets/CHV_dataset\\labels\\train\\ppe_0485.txt\n",
      "Moved ppe_0338.txt → F:/coding_projects/datasets/CHV_dataset\\labels\\train\\ppe_0338.txt\n",
      "Moved ppe_0493.txt → F:/coding_projects/datasets/CHV_dataset\\labels\\train\\ppe_0493.txt\n",
      "Moved ppe_0988.txt → F:/coding_projects/datasets/CHV_dataset\\labels\\train\\ppe_0988.txt\n",
      "Moved ppe_0129.txt → F:/coding_projects/datasets/CHV_dataset\\labels\\train\\ppe_0129.txt\n",
      "Moved ppe_0951.txt → F:/coding_projects/datasets/CHV_dataset\\labels\\train\\ppe_0951.txt\n",
      "Moved ppe_1032.txt → F:/coding_projects/datasets/CHV_dataset\\labels\\train\\ppe_1032.txt\n",
      "Moved ppe_0075.txt → F:/coding_projects/datasets/CHV_dataset\\labels\\train\\ppe_0075.txt\n",
      "Moved ppe_0213.txt → F:/coding_projects/datasets/CHV_dataset\\labels\\train\\ppe_0213.txt\n",
      "Moved ppe_1153.txt → F:/coding_projects/datasets/CHV_dataset\\labels\\train\\ppe_1153.txt\n",
      "Moved ppe_0450.txt → F:/coding_projects/datasets/CHV_dataset\\labels\\train\\ppe_0450.txt\n",
      "Moved ppe_0422.txt → F:/coding_projects/datasets/CHV_dataset\\labels\\train\\ppe_0422.txt\n",
      "Moved ppe_1017.txt → F:/coding_projects/datasets/CHV_dataset\\labels\\train\\ppe_1017.txt\n",
      "Moved ppe_0980.txt → F:/coding_projects/datasets/CHV_dataset\\labels\\train\\ppe_0980.txt\n",
      "Moved ppe_1265.txt → F:/coding_projects/datasets/CHV_dataset\\labels\\train\\ppe_1265.txt\n",
      "Moved ppe_0015.txt → F:/coding_projects/datasets/CHV_dataset\\labels\\train\\ppe_0015.txt\n",
      "Moved ppe_1171.txt → F:/coding_projects/datasets/CHV_dataset\\labels\\train\\ppe_1171.txt\n",
      "Moved ppe_1314.txt → F:/coding_projects/datasets/CHV_dataset\\labels\\train\\ppe_1314.txt\n",
      "Moved ppe_0773.txt → F:/coding_projects/datasets/CHV_dataset\\labels\\train\\ppe_0773.txt\n",
      "Moved ppe_0232.txt → F:/coding_projects/datasets/CHV_dataset\\labels\\train\\ppe_0232.txt\n",
      "Moved ppe_0854.txt → F:/coding_projects/datasets/CHV_dataset\\labels\\train\\ppe_0854.txt\n",
      "Moved ppe_0684.txt → F:/coding_projects/datasets/CHV_dataset\\labels\\train\\ppe_0684.txt\n",
      "Moved ppe_0551.txt → F:/coding_projects/datasets/CHV_dataset\\labels\\train\\ppe_0551.txt\n",
      "Moved ppe_0248.txt → F:/coding_projects/datasets/CHV_dataset\\labels\\train\\ppe_0248.txt\n",
      "Moved ppe_0921.txt → F:/coding_projects/datasets/CHV_dataset\\labels\\train\\ppe_0921.txt\n",
      "Moved ppe_0692.txt → F:/coding_projects/datasets/CHV_dataset\\labels\\train\\ppe_0692.txt\n",
      "Moved ppe_1063.txt → F:/coding_projects/datasets/CHV_dataset\\labels\\train\\ppe_1063.txt\n",
      "Moved ppe_0966.txt → F:/coding_projects/datasets/CHV_dataset\\labels\\train\\ppe_0966.txt\n",
      "Moved ppe_0455.txt → F:/coding_projects/datasets/CHV_dataset\\labels\\train\\ppe_0455.txt\n",
      "Moved ppe_0916.txt → F:/coding_projects/datasets/CHV_dataset\\labels\\train\\ppe_0916.txt\n",
      "Moved ppe_0801.txt → F:/coding_projects/datasets/CHV_dataset\\labels\\train\\ppe_0801.txt\n",
      "Moved ppe_0334.txt → F:/coding_projects/datasets/CHV_dataset\\labels\\train\\ppe_0334.txt\n",
      "Moved ppe_0893.txt → F:/coding_projects/datasets/CHV_dataset\\labels\\train\\ppe_0893.txt\n",
      "Moved ppe_0227.txt → F:/coding_projects/datasets/CHV_dataset\\labels\\train\\ppe_0227.txt\n",
      "Moved ppe_0315.txt → F:/coding_projects/datasets/CHV_dataset\\labels\\train\\ppe_0315.txt\n",
      "Moved ppe_0159.txt → F:/coding_projects/datasets/CHV_dataset\\labels\\train\\ppe_0159.txt\n",
      "Moved ppe_0744.txt → F:/coding_projects/datasets/CHV_dataset\\labels\\train\\ppe_0744.txt\n",
      "Moved ppe_0950.txt → F:/coding_projects/datasets/CHV_dataset\\labels\\train\\ppe_0950.txt\n",
      "Moved ppe_0936.txt → F:/coding_projects/datasets/CHV_dataset\\labels\\train\\ppe_0936.txt\n",
      "Moved ppe_0007.txt → F:/coding_projects/datasets/CHV_dataset\\labels\\train\\ppe_0007.txt\n",
      "Moved ppe_0751.txt → F:/coding_projects/datasets/CHV_dataset\\labels\\train\\ppe_0751.txt\n",
      "Moved ppe_0320.txt → F:/coding_projects/datasets/CHV_dataset\\labels\\train\\ppe_0320.txt\n",
      "Moved ppe_1070.txt → F:/coding_projects/datasets/CHV_dataset\\labels\\train\\ppe_1070.txt\n",
      "Moved ppe_1299.txt → F:/coding_projects/datasets/CHV_dataset\\labels\\train\\ppe_1299.txt\n",
      "Moved ppe_0308.txt → F:/coding_projects/datasets/CHV_dataset\\labels\\train\\ppe_0308.txt\n",
      "Moved ppe_0290.txt → F:/coding_projects/datasets/CHV_dataset\\labels\\train\\ppe_0290.txt\n",
      "Moved ppe_0488.txt → F:/coding_projects/datasets/CHV_dataset\\labels\\train\\ppe_0488.txt\n",
      "Moved ppe_0144.txt → F:/coding_projects/datasets/CHV_dataset\\labels\\train\\ppe_0144.txt\n",
      "Moved ppe_0174.txt → F:/coding_projects/datasets/CHV_dataset\\labels\\train\\ppe_0174.txt\n",
      "Moved ppe_1234.txt → F:/coding_projects/datasets/CHV_dataset\\labels\\train\\ppe_1234.txt\n",
      "Moved ppe_0843.txt → F:/coding_projects/datasets/CHV_dataset\\labels\\train\\ppe_0843.txt\n",
      "Moved ppe_0279.txt → F:/coding_projects/datasets/CHV_dataset\\labels\\train\\ppe_0279.txt\n",
      "Moved ppe_0128.txt → F:/coding_projects/datasets/CHV_dataset\\labels\\train\\ppe_0128.txt\n",
      "Moved ppe_0557.txt → F:/coding_projects/datasets/CHV_dataset\\labels\\train\\ppe_0557.txt\n",
      "Moved ppe_0584.txt → F:/coding_projects/datasets/CHV_dataset\\labels\\train\\ppe_0584.txt\n",
      "Moved ppe_1107.txt → F:/coding_projects/datasets/CHV_dataset\\labels\\train\\ppe_1107.txt\n",
      "Moved ppe_0765.txt → F:/coding_projects/datasets/CHV_dataset\\labels\\train\\ppe_0765.txt\n",
      "Moved ppe_1136.txt → F:/coding_projects/datasets/CHV_dataset\\labels\\train\\ppe_1136.txt\n",
      "Moved ppe_0946.txt → F:/coding_projects/datasets/CHV_dataset\\labels\\train\\ppe_0946.txt\n",
      "Moved ppe_0491.txt → F:/coding_projects/datasets/CHV_dataset\\labels\\train\\ppe_0491.txt\n",
      "Moved ppe_0090.txt → F:/coding_projects/datasets/CHV_dataset\\labels\\train\\ppe_0090.txt\n",
      "Moved ppe_1124.txt → F:/coding_projects/datasets/CHV_dataset\\labels\\train\\ppe_1124.txt\n",
      "Moved ppe_1185.txt → F:/coding_projects/datasets/CHV_dataset\\labels\\train\\ppe_1185.txt\n",
      "Moved ppe_1232.txt → F:/coding_projects/datasets/CHV_dataset\\labels\\train\\ppe_1232.txt\n",
      "Moved ppe_1316.txt → F:/coding_projects/datasets/CHV_dataset\\labels\\train\\ppe_1316.txt\n",
      "Moved ppe_1100.txt → F:/coding_projects/datasets/CHV_dataset\\labels\\train\\ppe_1100.txt\n",
      "Moved ppe_1160.txt → F:/coding_projects/datasets/CHV_dataset\\labels\\train\\ppe_1160.txt\n",
      "Moved ppe_0907.txt → F:/coding_projects/datasets/CHV_dataset\\labels\\train\\ppe_0907.txt\n",
      "Moved ppe_1036.txt → F:/coding_projects/datasets/CHV_dataset\\labels\\train\\ppe_1036.txt\n",
      "Moved ppe_0063.txt → F:/coding_projects/datasets/CHV_dataset\\labels\\train\\ppe_0063.txt\n",
      "Moved ppe_1024.txt → F:/coding_projects/datasets/CHV_dataset\\labels\\train\\ppe_1024.txt\n",
      "Moved ppe_0607.txt → F:/coding_projects/datasets/CHV_dataset\\labels\\train\\ppe_0607.txt\n",
      "Moved ppe_1218.txt → F:/coding_projects/datasets/CHV_dataset\\labels\\train\\ppe_1218.txt\n",
      "Moved ppe_1057.txt → F:/coding_projects/datasets/CHV_dataset\\labels\\train\\ppe_1057.txt\n",
      "Moved ppe_0772.txt → F:/coding_projects/datasets/CHV_dataset\\labels\\train\\ppe_0772.txt\n",
      "Moved ppe_1067.txt → F:/coding_projects/datasets/CHV_dataset\\labels\\train\\ppe_1067.txt\n",
      "Moved ppe_1212.txt → F:/coding_projects/datasets/CHV_dataset\\labels\\train\\ppe_1212.txt\n",
      "Moved ppe_0886.txt → F:/coding_projects/datasets/CHV_dataset\\labels\\train\\ppe_0886.txt\n",
      "Moved ppe_0898.txt → F:/coding_projects/datasets/CHV_dataset\\labels\\train\\ppe_0898.txt\n",
      "Moved ppe_0316.txt → F:/coding_projects/datasets/CHV_dataset\\labels\\train\\ppe_0316.txt\n",
      "Moved ppe_0991.txt → F:/coding_projects/datasets/CHV_dataset\\labels\\train\\ppe_0991.txt\n",
      "Moved ppe_0271.txt → F:/coding_projects/datasets/CHV_dataset\\labels\\train\\ppe_0271.txt\n",
      "Moved ppe_1010.txt → F:/coding_projects/datasets/CHV_dataset\\labels\\train\\ppe_1010.txt\n",
      "Moved ppe_0288.txt → F:/coding_projects/datasets/CHV_dataset\\labels\\train\\ppe_0288.txt\n",
      "Moved ppe_0778.txt → F:/coding_projects/datasets/CHV_dataset\\labels\\train\\ppe_0778.txt\n",
      "Moved ppe_0189.txt → F:/coding_projects/datasets/CHV_dataset\\labels\\train\\ppe_0189.txt\n",
      "Moved ppe_0306.txt → F:/coding_projects/datasets/CHV_dataset\\labels\\train\\ppe_0306.txt\n",
      "Moved ppe_0494.txt → F:/coding_projects/datasets/CHV_dataset\\labels\\train\\ppe_0494.txt\n",
      "Moved ppe_0280.txt → F:/coding_projects/datasets/CHV_dataset\\labels\\train\\ppe_0280.txt\n",
      "Moved ppe_0541.txt → F:/coding_projects/datasets/CHV_dataset\\labels\\train\\ppe_0541.txt\n",
      "Moved ppe_0981.txt → F:/coding_projects/datasets/CHV_dataset\\labels\\train\\ppe_0981.txt\n",
      "Moved ppe_1224.txt → F:/coding_projects/datasets/CHV_dataset\\labels\\train\\ppe_1224.txt\n",
      "Moved ppe_1066.txt → F:/coding_projects/datasets/CHV_dataset\\labels\\train\\ppe_1066.txt\n",
      "Moved ppe_1048.txt → F:/coding_projects/datasets/CHV_dataset\\labels\\train\\ppe_1048.txt\n",
      "Moved ppe_0198.txt → F:/coding_projects/datasets/CHV_dataset\\labels\\train\\ppe_0198.txt\n",
      "Moved ppe_0060.txt → F:/coding_projects/datasets/CHV_dataset\\labels\\train\\ppe_0060.txt\n",
      "Moved ppe_0781.txt → F:/coding_projects/datasets/CHV_dataset\\labels\\train\\ppe_0781.txt\n",
      "Moved ppe_0355.txt → F:/coding_projects/datasets/CHV_dataset\\labels\\train\\ppe_0355.txt\n",
      "Moved ppe_0955.txt → F:/coding_projects/datasets/CHV_dataset\\labels\\train\\ppe_0955.txt\n",
      "Moved ppe_0925.txt → F:/coding_projects/datasets/CHV_dataset\\labels\\train\\ppe_0925.txt\n",
      "Moved ppe_0545.txt → F:/coding_projects/datasets/CHV_dataset\\labels\\train\\ppe_0545.txt\n",
      "Moved ppe_0961.txt → F:/coding_projects/datasets/CHV_dataset\\labels\\train\\ppe_0961.txt\n",
      "Moved ppe_0952.txt → F:/coding_projects/datasets/CHV_dataset\\labels\\train\\ppe_0952.txt\n",
      "Moved ppe_0300.txt → F:/coding_projects/datasets/CHV_dataset\\labels\\train\\ppe_0300.txt\n",
      "Moved ppe_0940.txt → F:/coding_projects/datasets/CHV_dataset\\labels\\train\\ppe_0940.txt\n",
      "Moved ppe_0011.txt → F:/coding_projects/datasets/CHV_dataset\\labels\\train\\ppe_0011.txt\n",
      "Moved ppe_0926.txt → F:/coding_projects/datasets/CHV_dataset\\labels\\train\\ppe_0926.txt\n",
      "Moved ppe_0091.txt → F:/coding_projects/datasets/CHV_dataset\\labels\\train\\ppe_0091.txt\n",
      "Moved ppe_0880.txt → F:/coding_projects/datasets/CHV_dataset\\labels\\train\\ppe_0880.txt\n",
      "Moved ppe_1159.txt → F:/coding_projects/datasets/CHV_dataset\\labels\\train\\ppe_1159.txt\n",
      "Moved ppe_0001.txt → F:/coding_projects/datasets/CHV_dataset\\labels\\train\\ppe_0001.txt\n",
      "Moved ppe_0226.txt → F:/coding_projects/datasets/CHV_dataset\\labels\\train\\ppe_0226.txt\n",
      "Moved ppe_0575.txt → F:/coding_projects/datasets/CHV_dataset\\labels\\train\\ppe_0575.txt\n",
      "Moved ppe_0417.txt → F:/coding_projects/datasets/CHV_dataset\\labels\\train\\ppe_0417.txt\n",
      "Moved ppe_0565.txt → F:/coding_projects/datasets/CHV_dataset\\labels\\train\\ppe_0565.txt\n",
      "Moved ppe_0331.txt → F:/coding_projects/datasets/CHV_dataset\\labels\\train\\ppe_0331.txt\n",
      "Moved ppe_1199.txt → F:/coding_projects/datasets/CHV_dataset\\labels\\train\\ppe_1199.txt\n",
      "Moved ppe_0110.txt → F:/coding_projects/datasets/CHV_dataset\\labels\\train\\ppe_0110.txt\n",
      "Moved ppe_1182.txt → F:/coding_projects/datasets/CHV_dataset\\labels\\train\\ppe_1182.txt\n",
      "Moved ppe_0218.txt → F:/coding_projects/datasets/CHV_dataset\\labels\\train\\ppe_0218.txt\n",
      "Moved ppe_1210.txt → F:/coding_projects/datasets/CHV_dataset\\labels\\train\\ppe_1210.txt\n",
      "Moved ppe_0587.txt → F:/coding_projects/datasets/CHV_dataset\\labels\\train\\ppe_0587.txt\n",
      "Moved ppe_0663.txt → F:/coding_projects/datasets/CHV_dataset\\labels\\train\\ppe_0663.txt\n",
      "Moved ppe_0109.txt → F:/coding_projects/datasets/CHV_dataset\\labels\\train\\ppe_0109.txt\n",
      "Moved ppe_0919.txt → F:/coding_projects/datasets/CHV_dataset\\labels\\train\\ppe_0919.txt\n",
      "Moved ppe_0730.txt → F:/coding_projects/datasets/CHV_dataset\\labels\\train\\ppe_0730.txt\n",
      "Moved ppe_0471.txt → F:/coding_projects/datasets/CHV_dataset\\labels\\train\\ppe_0471.txt\n",
      "Moved ppe_0452.txt → F:/coding_projects/datasets/CHV_dataset\\labels\\train\\ppe_0452.txt\n",
      "Moved ppe_0292.txt → F:/coding_projects/datasets/CHV_dataset\\labels\\train\\ppe_0292.txt\n",
      "Moved ppe_0081.txt → F:/coding_projects/datasets/CHV_dataset\\labels\\train\\ppe_0081.txt\n",
      "Moved ppe_0867.txt → F:/coding_projects/datasets/CHV_dataset\\labels\\train\\ppe_0867.txt\n",
      "Moved ppe_0805.txt → F:/coding_projects/datasets/CHV_dataset\\labels\\train\\ppe_0805.txt\n",
      "Moved ppe_1325.txt → F:/coding_projects/datasets/CHV_dataset\\labels\\train\\ppe_1325.txt\n",
      "Moved ppe_0382.txt → F:/coding_projects/datasets/CHV_dataset\\labels\\train\\ppe_0382.txt\n",
      "Moved ppe_0986.txt → F:/coding_projects/datasets/CHV_dataset\\labels\\train\\ppe_0986.txt\n",
      "Moved ppe_0644.txt → F:/coding_projects/datasets/CHV_dataset\\labels\\train\\ppe_0644.txt\n",
      "Moved ppe_0476.txt → F:/coding_projects/datasets/CHV_dataset\\labels\\train\\ppe_0476.txt\n",
      "Moved ppe_0798.txt → F:/coding_projects/datasets/CHV_dataset\\labels\\train\\ppe_0798.txt\n",
      "Moved ppe_1329.txt → F:/coding_projects/datasets/CHV_dataset\\labels\\train\\ppe_1329.txt\n",
      "Moved ppe_0061.txt → F:/coding_projects/datasets/CHV_dataset\\labels\\train\\ppe_0061.txt\n",
      "Moved ppe_0945.txt → F:/coding_projects/datasets/CHV_dataset\\labels\\train\\ppe_0945.txt\n",
      "Moved ppe_1021.txt → F:/coding_projects/datasets/CHV_dataset\\labels\\train\\ppe_1021.txt\n",
      "Moved ppe_0305.txt → F:/coding_projects/datasets/CHV_dataset\\labels\\train\\ppe_0305.txt\n",
      "Moved ppe_0344.txt → F:/coding_projects/datasets/CHV_dataset\\labels\\train\\ppe_0344.txt\n",
      "Moved ppe_1062.txt → F:/coding_projects/datasets/CHV_dataset\\labels\\train\\ppe_1062.txt\n",
      "Moved ppe_0096.txt → F:/coding_projects/datasets/CHV_dataset\\labels\\train\\ppe_0096.txt\n",
      "Moved ppe_0428.txt → F:/coding_projects/datasets/CHV_dataset\\labels\\train\\ppe_0428.txt\n",
      "Moved ppe_0673.txt → F:/coding_projects/datasets/CHV_dataset\\labels\\train\\ppe_0673.txt\n",
      "Moved ppe_0896.txt → F:/coding_projects/datasets/CHV_dataset\\labels\\train\\ppe_0896.txt\n",
      "Moved ppe_0748.txt → F:/coding_projects/datasets/CHV_dataset\\labels\\train\\ppe_0748.txt\n",
      "Moved ppe_0064.txt → F:/coding_projects/datasets/CHV_dataset\\labels\\train\\ppe_0064.txt\n",
      "Moved ppe_0354.txt → F:/coding_projects/datasets/CHV_dataset\\labels\\train\\ppe_0354.txt\n",
      "Moved ppe_0328.txt → F:/coding_projects/datasets/CHV_dataset\\labels\\train\\ppe_0328.txt\n",
      "Moved ppe_1110.txt → F:/coding_projects/datasets/CHV_dataset\\labels\\train\\ppe_1110.txt\n",
      "Moved ppe_0399.txt → F:/coding_projects/datasets/CHV_dataset\\labels\\train\\ppe_0399.txt\n",
      "Moved ppe_0834.txt → F:/coding_projects/datasets/CHV_dataset\\labels\\train\\ppe_0834.txt\n",
      "Moved ppe_0865.txt → F:/coding_projects/datasets/CHV_dataset\\labels\\train\\ppe_0865.txt\n",
      "Moved ppe_1255.txt → F:/coding_projects/datasets/CHV_dataset\\labels\\train\\ppe_1255.txt\n",
      "Moved ppe_0763.txt → F:/coding_projects/datasets/CHV_dataset\\labels\\train\\ppe_0763.txt\n",
      "Moved ppe_0026.txt → F:/coding_projects/datasets/CHV_dataset\\labels\\train\\ppe_0026.txt\n",
      "Moved ppe_1237.txt → F:/coding_projects/datasets/CHV_dataset\\labels\\train\\ppe_1237.txt\n",
      "Moved ppe_0562.txt → F:/coding_projects/datasets/CHV_dataset\\labels\\train\\ppe_0562.txt\n",
      "Moved ppe_0261.txt → F:/coding_projects/datasets/CHV_dataset\\labels\\train\\ppe_0261.txt\n",
      "Moved ppe_0942.txt → F:/coding_projects/datasets/CHV_dataset\\labels\\train\\ppe_0942.txt\n",
      "Moved ppe_0976.txt → F:/coding_projects/datasets/CHV_dataset\\labels\\train\\ppe_0976.txt\n",
      "Moved ppe_1138.txt → F:/coding_projects/datasets/CHV_dataset\\labels\\train\\ppe_1138.txt\n",
      "Moved ppe_0339.txt → F:/coding_projects/datasets/CHV_dataset\\labels\\train\\ppe_0339.txt\n",
      "Moved ppe_0401.txt → F:/coding_projects/datasets/CHV_dataset\\labels\\train\\ppe_0401.txt\n",
      "Moved ppe_0346.txt → F:/coding_projects/datasets/CHV_dataset\\labels\\train\\ppe_0346.txt\n",
      "Moved ppe_0049.txt → F:/coding_projects/datasets/CHV_dataset\\labels\\train\\ppe_0049.txt\n",
      "Moved ppe_1211.txt → F:/coding_projects/datasets/CHV_dataset\\labels\\train\\ppe_1211.txt\n",
      "Moved ppe_1166.txt → F:/coding_projects/datasets/CHV_dataset\\labels\\train\\ppe_1166.txt\n",
      "Moved ppe_1115.txt → F:/coding_projects/datasets/CHV_dataset\\labels\\train\\ppe_1115.txt\n",
      "Moved ppe_0863.txt → F:/coding_projects/datasets/CHV_dataset\\labels\\train\\ppe_0863.txt\n",
      "Moved ppe_0881.txt → F:/coding_projects/datasets/CHV_dataset\\labels\\train\\ppe_0881.txt\n",
      "Moved ppe_0341.txt → F:/coding_projects/datasets/CHV_dataset\\labels\\train\\ppe_0341.txt\n",
      "Moved ppe_0181.txt → F:/coding_projects/datasets/CHV_dataset\\labels\\train\\ppe_0181.txt\n",
      "Moved ppe_1276.txt → F:/coding_projects/datasets/CHV_dataset\\labels\\train\\ppe_1276.txt\n",
      "Moved ppe_1201.txt → F:/coding_projects/datasets/CHV_dataset\\labels\\train\\ppe_1201.txt\n",
      "Moved ppe_0287.txt → F:/coding_projects/datasets/CHV_dataset\\labels\\train\\ppe_0287.txt\n",
      "Moved ppe_1052.txt → F:/coding_projects/datasets/CHV_dataset\\labels\\train\\ppe_1052.txt\n",
      "Moved ppe_0152.txt → F:/coding_projects/datasets/CHV_dataset\\labels\\train\\ppe_0152.txt\n",
      "Moved ppe_0534.txt → F:/coding_projects/datasets/CHV_dataset\\labels\\train\\ppe_0534.txt\n",
      "Moved ppe_0078.txt → F:/coding_projects/datasets/CHV_dataset\\labels\\train\\ppe_0078.txt\n",
      "Moved ppe_0208.txt → F:/coding_projects/datasets/CHV_dataset\\labels\\train\\ppe_0208.txt\n",
      "Moved ppe_0500.txt → F:/coding_projects/datasets/CHV_dataset\\labels\\train\\ppe_0500.txt\n",
      "Moved ppe_1240.txt → F:/coding_projects/datasets/CHV_dataset\\labels\\train\\ppe_1240.txt\n",
      "Moved ppe_0215.txt → F:/coding_projects/datasets/CHV_dataset\\labels\\train\\ppe_0215.txt\n",
      "Moved ppe_0487.txt → F:/coding_projects/datasets/CHV_dataset\\labels\\train\\ppe_0487.txt\n",
      "Moved ppe_0139.txt → F:/coding_projects/datasets/CHV_dataset\\labels\\train\\ppe_0139.txt\n",
      "Moved ppe_0286.txt → F:/coding_projects/datasets/CHV_dataset\\labels\\train\\ppe_0286.txt\n",
      "Moved ppe_1283.txt → F:/coding_projects/datasets/CHV_dataset\\labels\\train\\ppe_1283.txt\n",
      "Moved ppe_1091.txt → F:/coding_projects/datasets/CHV_dataset\\labels\\train\\ppe_1091.txt\n",
      "Moved ppe_0462.txt → F:/coding_projects/datasets/CHV_dataset\\labels\\train\\ppe_0462.txt\n",
      "Moved ppe_0188.txt → F:/coding_projects/datasets/CHV_dataset\\labels\\train\\ppe_0188.txt\n",
      "Moved ppe_0728.txt → F:/coding_projects/datasets/CHV_dataset\\labels\\train\\ppe_0728.txt\n",
      "Moved ppe_0547.txt → F:/coding_projects/datasets/CHV_dataset\\labels\\train\\ppe_0547.txt\n",
      "Moved ppe_0819.txt → F:/coding_projects/datasets/CHV_dataset\\labels\\train\\ppe_0819.txt\n",
      "Moved ppe_1002.txt → F:/coding_projects/datasets/CHV_dataset\\labels\\train\\ppe_1002.txt\n",
      "Moved ppe_1256.txt → F:/coding_projects/datasets/CHV_dataset\\labels\\train\\ppe_1256.txt\n",
      "Moved ppe_0366.txt → F:/coding_projects/datasets/CHV_dataset\\labels\\train\\ppe_0366.txt\n",
      "Moved ppe_0127.txt → F:/coding_projects/datasets/CHV_dataset\\labels\\train\\ppe_0127.txt\n",
      "Moved ppe_0948.txt → F:/coding_projects/datasets/CHV_dataset\\labels\\train\\ppe_0948.txt\n",
      "Moved ppe_1041.txt → F:/coding_projects/datasets/CHV_dataset\\labels\\train\\ppe_1041.txt\n",
      "Moved ppe_0231.txt → F:/coding_projects/datasets/CHV_dataset\\labels\\train\\ppe_0231.txt\n",
      "Moved ppe_1194.txt → F:/coding_projects/datasets/CHV_dataset\\labels\\train\\ppe_1194.txt\n",
      "Moved ppe_0456.txt → F:/coding_projects/datasets/CHV_dataset\\labels\\train\\ppe_0456.txt\n",
      "Moved ppe_1054.txt → F:/coding_projects/datasets/CHV_dataset\\labels\\train\\ppe_1054.txt\n",
      "Moved ppe_0099.txt → F:/coding_projects/datasets/CHV_dataset\\labels\\train\\ppe_0099.txt\n",
      "Moved ppe_0913.txt → F:/coding_projects/datasets/CHV_dataset\\labels\\train\\ppe_0913.txt\n",
      "Moved ppe_0249.txt → F:/coding_projects/datasets/CHV_dataset\\labels\\train\\ppe_0249.txt\n",
      "Moved ppe_0593.txt → F:/coding_projects/datasets/CHV_dataset\\labels\\train\\ppe_0593.txt\n",
      "Moved ppe_0375.txt → F:/coding_projects/datasets/CHV_dataset\\labels\\train\\ppe_0375.txt\n",
      "Moved ppe_0639.txt → F:/coding_projects/datasets/CHV_dataset\\labels\\train\\ppe_0639.txt\n",
      "Moved ppe_0669.txt → F:/coding_projects/datasets/CHV_dataset\\labels\\train\\ppe_0669.txt\n",
      "Moved ppe_0027.txt → F:/coding_projects/datasets/CHV_dataset\\labels\\train\\ppe_0027.txt\n",
      "Moved ppe_1231.txt → F:/coding_projects/datasets/CHV_dataset\\labels\\train\\ppe_1231.txt\n",
      "Moved ppe_0930.txt → F:/coding_projects/datasets/CHV_dataset\\labels\\train\\ppe_0930.txt\n",
      "Moved ppe_1075.txt → F:/coding_projects/datasets/CHV_dataset\\labels\\train\\ppe_1075.txt\n",
      "Moved ppe_1142.txt → F:/coding_projects/datasets/CHV_dataset\\labels\\train\\ppe_1142.txt\n",
      "Moved ppe_0708.txt → F:/coding_projects/datasets/CHV_dataset\\labels\\train\\ppe_0708.txt\n",
      "Moved ppe_0374.txt → F:/coding_projects/datasets/CHV_dataset\\labels\\train\\ppe_0374.txt\n",
      "Moved ppe_1077.txt → F:/coding_projects/datasets/CHV_dataset\\labels\\train\\ppe_1077.txt\n",
      "Moved ppe_0196.txt → F:/coding_projects/datasets/CHV_dataset\\labels\\train\\ppe_0196.txt\n",
      "Moved ppe_0033.txt → F:/coding_projects/datasets/CHV_dataset\\labels\\train\\ppe_0033.txt\n",
      "Moved ppe_1188.txt → F:/coding_projects/datasets/CHV_dataset\\labels\\train\\ppe_1188.txt\n",
      "Moved ppe_1112.txt → F:/coding_projects/datasets/CHV_dataset\\labels\\train\\ppe_1112.txt\n",
      "Moved ppe_0495.txt → F:/coding_projects/datasets/CHV_dataset\\labels\\train\\ppe_0495.txt\n",
      "Moved ppe_0647.txt → F:/coding_projects/datasets/CHV_dataset\\labels\\train\\ppe_0647.txt\n",
      "Moved ppe_0407.txt → F:/coding_projects/datasets/CHV_dataset\\labels\\train\\ppe_0407.txt\n",
      "Moved ppe_0132.txt → F:/coding_projects/datasets/CHV_dataset\\labels\\train\\ppe_0132.txt\n",
      "Moved ppe_0242.txt → F:/coding_projects/datasets/CHV_dataset\\labels\\train\\ppe_0242.txt\n",
      "Moved ppe_0538.txt → F:/coding_projects/datasets/CHV_dataset\\labels\\train\\ppe_0538.txt\n",
      "Moved ppe_0349.txt → F:/coding_projects/datasets/CHV_dataset\\labels\\train\\ppe_0349.txt\n",
      "Moved ppe_0705.txt → F:/coding_projects/datasets/CHV_dataset\\labels\\train\\ppe_0705.txt\n",
      "Moved ppe_0582.txt → F:/coding_projects/datasets/CHV_dataset\\labels\\train\\ppe_0582.txt\n",
      "Moved ppe_0833.txt → F:/coding_projects/datasets/CHV_dataset\\labels\\train\\ppe_0833.txt\n",
      "Moved ppe_1222.txt → F:/coding_projects/datasets/CHV_dataset\\labels\\train\\ppe_1222.txt\n",
      "Moved ppe_0312.txt → F:/coding_projects/datasets/CHV_dataset\\labels\\train\\ppe_0312.txt\n",
      "Moved ppe_1007.txt → F:/coding_projects/datasets/CHV_dataset\\labels\\train\\ppe_1007.txt\n",
      "Moved ppe_0051.txt → F:/coding_projects/datasets/CHV_dataset\\labels\\train\\ppe_0051.txt\n",
      "Moved ppe_0449.txt → F:/coding_projects/datasets/CHV_dataset\\labels\\train\\ppe_0449.txt\n",
      "Moved ppe_0851.txt → F:/coding_projects/datasets/CHV_dataset\\labels\\train\\ppe_0851.txt\n",
      "Moved ppe_1282.txt → F:/coding_projects/datasets/CHV_dataset\\labels\\train\\ppe_1282.txt\n",
      "Moved ppe_0397.txt → F:/coding_projects/datasets/CHV_dataset\\labels\\train\\ppe_0397.txt\n",
      "Moved ppe_1243.txt → F:/coding_projects/datasets/CHV_dataset\\labels\\train\\ppe_1243.txt\n",
      "Moved ppe_1072.txt → F:/coding_projects/datasets/CHV_dataset\\labels\\train\\ppe_1072.txt\n",
      "Moved ppe_1084.txt → F:/coding_projects/datasets/CHV_dataset\\labels\\train\\ppe_1084.txt\n",
      "Moved ppe_0036.txt → F:/coding_projects/datasets/CHV_dataset\\labels\\train\\ppe_0036.txt\n",
      "Moved ppe_1089.txt → F:/coding_projects/datasets/CHV_dataset\\labels\\train\\ppe_1089.txt\n",
      "Moved ppe_1323.txt → F:/coding_projects/datasets/CHV_dataset\\labels\\train\\ppe_1323.txt\n",
      "Moved ppe_0314.txt → F:/coding_projects/datasets/CHV_dataset\\labels\\train\\ppe_0314.txt\n",
      "Moved ppe_0236.txt → F:/coding_projects/datasets/CHV_dataset\\labels\\train\\ppe_0236.txt\n",
      "Moved ppe_0337.txt → F:/coding_projects/datasets/CHV_dataset\\labels\\train\\ppe_0337.txt\n",
      "Moved ppe_1292.txt → F:/coding_projects/datasets/CHV_dataset\\labels\\train\\ppe_1292.txt\n",
      "Moved ppe_0113.txt → F:/coding_projects/datasets/CHV_dataset\\labels\\train\\ppe_0113.txt\n",
      "Moved ppe_1190.txt → F:/coding_projects/datasets/CHV_dataset\\labels\\train\\ppe_1190.txt\n",
      "Moved ppe_0262.txt → F:/coding_projects/datasets/CHV_dataset\\labels\\train\\ppe_0262.txt\n",
      "Moved ppe_0161.txt → F:/coding_projects/datasets/CHV_dataset\\labels\\train\\ppe_0161.txt\n",
      "Moved ppe_1038.txt → F:/coding_projects/datasets/CHV_dataset\\labels\\train\\ppe_1038.txt\n",
      "Moved ppe_0303.txt → F:/coding_projects/datasets/CHV_dataset\\labels\\train\\ppe_0303.txt\n",
      "Moved ppe_1310.txt → F:/coding_projects/datasets/CHV_dataset\\labels\\train\\ppe_1310.txt\n",
      "Moved ppe_0002.txt → F:/coding_projects/datasets/CHV_dataset\\labels\\train\\ppe_0002.txt\n",
      "Moved ppe_0519.txt → F:/coding_projects/datasets/CHV_dataset\\labels\\train\\ppe_0519.txt\n",
      "Moved ppe_0240.txt → F:/coding_projects/datasets/CHV_dataset\\labels\\train\\ppe_0240.txt\n",
      "Moved ppe_1246.txt → F:/coding_projects/datasets/CHV_dataset\\labels\\train\\ppe_1246.txt\n",
      "Moved ppe_0446.txt → F:/coding_projects/datasets/CHV_dataset\\labels\\train\\ppe_0446.txt\n",
      "Moved ppe_0252.txt → F:/coding_projects/datasets/CHV_dataset\\labels\\train\\ppe_0252.txt\n",
      "Moved ppe_0650.txt → F:/coding_projects/datasets/CHV_dataset\\labels\\train\\ppe_0650.txt\n",
      "Moved ppe_0073.txt → F:/coding_projects/datasets/CHV_dataset\\labels\\train\\ppe_0073.txt\n",
      "Moved ppe_0505.txt → F:/coding_projects/datasets/CHV_dataset\\labels\\train\\ppe_0505.txt\n",
      "Moved ppe_0912.txt → F:/coding_projects/datasets/CHV_dataset\\labels\\train\\ppe_0912.txt\n",
      "Moved ppe_0706.txt → F:/coding_projects/datasets/CHV_dataset\\labels\\train\\ppe_0706.txt\n",
      "Moved ppe_0983.txt → F:/coding_projects/datasets/CHV_dataset\\labels\\train\\ppe_0983.txt\n",
      "Moved ppe_0243.txt → F:/coding_projects/datasets/CHV_dataset\\labels\\train\\ppe_0243.txt\n",
      "Moved ppe_1252.txt → F:/coding_projects/datasets/CHV_dataset\\labels\\train\\ppe_1252.txt\n",
      "Moved ppe_0667.txt → F:/coding_projects/datasets/CHV_dataset\\labels\\train\\ppe_0667.txt\n",
      "Moved ppe_0707.txt → F:/coding_projects/datasets/CHV_dataset\\labels\\train\\ppe_0707.txt\n",
      "Moved ppe_0420.txt → F:/coding_projects/datasets/CHV_dataset\\labels\\train\\ppe_0420.txt\n",
      "Moved ppe_0137.txt → F:/coding_projects/datasets/CHV_dataset\\labels\\train\\ppe_0137.txt\n",
      "Moved ppe_0894.txt → F:/coding_projects/datasets/CHV_dataset\\labels\\train\\ppe_0894.txt\n",
      "Moved ppe_0671.txt → F:/coding_projects/datasets/CHV_dataset\\labels\\train\\ppe_0671.txt\n",
      "Moved ppe_0615.txt → F:/coding_projects/datasets/CHV_dataset\\labels\\train\\ppe_0615.txt\n",
      "Moved ppe_0827.txt → F:/coding_projects/datasets/CHV_dataset\\labels\\train\\ppe_0827.txt\n",
      "Moved ppe_1253.txt → F:/coding_projects/datasets/CHV_dataset\\labels\\train\\ppe_1253.txt\n",
      "Moved ppe_1030.txt → F:/coding_projects/datasets/CHV_dataset\\labels\\train\\ppe_1030.txt\n",
      "Moved ppe_0065.txt → F:/coding_projects/datasets/CHV_dataset\\labels\\train\\ppe_0065.txt\n",
      "Moved ppe_0055.txt → F:/coding_projects/datasets/CHV_dataset\\labels\\train\\ppe_0055.txt\n",
      "Moved ppe_0467.txt → F:/coding_projects/datasets/CHV_dataset\\labels\\train\\ppe_0467.txt\n",
      "Moved ppe_0203.txt → F:/coding_projects/datasets/CHV_dataset\\labels\\train\\ppe_0203.txt\n",
      "Moved ppe_0156.txt → F:/coding_projects/datasets/CHV_dataset\\labels\\train\\ppe_0156.txt\n",
      "Moved ppe_0158.txt → F:/coding_projects/datasets/CHV_dataset\\labels\\train\\ppe_0158.txt\n",
      "Moved ppe_0396.txt → F:/coding_projects/datasets/CHV_dataset\\labels\\train\\ppe_0396.txt\n",
      "Moved ppe_0023.txt → F:/coding_projects/datasets/CHV_dataset\\labels\\train\\ppe_0023.txt\n",
      "Moved ppe_0944.txt → F:/coding_projects/datasets/CHV_dataset\\labels\\train\\ppe_0944.txt\n",
      "Moved ppe_0239.txt → F:/coding_projects/datasets/CHV_dataset\\labels\\train\\ppe_0239.txt\n",
      "Moved ppe_0457.txt → F:/coding_projects/datasets/CHV_dataset\\labels\\train\\ppe_0457.txt\n",
      "Moved ppe_0234.txt → F:/coding_projects/datasets/CHV_dataset\\labels\\train\\ppe_0234.txt\n",
      "Moved ppe_0860.txt → F:/coding_projects/datasets/CHV_dataset\\labels\\train\\ppe_0860.txt\n",
      "Moved ppe_0719.txt → F:/coding_projects/datasets/CHV_dataset\\labels\\train\\ppe_0719.txt\n",
      "Moved ppe_1267.txt → F:/coding_projects/datasets/CHV_dataset\\labels\\train\\ppe_1267.txt\n",
      "Moved ppe_1161.txt → F:/coding_projects/datasets/CHV_dataset\\labels\\train\\ppe_1161.txt\n",
      "Moved ppe_0632.txt → F:/coding_projects/datasets/CHV_dataset\\labels\\train\\ppe_0632.txt\n",
      "Moved ppe_0797.txt → F:/coding_projects/datasets/CHV_dataset\\labels\\train\\ppe_0797.txt\n",
      "Moved ppe_1028.txt → F:/coding_projects/datasets/CHV_dataset\\labels\\train\\ppe_1028.txt\n",
      "Moved ppe_0906.txt → F:/coding_projects/datasets/CHV_dataset\\labels\\train\\ppe_0906.txt\n",
      "Moved ppe_1043.txt → F:/coding_projects/datasets/CHV_dataset\\labels\\train\\ppe_1043.txt\n",
      "Moved ppe_0053.txt → F:/coding_projects/datasets/CHV_dataset\\labels\\train\\ppe_0053.txt\n",
      "Moved ppe_0739.txt → F:/coding_projects/datasets/CHV_dataset\\labels\\train\\ppe_0739.txt\n",
      "Moved ppe_0602.txt → F:/coding_projects/datasets/CHV_dataset\\labels\\train\\ppe_0602.txt\n",
      "Moved ppe_0585.txt → F:/coding_projects/datasets/CHV_dataset\\labels\\train\\ppe_0585.txt\n",
      "Moved ppe_0522.txt → F:/coding_projects/datasets/CHV_dataset\\labels\\train\\ppe_0522.txt\n",
      "Moved ppe_0571.txt → F:/coding_projects/datasets/CHV_dataset\\labels\\train\\ppe_0571.txt\n",
      "Moved ppe_1149.txt → F:/coding_projects/datasets/CHV_dataset\\labels\\train\\ppe_1149.txt\n",
      "Moved ppe_1118.txt → F:/coding_projects/datasets/CHV_dataset\\labels\\train\\ppe_1118.txt\n",
      "Moved ppe_1129.txt → F:/coding_projects/datasets/CHV_dataset\\labels\\train\\ppe_1129.txt\n",
      "Moved ppe_0472.txt → F:/coding_projects/datasets/CHV_dataset\\labels\\train\\ppe_0472.txt\n",
      "Moved ppe_0291.txt → F:/coding_projects/datasets/CHV_dataset\\labels\\train\\ppe_0291.txt\n",
      "Moved ppe_1309.txt → F:/coding_projects/datasets/CHV_dataset\\labels\\train\\ppe_1309.txt\n",
      "Moved ppe_0267.txt → F:/coding_projects/datasets/CHV_dataset\\labels\\train\\ppe_0267.txt\n",
      "Moved ppe_1202.txt → F:/coding_projects/datasets/CHV_dataset\\labels\\train\\ppe_1202.txt\n",
      "Moved ppe_0820.txt → F:/coding_projects/datasets/CHV_dataset\\labels\\train\\ppe_0820.txt\n",
      "Moved ppe_0825.txt → F:/coding_projects/datasets/CHV_dataset\\labels\\train\\ppe_0825.txt\n",
      "Moved ppe_0512.txt → F:/coding_projects/datasets/CHV_dataset\\labels\\train\\ppe_0512.txt\n",
      "Moved ppe_0461.txt → F:/coding_projects/datasets/CHV_dataset\\labels\\train\\ppe_0461.txt\n",
      "Moved ppe_1078.txt → F:/coding_projects/datasets/CHV_dataset\\labels\\train\\ppe_1078.txt\n",
      "Moved ppe_0459.txt → F:/coding_projects/datasets/CHV_dataset\\labels\\train\\ppe_0459.txt\n",
      "Moved ppe_1173.txt → F:/coding_projects/datasets/CHV_dataset\\labels\\train\\ppe_1173.txt\n",
      "Moved ppe_1215.txt → F:/coding_projects/datasets/CHV_dataset\\labels\\train\\ppe_1215.txt\n",
      "Moved ppe_0800.txt → F:/coding_projects/datasets/CHV_dataset\\labels\\train\\ppe_0800.txt\n",
      "Moved ppe_0186.txt → F:/coding_projects/datasets/CHV_dataset\\labels\\train\\ppe_0186.txt\n",
      "Moved ppe_0779.txt → F:/coding_projects/datasets/CHV_dataset\\labels\\train\\ppe_0779.txt\n",
      "Moved ppe_0996.txt → F:/coding_projects/datasets/CHV_dataset\\labels\\train\\ppe_0996.txt\n",
      "Moved ppe_0178.txt → F:/coding_projects/datasets/CHV_dataset\\labels\\train\\ppe_0178.txt\n",
      "Moved ppe_0039.txt → F:/coding_projects/datasets/CHV_dataset\\labels\\train\\ppe_0039.txt\n",
      "Moved ppe_0553.txt → F:/coding_projects/datasets/CHV_dataset\\labels\\train\\ppe_0553.txt\n",
      "Moved ppe_0398.txt → F:/coding_projects/datasets/CHV_dataset\\labels\\train\\ppe_0398.txt\n",
      "Moved ppe_0145.txt → F:/coding_projects/datasets/CHV_dataset\\labels\\train\\ppe_0145.txt\n",
      "Moved ppe_0466.txt → F:/coding_projects/datasets/CHV_dataset\\labels\\train\\ppe_0466.txt\n",
      "Moved ppe_1019.txt → F:/coding_projects/datasets/CHV_dataset\\labels\\train\\ppe_1019.txt\n",
      "Moved ppe_0839.txt → F:/coding_projects/datasets/CHV_dataset\\labels\\train\\ppe_0839.txt\n",
      "Moved ppe_1130.txt → F:/coding_projects/datasets/CHV_dataset\\labels\\train\\ppe_1130.txt\n",
      "Moved ppe_0816.txt → F:/coding_projects/datasets/CHV_dataset\\labels\\train\\ppe_0816.txt\n",
      "Moved ppe_0570.txt → F:/coding_projects/datasets/CHV_dataset\\labels\\train\\ppe_0570.txt\n",
      "Moved ppe_0626.txt → F:/coding_projects/datasets/CHV_dataset\\labels\\train\\ppe_0626.txt\n",
      "Moved ppe_0323.txt → F:/coding_projects/datasets/CHV_dataset\\labels\\train\\ppe_0323.txt\n",
      "Moved ppe_0654.txt → F:/coding_projects/datasets/CHV_dataset\\labels\\train\\ppe_0654.txt\n",
      "Moved ppe_0721.txt → F:/coding_projects/datasets/CHV_dataset\\labels\\train\\ppe_0721.txt\n",
      "Moved ppe_0506.txt → F:/coding_projects/datasets/CHV_dataset\\labels\\train\\ppe_0506.txt\n",
      "Moved ppe_1092.txt → F:/coding_projects/datasets/CHV_dataset\\labels\\train\\ppe_1092.txt\n",
      "Moved ppe_0938.txt → F:/coding_projects/datasets/CHV_dataset\\labels\\train\\ppe_0938.txt\n",
      "Moved ppe_1061.txt → F:/coding_projects/datasets/CHV_dataset\\labels\\train\\ppe_1061.txt\n",
      "Moved ppe_0343.txt → F:/coding_projects/datasets/CHV_dataset\\labels\\train\\ppe_0343.txt\n",
      "Moved ppe_0616.txt → F:/coding_projects/datasets/CHV_dataset\\labels\\train\\ppe_0616.txt\n",
      "Moved ppe_1109.txt → F:/coding_projects/datasets/CHV_dataset\\labels\\train\\ppe_1109.txt\n",
      "Moved ppe_0882.txt → F:/coding_projects/datasets/CHV_dataset\\labels\\train\\ppe_0882.txt\n",
      "Moved ppe_0351.txt → F:/coding_projects/datasets/CHV_dataset\\labels\\train\\ppe_0351.txt\n",
      "Moved ppe_0453.txt → F:/coding_projects/datasets/CHV_dataset\\labels\\train\\ppe_0453.txt\n",
      "Moved ppe_0812.txt → F:/coding_projects/datasets/CHV_dataset\\labels\\train\\ppe_0812.txt\n",
      "Moved ppe_0611.txt → F:/coding_projects/datasets/CHV_dataset\\labels\\train\\ppe_0611.txt\n",
      "Moved ppe_0496.txt → F:/coding_projects/datasets/CHV_dataset\\labels\\train\\ppe_0496.txt\n",
      "Moved ppe_1145.txt → F:/coding_projects/datasets/CHV_dataset\\labels\\train\\ppe_1145.txt\n",
      "Moved ppe_1123.txt → F:/coding_projects/datasets/CHV_dataset\\labels\\train\\ppe_1123.txt\n",
      "Moved ppe_0532.txt → F:/coding_projects/datasets/CHV_dataset\\labels\\train\\ppe_0532.txt\n",
      "Moved ppe_0503.txt → F:/coding_projects/datasets/CHV_dataset\\labels\\train\\ppe_0503.txt\n",
      "Moved ppe_0054.txt → F:/coding_projects/datasets/CHV_dataset\\labels\\train\\ppe_0054.txt\n",
      "Moved ppe_1214.txt → F:/coding_projects/datasets/CHV_dataset\\labels\\train\\ppe_1214.txt\n",
      "Moved ppe_1326.txt → F:/coding_projects/datasets/CHV_dataset\\labels\\train\\ppe_1326.txt\n",
      "Moved ppe_0531.txt → F:/coding_projects/datasets/CHV_dataset\\labels\\train\\ppe_0531.txt\n",
      "Moved ppe_0613.txt → F:/coding_projects/datasets/CHV_dataset\\labels\\train\\ppe_0613.txt\n",
      "Moved ppe_0753.txt → F:/coding_projects/datasets/CHV_dataset\\labels\\train\\ppe_0753.txt\n",
      "Moved ppe_0510.txt → F:/coding_projects/datasets/CHV_dataset\\labels\\train\\ppe_0510.txt\n",
      "Moved ppe_0558.txt → F:/coding_projects/datasets/CHV_dataset\\labels\\train\\ppe_0558.txt\n",
      "Moved ppe_1187.txt → F:/coding_projects/datasets/CHV_dataset\\labels\\train\\ppe_1187.txt\n",
      "Moved ppe_1254.txt → F:/coding_projects/datasets/CHV_dataset\\labels\\train\\ppe_1254.txt\n",
      "Moved ppe_0268.txt → F:/coding_projects/datasets/CHV_dataset\\labels\\train\\ppe_0268.txt\n",
      "Moved ppe_0347.txt → F:/coding_projects/datasets/CHV_dataset\\labels\\train\\ppe_0347.txt\n",
      "Moved ppe_0393.txt → F:/coding_projects/datasets/CHV_dataset\\labels\\train\\ppe_0393.txt\n",
      "Moved ppe_0619.txt → F:/coding_projects/datasets/CHV_dataset\\labels\\train\\ppe_0619.txt\n",
      "Moved ppe_0923.txt → F:/coding_projects/datasets/CHV_dataset\\labels\\train\\ppe_0923.txt\n",
      "Moved ppe_0000.txt → F:/coding_projects/datasets/CHV_dataset\\labels\\train\\ppe_0000.txt\n",
      "Moved ppe_0989.txt → F:/coding_projects/datasets/CHV_dataset\\labels\\train\\ppe_0989.txt\n",
      "Moved ppe_0436.txt → F:/coding_projects/datasets/CHV_dataset\\labels\\train\\ppe_0436.txt\n",
      "Moved ppe_0285.txt → F:/coding_projects/datasets/CHV_dataset\\labels\\train\\ppe_0285.txt\n",
      "Moved ppe_0803.txt → F:/coding_projects/datasets/CHV_dataset\\labels\\train\\ppe_0803.txt\n",
      "Moved ppe_0424.txt → F:/coding_projects/datasets/CHV_dataset\\labels\\train\\ppe_0424.txt\n",
      "Moved ppe_0746.txt → F:/coding_projects/datasets/CHV_dataset\\labels\\train\\ppe_0746.txt\n",
      "Moved ppe_1245.txt → F:/coding_projects/datasets/CHV_dataset\\labels\\train\\ppe_1245.txt\n",
      "Moved ppe_1086.txt → F:/coding_projects/datasets/CHV_dataset\\labels\\train\\ppe_1086.txt\n",
      "Moved ppe_1278.txt → F:/coding_projects/datasets/CHV_dataset\\labels\\train\\ppe_1278.txt\n",
      "Moved ppe_0296.txt → F:/coding_projects/datasets/CHV_dataset\\labels\\train\\ppe_0296.txt\n",
      "Moved ppe_0130.txt → F:/coding_projects/datasets/CHV_dataset\\labels\\train\\ppe_0130.txt\n",
      "Moved ppe_0658.txt → F:/coding_projects/datasets/CHV_dataset\\labels\\train\\ppe_0658.txt\n",
      "Moved ppe_0209.txt → F:/coding_projects/datasets/CHV_dataset\\labels\\train\\ppe_0209.txt\n",
      "Moved ppe_0802.txt → F:/coding_projects/datasets/CHV_dataset\\labels\\train\\ppe_0802.txt\n",
      "Moved ppe_0169.txt → F:/coding_projects/datasets/CHV_dataset\\labels\\train\\ppe_0169.txt\n",
      "Moved ppe_1169.txt → F:/coding_projects/datasets/CHV_dataset\\labels\\train\\ppe_1169.txt\n",
      "Moved ppe_1213.txt → F:/coding_projects/datasets/CHV_dataset\\labels\\train\\ppe_1213.txt\n",
      "Moved ppe_0742.txt → F:/coding_projects/datasets/CHV_dataset\\labels\\train\\ppe_0742.txt\n",
      "Moved ppe_1031.txt → F:/coding_projects/datasets/CHV_dataset\\labels\\train\\ppe_1031.txt\n",
      "Moved ppe_0207.txt → F:/coding_projects/datasets/CHV_dataset\\labels\\train\\ppe_0207.txt\n",
      "Moved ppe_0995.txt → F:/coding_projects/datasets/CHV_dataset\\labels\\train\\ppe_0995.txt\n",
      "Moved ppe_0871.txt → F:/coding_projects/datasets/CHV_dataset\\labels\\train\\ppe_0871.txt\n",
      "Moved ppe_0544.txt → F:/coding_projects/datasets/CHV_dataset\\labels\\train\\ppe_0544.txt\n",
      "Moved ppe_0448.txt → F:/coding_projects/datasets/CHV_dataset\\labels\\train\\ppe_0448.txt\n",
      "Moved ppe_0012.txt → F:/coding_projects/datasets/CHV_dataset\\labels\\train\\ppe_0012.txt\n",
      "Moved ppe_0427.txt → F:/coding_projects/datasets/CHV_dataset\\labels\\train\\ppe_0427.txt\n",
      "Moved ppe_0086.txt → F:/coding_projects/datasets/CHV_dataset\\labels\\train\\ppe_0086.txt\n",
      "Moved ppe_0999.txt → F:/coding_projects/datasets/CHV_dataset\\labels\\train\\ppe_0999.txt\n",
      "Moved ppe_1051.txt → F:/coding_projects/datasets/CHV_dataset\\labels\\train\\ppe_1051.txt\n",
      "Moved ppe_0251.txt → F:/coding_projects/datasets/CHV_dataset\\labels\\train\\ppe_0251.txt\n",
      "Moved ppe_0473.txt → F:/coding_projects/datasets/CHV_dataset\\labels\\train\\ppe_0473.txt\n",
      "Moved ppe_0440.txt → F:/coding_projects/datasets/CHV_dataset\\labels\\train\\ppe_0440.txt\n",
      "Moved ppe_1195.txt → F:/coding_projects/datasets/CHV_dataset\\labels\\train\\ppe_1195.txt\n",
      "Moved ppe_0900.txt → F:/coding_projects/datasets/CHV_dataset\\labels\\train\\ppe_0900.txt\n",
      "Moved ppe_0734.txt → F:/coding_projects/datasets/CHV_dataset\\labels\\train\\ppe_0734.txt\n",
      "Moved ppe_1284.txt → F:/coding_projects/datasets/CHV_dataset\\labels\\train\\ppe_1284.txt\n",
      "Moved ppe_0514.txt → F:/coding_projects/datasets/CHV_dataset\\labels\\train\\ppe_0514.txt\n",
      "Moved ppe_0415.txt → F:/coding_projects/datasets/CHV_dataset\\labels\\train\\ppe_0415.txt\n",
      "Moved ppe_1175.txt → F:/coding_projects/datasets/CHV_dataset\\labels\\train\\ppe_1175.txt\n",
      "Moved ppe_1037.txt → F:/coding_projects/datasets/CHV_dataset\\labels\\train\\ppe_1037.txt\n",
      "Moved ppe_0441.txt → F:/coding_projects/datasets/CHV_dataset\\labels\\train\\ppe_0441.txt\n",
      "Moved ppe_0676.txt → F:/coding_projects/datasets/CHV_dataset\\labels\\train\\ppe_0676.txt\n",
      "Moved ppe_0301.txt → F:/coding_projects/datasets/CHV_dataset\\labels\\train\\ppe_0301.txt\n",
      "Moved ppe_0599.txt → F:/coding_projects/datasets/CHV_dataset\\labels\\train\\ppe_0599.txt\n",
      "Moved ppe_0235.txt → F:/coding_projects/datasets/CHV_dataset\\labels\\train\\ppe_0235.txt\n",
      "Moved ppe_1095.txt → F:/coding_projects/datasets/CHV_dataset\\labels\\train\\ppe_1095.txt\n",
      "Moved ppe_1009.txt → F:/coding_projects/datasets/CHV_dataset\\labels\\train\\ppe_1009.txt\n",
      "Moved ppe_0680.txt → F:/coding_projects/datasets/CHV_dataset\\labels\\train\\ppe_0680.txt\n",
      "Moved ppe_1000.txt → F:/coding_projects/datasets/CHV_dataset\\labels\\train\\ppe_1000.txt\n",
      "Moved ppe_1058.txt → F:/coding_projects/datasets/CHV_dataset\\labels\\train\\ppe_1058.txt\n",
      "Moved ppe_0479.txt → F:/coding_projects/datasets/CHV_dataset\\labels\\train\\ppe_0479.txt\n",
      "Moved ppe_1189.txt → F:/coding_projects/datasets/CHV_dataset\\labels\\train\\ppe_1189.txt\n",
      "Moved ppe_1238.txt → F:/coding_projects/datasets/CHV_dataset\\labels\\train\\ppe_1238.txt\n",
      "Moved ppe_0004.txt → F:/coding_projects/datasets/CHV_dataset\\labels\\train\\ppe_0004.txt\n",
      "Moved ppe_0861.txt → F:/coding_projects/datasets/CHV_dataset\\labels\\train\\ppe_0861.txt\n",
      "Moved ppe_0057.txt → F:/coding_projects/datasets/CHV_dataset\\labels\\train\\ppe_0057.txt\n",
      "Moved ppe_1286.txt → F:/coding_projects/datasets/CHV_dataset\\labels\\train\\ppe_1286.txt\n",
      "Moved ppe_1301.txt → F:/coding_projects/datasets/CHV_dataset\\labels\\train\\ppe_1301.txt\n",
      "Moved ppe_0868.txt → F:/coding_projects/datasets/CHV_dataset\\labels\\train\\ppe_0868.txt\n",
      "Moved ppe_1158.txt → F:/coding_projects/datasets/CHV_dataset\\labels\\train\\ppe_1158.txt\n",
      "Moved ppe_1219.txt → F:/coding_projects/datasets/CHV_dataset\\labels\\train\\ppe_1219.txt\n",
      "Moved ppe_0050.txt → F:/coding_projects/datasets/CHV_dataset\\labels\\train\\ppe_0050.txt\n",
      "Moved ppe_0211.txt → F:/coding_projects/datasets/CHV_dataset\\labels\\train\\ppe_0211.txt\n",
      "Moved ppe_1239.txt → F:/coding_projects/datasets/CHV_dataset\\labels\\train\\ppe_1239.txt\n",
      "Moved ppe_0764.txt → F:/coding_projects/datasets/CHV_dataset\\labels\\train\\ppe_0764.txt\n",
      "Moved ppe_1223.txt → F:/coding_projects/datasets/CHV_dataset\\labels\\train\\ppe_1223.txt\n",
      "Moved ppe_0724.txt → F:/coding_projects/datasets/CHV_dataset\\labels\\train\\ppe_0724.txt\n",
      "Moved ppe_1148.txt → F:/coding_projects/datasets/CHV_dataset\\labels\\train\\ppe_1148.txt\n",
      "Moved ppe_0958.txt → F:/coding_projects/datasets/CHV_dataset\\labels\\train\\ppe_0958.txt\n",
      "Moved ppe_0556.txt → F:/coding_projects/datasets/CHV_dataset\\labels\\train\\ppe_0556.txt\n",
      "Moved ppe_0635.txt → F:/coding_projects/datasets/CHV_dataset\\labels\\train\\ppe_0635.txt\n",
      "Moved ppe_0569.txt → F:/coding_projects/datasets/CHV_dataset\\labels\\train\\ppe_0569.txt\n",
      "Moved ppe_1217.txt → F:/coding_projects/datasets/CHV_dataset\\labels\\train\\ppe_1217.txt\n",
      "Moved ppe_0524.txt → F:/coding_projects/datasets/CHV_dataset\\labels\\train\\ppe_0524.txt\n",
      "Moved ppe_0376.txt → F:/coding_projects/datasets/CHV_dataset\\labels\\train\\ppe_0376.txt\n",
      "Moved ppe_0403.txt → F:/coding_projects/datasets/CHV_dataset\\labels\\train\\ppe_0403.txt\n",
      "Moved ppe_0965.txt → F:/coding_projects/datasets/CHV_dataset\\labels\\train\\ppe_0965.txt\n",
      "Moved ppe_0018.txt → F:/coding_projects/datasets/CHV_dataset\\labels\\train\\ppe_0018.txt\n",
      "Moved ppe_0014.txt → F:/coding_projects/datasets/CHV_dataset\\labels\\train\\ppe_0014.txt\n",
      "Moved ppe_0530.txt → F:/coding_projects/datasets/CHV_dataset\\labels\\train\\ppe_0530.txt\n",
      "Moved ppe_0350.txt → F:/coding_projects/datasets/CHV_dataset\\labels\\train\\ppe_0350.txt\n",
      "Moved ppe_0784.txt → F:/coding_projects/datasets/CHV_dataset\\labels\\train\\ppe_0784.txt\n",
      "Moved ppe_0166.txt → F:/coding_projects/datasets/CHV_dataset\\labels\\train\\ppe_0166.txt\n",
      "Moved ppe_1306.txt → F:/coding_projects/datasets/CHV_dataset\\labels\\train\\ppe_1306.txt\n",
      "Moved ppe_0136.txt → F:/coding_projects/datasets/CHV_dataset\\labels\\train\\ppe_0136.txt\n",
      "Moved ppe_0732.txt → F:/coding_projects/datasets/CHV_dataset\\labels\\train\\ppe_0732.txt\n",
      "Moved ppe_0171.txt → F:/coding_projects/datasets/CHV_dataset\\labels\\train\\ppe_0171.txt\n",
      "Moved ppe_0735.txt → F:/coding_projects/datasets/CHV_dataset\\labels\\train\\ppe_0735.txt\n",
      "Moved ppe_0862.txt → F:/coding_projects/datasets/CHV_dataset\\labels\\train\\ppe_0862.txt\n",
      "Moved ppe_1248.txt → F:/coding_projects/datasets/CHV_dataset\\labels\\train\\ppe_1248.txt\n",
      "Moved ppe_0747.txt → F:/coding_projects/datasets/CHV_dataset\\labels\\train\\ppe_0747.txt\n",
      "Moved ppe_0640.txt → F:/coding_projects/datasets/CHV_dataset\\labels\\train\\ppe_0640.txt\n",
      "Moved ppe_1065.txt → F:/coding_projects/datasets/CHV_dataset\\labels\\train\\ppe_1065.txt\n",
      "Moved ppe_0425.txt → F:/coding_projects/datasets/CHV_dataset\\labels\\train\\ppe_0425.txt\n",
      "Moved ppe_0577.txt → F:/coding_projects/datasets/CHV_dataset\\labels\\train\\ppe_0577.txt\n",
      "Moved ppe_0283.txt → F:/coding_projects/datasets/CHV_dataset\\labels\\train\\ppe_0283.txt\n",
      "Moved ppe_0652.txt → F:/coding_projects/datasets/CHV_dataset\\labels\\train\\ppe_0652.txt\n",
      "Moved ppe_1216.txt → F:/coding_projects/datasets/CHV_dataset\\labels\\train\\ppe_1216.txt\n",
      "Moved ppe_1003.txt → F:/coding_projects/datasets/CHV_dataset\\labels\\train\\ppe_1003.txt\n",
      "Moved ppe_0574.txt → F:/coding_projects/datasets/CHV_dataset\\labels\\train\\ppe_0574.txt\n",
      "Moved ppe_0195.txt → F:/coding_projects/datasets/CHV_dataset\\labels\\train\\ppe_0195.txt\n",
      "Moved ppe_0604.txt → F:/coding_projects/datasets/CHV_dataset\\labels\\train\\ppe_0604.txt\n",
      "Moved ppe_0021.txt → F:/coding_projects/datasets/CHV_dataset\\labels\\train\\ppe_0021.txt\n",
      "Moved ppe_0395.txt → F:/coding_projects/datasets/CHV_dataset\\labels\\train\\ppe_0395.txt\n",
      "Moved ppe_0750.txt → F:/coding_projects/datasets/CHV_dataset\\labels\\train\\ppe_0750.txt\n",
      "Moved ppe_0143.txt → F:/coding_projects/datasets/CHV_dataset\\labels\\train\\ppe_0143.txt\n",
      "Moved ppe_0326.txt → F:/coding_projects/datasets/CHV_dataset\\labels\\train\\ppe_0326.txt\n",
      "Moved ppe_0606.txt → F:/coding_projects/datasets/CHV_dataset\\labels\\train\\ppe_0606.txt\n",
      "Moved ppe_0080.txt → F:/coding_projects/datasets/CHV_dataset\\labels\\train\\ppe_0080.txt\n",
      "Moved ppe_0336.txt → F:/coding_projects/datasets/CHV_dataset\\labels\\train\\ppe_0336.txt\n",
      "Moved ppe_0255.txt → F:/coding_projects/datasets/CHV_dataset\\labels\\train\\ppe_0255.txt\n",
      "Moved ppe_0043.txt → F:/coding_projects/datasets/CHV_dataset\\labels\\train\\ppe_0043.txt\n",
      "Moved ppe_0172.txt → F:/coding_projects/datasets/CHV_dataset\\labels\\train\\ppe_0172.txt\n",
      "Moved ppe_1069.txt → F:/coding_projects/datasets/CHV_dataset\\labels\\train\\ppe_1069.txt\n",
      "Moved ppe_0274.txt → F:/coding_projects/datasets/CHV_dataset\\labels\\train\\ppe_0274.txt\n",
      "Moved ppe_1060.txt → F:/coding_projects/datasets/CHV_dataset\\labels\\train\\ppe_1060.txt\n",
      "Moved ppe_0624.txt → F:/coding_projects/datasets/CHV_dataset\\labels\\train\\ppe_0624.txt\n",
      "Moved ppe_0962.txt → F:/coding_projects/datasets/CHV_dataset\\labels\\train\\ppe_0962.txt\n",
      "Moved ppe_0180.txt → F:/coding_projects/datasets/CHV_dataset\\labels\\train\\ppe_0180.txt\n",
      "Moved ppe_1141.txt → F:/coding_projects/datasets/CHV_dataset\\labels\\train\\ppe_1141.txt\n",
      "Moved ppe_0418.txt → F:/coding_projects/datasets/CHV_dataset\\labels\\train\\ppe_0418.txt\n",
      "Moved ppe_0590.txt → F:/coding_projects/datasets/CHV_dataset\\labels\\train\\ppe_0590.txt\n",
      "Moved ppe_0662.txt → F:/coding_projects/datasets/CHV_dataset\\labels\\train\\ppe_0662.txt\n",
      "Moved ppe_1120.txt → F:/coding_projects/datasets/CHV_dataset\\labels\\train\\ppe_1120.txt\n",
      "Moved ppe_0934.txt → F:/coding_projects/datasets/CHV_dataset\\labels\\train\\ppe_0934.txt\n",
      "Moved ppe_0768.txt → F:/coding_projects/datasets/CHV_dataset\\labels\\train\\ppe_0768.txt\n",
      "Moved ppe_0175.txt → F:/coding_projects/datasets/CHV_dataset\\labels\\train\\ppe_0175.txt\n",
      "Moved ppe_0421.txt → F:/coding_projects/datasets/CHV_dataset\\labels\\train\\ppe_0421.txt\n",
      "Moved ppe_0641.txt → F:/coding_projects/datasets/CHV_dataset\\labels\\train\\ppe_0641.txt\n",
      "Moved ppe_1181.txt → F:/coding_projects/datasets/CHV_dataset\\labels\\train\\ppe_1181.txt\n",
      "Moved ppe_0666.txt → F:/coding_projects/datasets/CHV_dataset\\labels\\train\\ppe_0666.txt\n",
      "Moved ppe_0849.txt → F:/coding_projects/datasets/CHV_dataset\\labels\\train\\ppe_0849.txt\n",
      "Moved ppe_0107.txt → F:/coding_projects/datasets/CHV_dataset\\labels\\train\\ppe_0107.txt\n",
      "Moved ppe_1230.txt → F:/coding_projects/datasets/CHV_dataset\\labels\\train\\ppe_1230.txt\n",
      "Moved ppe_0070.txt → F:/coding_projects/datasets/CHV_dataset\\labels\\train\\ppe_0070.txt\n",
      "Moved ppe_1140.txt → F:/coding_projects/datasets/CHV_dataset\\labels\\train\\ppe_1140.txt\n",
      "Moved ppe_0563.txt → F:/coding_projects/datasets/CHV_dataset\\labels\\train\\ppe_0563.txt\n",
      "Moved ppe_0836.txt → F:/coding_projects/datasets/CHV_dataset\\labels\\train\\ppe_0836.txt\n",
      "Moved ppe_1272.txt → F:/coding_projects/datasets/CHV_dataset\\labels\\train\\ppe_1272.txt\n",
      "Moved ppe_0147.txt → F:/coding_projects/datasets/CHV_dataset\\labels\\train\\ppe_0147.txt\n",
      "Moved ppe_0720.txt → F:/coding_projects/datasets/CHV_dataset\\labels\\train\\ppe_0720.txt\n",
      "Moved ppe_1117.txt → F:/coding_projects/datasets/CHV_dataset\\labels\\train\\ppe_1117.txt\n",
      "Moved ppe_0390.txt → F:/coding_projects/datasets/CHV_dataset\\labels\\train\\ppe_0390.txt\n",
      "Moved ppe_1162.txt → F:/coding_projects/datasets/CHV_dataset\\labels\\train\\ppe_1162.txt\n",
      "Moved ppe_0034.txt → F:/coding_projects/datasets/CHV_dataset\\labels\\train\\ppe_0034.txt\n",
      "Moved ppe_0954.txt → F:/coding_projects/datasets/CHV_dataset\\labels\\train\\ppe_0954.txt\n",
      "Moved ppe_0202.txt → F:/coding_projects/datasets/CHV_dataset\\labels\\train\\ppe_0202.txt\n",
      "Moved ppe_0484.txt → F:/coding_projects/datasets/CHV_dataset\\labels\\train\\ppe_0484.txt\n",
      "Moved ppe_0492.txt → F:/coding_projects/datasets/CHV_dataset\\labels\\train\\ppe_0492.txt\n",
      "Moved ppe_0618.txt → F:/coding_projects/datasets/CHV_dataset\\labels\\train\\ppe_0618.txt\n",
      "Moved ppe_0847.txt → F:/coding_projects/datasets/CHV_dataset\\labels\\train\\ppe_0847.txt\n",
      "Moved ppe_1277.txt → F:/coding_projects/datasets/CHV_dataset\\labels\\train\\ppe_1277.txt\n",
      "Moved ppe_0185.txt → F:/coding_projects/datasets/CHV_dataset\\labels\\train\\ppe_0185.txt\n",
      "Moved ppe_0225.txt → F:/coding_projects/datasets/CHV_dataset\\labels\\train\\ppe_0225.txt\n",
      "Moved ppe_1247.txt → F:/coding_projects/datasets/CHV_dataset\\labels\\train\\ppe_1247.txt\n",
      "Moved ppe_0464.txt → F:/coding_projects/datasets/CHV_dataset\\labels\\train\\ppe_0464.txt\n",
      "Moved ppe_0828.txt → F:/coding_projects/datasets/CHV_dataset\\labels\\train\\ppe_0828.txt\n",
      "Moved ppe_0371.txt → F:/coding_projects/datasets/CHV_dataset\\labels\\train\\ppe_0371.txt\n",
      "Moved ppe_0949.txt → F:/coding_projects/datasets/CHV_dataset\\labels\\train\\ppe_0949.txt\n",
      "Moved ppe_0357.txt → F:/coding_projects/datasets/CHV_dataset\\labels\\train\\ppe_0357.txt\n",
      "Moved ppe_0465.txt → F:/coding_projects/datasets/CHV_dataset\\labels\\train\\ppe_0465.txt\n",
      "Moved ppe_0154.txt → F:/coding_projects/datasets/CHV_dataset\\labels\\train\\ppe_0154.txt\n",
      "Moved ppe_0722.txt → F:/coding_projects/datasets/CHV_dataset\\labels\\train\\ppe_0722.txt\n",
      "Moved ppe_0526.txt → F:/coding_projects/datasets/CHV_dataset\\labels\\train\\ppe_0526.txt\n",
      "Moved ppe_0089.txt → F:/coding_projects/datasets/CHV_dataset\\labels\\train\\ppe_0089.txt\n",
      "Moved ppe_0605.txt → F:/coding_projects/datasets/CHV_dataset\\labels\\train\\ppe_0605.txt\n",
      "Moved ppe_0636.txt → F:/coding_projects/datasets/CHV_dataset\\labels\\train\\ppe_0636.txt\n",
      "Moved ppe_0150.txt → F:/coding_projects/datasets/CHV_dataset\\labels\\train\\ppe_0150.txt\n",
      "Moved ppe_1049.txt → F:/coding_projects/datasets/CHV_dataset\\labels\\train\\ppe_1049.txt\n",
      "Moved ppe_1018.txt → F:/coding_projects/datasets/CHV_dataset\\labels\\train\\ppe_1018.txt\n",
      "Moved ppe_0774.txt → F:/coding_projects/datasets/CHV_dataset\\labels\\train\\ppe_0774.txt\n",
      "Moved ppe_0025.txt → F:/coding_projects/datasets/CHV_dataset\\labels\\train\\ppe_0025.txt\n",
      "Moved ppe_1163.txt → F:/coding_projects/datasets/CHV_dataset\\labels\\train\\ppe_1163.txt\n",
      "Moved ppe_0678.txt → F:/coding_projects/datasets/CHV_dataset\\labels\\train\\ppe_0678.txt\n",
      "Moved ppe_0284.txt → F:/coding_projects/datasets/CHV_dataset\\labels\\train\\ppe_0284.txt\n",
      "Moved ppe_0796.txt → F:/coding_projects/datasets/CHV_dataset\\labels\\train\\ppe_0796.txt\n",
      "Moved ppe_0095.txt → F:/coding_projects/datasets/CHV_dataset\\labels\\train\\ppe_0095.txt\n",
      "Moved ppe_0381.txt → F:/coding_projects/datasets/CHV_dataset\\labels\\train\\ppe_0381.txt\n",
      "Moved ppe_1025.txt → F:/coding_projects/datasets/CHV_dataset\\labels\\train\\ppe_1025.txt\n",
      "Moved ppe_0005.txt → F:/coding_projects/datasets/CHV_dataset\\labels\\train\\ppe_0005.txt\n",
      "Moved ppe_1261.txt → F:/coding_projects/datasets/CHV_dataset\\labels\\train\\ppe_1261.txt\n",
      "Moved ppe_1177.txt → F:/coding_projects/datasets/CHV_dataset\\labels\\train\\ppe_1177.txt\n",
      "Moved ppe_0499.txt → F:/coding_projects/datasets/CHV_dataset\\labels\\train\\ppe_0499.txt\n",
      "Moved ppe_0559.txt → F:/coding_projects/datasets/CHV_dataset\\labels\\train\\ppe_0559.txt\n",
      "Moved ppe_0272.txt → F:/coding_projects/datasets/CHV_dataset\\labels\\train\\ppe_0272.txt\n",
      "Moved ppe_0621.txt → F:/coding_projects/datasets/CHV_dataset\\labels\\train\\ppe_0621.txt\n",
      "Moved ppe_1257.txt → F:/coding_projects/datasets/CHV_dataset\\labels\\train\\ppe_1257.txt\n",
      "Moved ppe_1192.txt → F:/coding_projects/datasets/CHV_dataset\\labels\\train\\ppe_1192.txt\n",
      "Moved ppe_0501.txt → F:/coding_projects/datasets/CHV_dataset\\labels\\train\\ppe_0501.txt\n",
      "Moved ppe_1303.txt → F:/coding_projects/datasets/CHV_dataset\\labels\\train\\ppe_1303.txt\n",
      "Moved ppe_0447.txt → F:/coding_projects/datasets/CHV_dataset\\labels\\train\\ppe_0447.txt\n",
      "Moved ppe_0659.txt → F:/coding_projects/datasets/CHV_dataset\\labels\\train\\ppe_0659.txt\n",
      "Moved ppe_0384.txt → F:/coding_projects/datasets/CHV_dataset\\labels\\train\\ppe_0384.txt\n",
      "Moved ppe_0920.txt → F:/coding_projects/datasets/CHV_dataset\\labels\\train\\ppe_0920.txt\n",
      "Moved ppe_0477.txt → F:/coding_projects/datasets/CHV_dataset\\labels\\train\\ppe_0477.txt\n",
      "Moved ppe_0927.txt → F:/coding_projects/datasets/CHV_dataset\\labels\\train\\ppe_0927.txt\n",
      "Moved ppe_0009.txt → F:/coding_projects/datasets/CHV_dataset\\labels\\train\\ppe_0009.txt\n",
      "Moved ppe_0439.txt → F:/coding_projects/datasets/CHV_dataset\\labels\\train\\ppe_0439.txt\n",
      "Moved ppe_0888.txt → F:/coding_projects/datasets/CHV_dataset\\labels\\train\\ppe_0888.txt\n",
      "Moved ppe_0726.txt → F:/coding_projects/datasets/CHV_dataset\\labels\\train\\ppe_0726.txt\n",
      "Moved ppe_0497.txt → F:/coding_projects/datasets/CHV_dataset\\labels\\train\\ppe_0497.txt\n",
      "Moved ppe_0170.txt → F:/coding_projects/datasets/CHV_dataset\\labels\\train\\ppe_0170.txt\n",
      "Moved ppe_0238.txt → F:/coding_projects/datasets/CHV_dataset\\labels\\train\\ppe_0238.txt\n",
      "Moved ppe_0761.txt → F:/coding_projects/datasets/CHV_dataset\\labels\\train\\ppe_0761.txt\n",
      "Moved ppe_0392.txt → F:/coding_projects/datasets/CHV_dataset\\labels\\train\\ppe_0392.txt\n",
      "Moved ppe_0325.txt → F:/coding_projects/datasets/CHV_dataset\\labels\\train\\ppe_0325.txt\n",
      "Moved ppe_1315.txt → F:/coding_projects/datasets/CHV_dataset\\labels\\train\\ppe_1315.txt\n",
      "Moved ppe_1047.txt → F:/coding_projects/datasets/CHV_dataset\\labels\\train\\ppe_1047.txt\n",
      "Moved ppe_1164.txt → F:/coding_projects/datasets/CHV_dataset\\labels\\train\\ppe_1164.txt\n",
      "Moved ppe_1111.txt → F:/coding_projects/datasets/CHV_dataset\\labels\\train\\ppe_1111.txt\n",
      "Moved ppe_1082.txt → F:/coding_projects/datasets/CHV_dataset\\labels\\train\\ppe_1082.txt\n",
      "Moved ppe_0932.txt → F:/coding_projects/datasets/CHV_dataset\\labels\\train\\ppe_0932.txt\n",
      "Moved ppe_1073.txt → F:/coding_projects/datasets/CHV_dataset\\labels\\train\\ppe_1073.txt\n",
      "Moved ppe_0985.txt → F:/coding_projects/datasets/CHV_dataset\\labels\\train\\ppe_0985.txt\n",
      "Moved ppe_1317.txt → F:/coding_projects/datasets/CHV_dataset\\labels\\train\\ppe_1317.txt\n",
      "Moved ppe_1180.txt → F:/coding_projects/datasets/CHV_dataset\\labels\\train\\ppe_1180.txt\n",
      "Moved ppe_0273.txt → F:/coding_projects/datasets/CHV_dataset\\labels\\train\\ppe_0273.txt\n",
      "Moved ppe_0917.txt → F:/coding_projects/datasets/CHV_dataset\\labels\\train\\ppe_0917.txt\n",
      "Moved ppe_0901.txt → F:/coding_projects/datasets/CHV_dataset\\labels\\train\\ppe_0901.txt\n",
      "Moved ppe_0117.txt → F:/coding_projects/datasets/CHV_dataset\\labels\\train\\ppe_0117.txt\n",
      "Moved ppe_1144.txt → F:/coding_projects/datasets/CHV_dataset\\labels\\train\\ppe_1144.txt\n",
      "Moved ppe_0016.txt → F:/coding_projects/datasets/CHV_dataset\\labels\\train\\ppe_0016.txt\n",
      "Moved ppe_0224.txt → F:/coding_projects/datasets/CHV_dataset\\labels\\train\\ppe_0224.txt\n",
      "Moved ppe_0222.txt → F:/coding_projects/datasets/CHV_dataset\\labels\\train\\ppe_0222.txt\n",
      "Moved ppe_1137.txt → F:/coding_projects/datasets/CHV_dataset\\labels\\train\\ppe_1137.txt\n",
      "Moved ppe_1133.txt → F:/coding_projects/datasets/CHV_dataset\\labels\\train\\ppe_1133.txt\n",
      "Moved ppe_0241.txt → F:/coding_projects/datasets/CHV_dataset\\labels\\train\\ppe_0241.txt\n",
      "Moved ppe_0689.txt → F:/coding_projects/datasets/CHV_dataset\\labels\\train\\ppe_0689.txt\n",
      "Moved ppe_0782.txt → F:/coding_projects/datasets/CHV_dataset\\labels\\train\\ppe_0782.txt\n",
      "Moved ppe_1050.txt → F:/coding_projects/datasets/CHV_dataset\\labels\\train\\ppe_1050.txt\n",
      "Moved ppe_0084.txt → F:/coding_projects/datasets/CHV_dataset\\labels\\train\\ppe_0084.txt\n",
      "Moved ppe_0333.txt → F:/coding_projects/datasets/CHV_dataset\\labels\\train\\ppe_0333.txt\n",
      "Moved ppe_0199.txt → F:/coding_projects/datasets/CHV_dataset\\labels\\train\\ppe_0199.txt\n",
      "Moved ppe_0148.txt → F:/coding_projects/datasets/CHV_dataset\\labels\\train\\ppe_0148.txt\n",
      "Moved ppe_0260.txt → F:/coding_projects/datasets/CHV_dataset\\labels\\train\\ppe_0260.txt\n",
      "Moved ppe_0044.txt → F:/coding_projects/datasets/CHV_dataset\\labels\\train\\ppe_0044.txt\n",
      "Moved ppe_0943.txt → F:/coding_projects/datasets/CHV_dataset\\labels\\train\\ppe_0943.txt\n",
      "Moved ppe_0157.txt → F:/coding_projects/datasets/CHV_dataset\\labels\\train\\ppe_0157.txt\n",
      "Moved ppe_0979.txt → F:/coding_projects/datasets/CHV_dataset\\labels\\train\\ppe_0979.txt\n",
      "Moved ppe_1280.txt → F:/coding_projects/datasets/CHV_dataset\\labels\\train\\ppe_1280.txt\n",
      "Moved ppe_0622.txt → F:/coding_projects/datasets/CHV_dataset\\labels\\train\\ppe_0622.txt\n",
      "Moved ppe_1176.txt → F:/coding_projects/datasets/CHV_dataset\\labels\\train\\ppe_1176.txt\n",
      "Moved ppe_0379.txt → F:/coding_projects/datasets/CHV_dataset\\labels\\train\\ppe_0379.txt\n",
      "Moved ppe_0212.txt → F:/coding_projects/datasets/CHV_dataset\\labels\\train\\ppe_0212.txt\n",
      "Moved ppe_1174.txt → F:/coding_projects/datasets/CHV_dataset\\labels\\train\\ppe_1174.txt\n",
      "Moved ppe_0555.txt → F:/coding_projects/datasets/CHV_dataset\\labels\\train\\ppe_0555.txt\n",
      "Moved ppe_0511.txt → F:/coding_projects/datasets/CHV_dataset\\labels\\train\\ppe_0511.txt\n",
      "Moved ppe_0844.txt → F:/coding_projects/datasets/CHV_dataset\\labels\\train\\ppe_0844.txt\n",
      "Moved ppe_1172.txt → F:/coding_projects/datasets/CHV_dataset\\labels\\train\\ppe_1172.txt\n",
      "Moved ppe_0173.txt → F:/coding_projects/datasets/CHV_dataset\\labels\\train\\ppe_0173.txt\n",
      "Moved ppe_0601.txt → F:/coding_projects/datasets/CHV_dataset\\labels\\train\\ppe_0601.txt\n",
      "Moved ppe_0112.txt → F:/coding_projects/datasets/CHV_dataset\\labels\\train\\ppe_0112.txt\n",
      "Moved ppe_0915.txt → F:/coding_projects/datasets/CHV_dataset\\labels\\train\\ppe_0915.txt\n",
      "Moved ppe_0475.txt → F:/coding_projects/datasets/CHV_dataset\\labels\\train\\ppe_0475.txt\n",
      "Moved ppe_0153.txt → F:/coding_projects/datasets/CHV_dataset\\labels\\train\\ppe_0153.txt\n",
      "Moved ppe_1099.txt → F:/coding_projects/datasets/CHV_dataset\\labels\\train\\ppe_1099.txt\n",
      "Moved ppe_0077.txt → F:/coding_projects/datasets/CHV_dataset\\labels\\train\\ppe_0077.txt\n",
      "Moved ppe_0400.txt → F:/coding_projects/datasets/CHV_dataset\\labels\\train\\ppe_0400.txt\n",
      "Moved ppe_0430.txt → F:/coding_projects/datasets/CHV_dataset\\labels\\train\\ppe_0430.txt\n",
      "Moved ppe_0645.txt → F:/coding_projects/datasets/CHV_dataset\\labels\\train\\ppe_0645.txt\n",
      "Moved ppe_0205.txt → F:/coding_projects/datasets/CHV_dataset\\labels\\train\\ppe_0205.txt\n",
      "Moved ppe_0564.txt → F:/coding_projects/datasets/CHV_dataset\\labels\\train\\ppe_0564.txt\n",
      "Moved ppe_1321.txt → F:/coding_projects/datasets/CHV_dataset\\labels\\train\\ppe_1321.txt\n",
      "Moved ppe_0668.txt → F:/coding_projects/datasets/CHV_dataset\\labels\\train\\ppe_0668.txt\n",
      "Moved ppe_0791.txt → F:/coding_projects/datasets/CHV_dataset\\labels\\train\\ppe_0791.txt\n",
      "Moved ppe_1042.txt → F:/coding_projects/datasets/CHV_dataset\\labels\\train\\ppe_1042.txt\n",
      "Moved ppe_0897.txt → F:/coding_projects/datasets/CHV_dataset\\labels\\train\\ppe_0897.txt\n",
      "Moved ppe_1039.txt → F:/coding_projects/datasets/CHV_dataset\\labels\\train\\ppe_1039.txt\n",
      "Moved ppe_0087.txt → F:/coding_projects/datasets/CHV_dataset\\labels\\train\\ppe_0087.txt\n",
      "Moved ppe_0757.txt → F:/coding_projects/datasets/CHV_dataset\\labels\\train\\ppe_0757.txt\n",
      "Moved ppe_1250.txt → F:/coding_projects/datasets/CHV_dataset\\labels\\train\\ppe_1250.txt\n",
      "Moved ppe_1293.txt → F:/coding_projects/datasets/CHV_dataset\\labels\\train\\ppe_1293.txt\n",
      "Moved ppe_0627.txt → F:/coding_projects/datasets/CHV_dataset\\labels\\train\\ppe_0627.txt\n",
      "Moved ppe_0727.txt → F:/coding_projects/datasets/CHV_dataset\\labels\\train\\ppe_0727.txt\n",
      "Moved ppe_0197.txt → F:/coding_projects/datasets/CHV_dataset\\labels\\train\\ppe_0197.txt\n",
      "Moved ppe_1146.txt → F:/coding_projects/datasets/CHV_dataset\\labels\\train\\ppe_1146.txt\n",
      "Moved ppe_0596.txt → F:/coding_projects/datasets/CHV_dataset\\labels\\train\\ppe_0596.txt\n",
      "Moved ppe_0309.txt → F:/coding_projects/datasets/CHV_dataset\\labels\\train\\ppe_0309.txt\n",
      "Moved ppe_0717.txt → F:/coding_projects/datasets/CHV_dataset\\labels\\train\\ppe_0717.txt\n",
      "Moved ppe_1105.txt → F:/coding_projects/datasets/CHV_dataset\\labels\\train\\ppe_1105.txt\n",
      "Moved ppe_0623.txt → F:/coding_projects/datasets/CHV_dataset\\labels\\train\\ppe_0623.txt\n",
      "Moved ppe_0799.txt → F:/coding_projects/datasets/CHV_dataset\\labels\\train\\ppe_0799.txt\n",
      "Moved ppe_0481.txt → F:/coding_projects/datasets/CHV_dataset\\labels\\train\\ppe_0481.txt\n",
      "Moved ppe_0960.txt → F:/coding_projects/datasets/CHV_dataset\\labels\\train\\ppe_0960.txt\n",
      "Moved ppe_0856.txt → F:/coding_projects/datasets/CHV_dataset\\labels\\train\\ppe_0856.txt\n",
      "Moved ppe_0523.txt → F:/coding_projects/datasets/CHV_dataset\\labels\\train\\ppe_0523.txt\n",
      "Moved ppe_1034.txt → F:/coding_projects/datasets/CHV_dataset\\labels\\train\\ppe_1034.txt\n",
      "Moved ppe_0769.txt → F:/coding_projects/datasets/CHV_dataset\\labels\\train\\ppe_0769.txt\n",
      "Moved ppe_0469.txt → F:/coding_projects/datasets/CHV_dataset\\labels\\train\\ppe_0469.txt\n",
      "Moved ppe_0815.txt → F:/coding_projects/datasets/CHV_dataset\\labels\\train\\ppe_0815.txt\n",
      "Moved ppe_1297.txt → F:/coding_projects/datasets/CHV_dataset\\labels\\train\\ppe_1297.txt\n",
      "Moved ppe_0653.txt → F:/coding_projects/datasets/CHV_dataset\\labels\\train\\ppe_0653.txt\n",
      "Moved ppe_1296.txt → F:/coding_projects/datasets/CHV_dataset\\labels\\train\\ppe_1296.txt\n",
      "Moved ppe_0444.txt → F:/coding_projects/datasets/CHV_dataset\\labels\\train\\ppe_0444.txt\n",
      "Moved ppe_0625.txt → F:/coding_projects/datasets/CHV_dataset\\labels\\train\\ppe_0625.txt\n",
      "Moved ppe_0777.txt → F:/coding_projects/datasets/CHV_dataset\\labels\\train\\ppe_0777.txt\n",
      "Moved ppe_0082.txt → F:/coding_projects/datasets/CHV_dataset\\labels\\train\\ppe_0082.txt\n",
      "Moved ppe_0380.txt → F:/coding_projects/datasets/CHV_dataset\\labels\\train\\ppe_0380.txt\n",
      "Moved ppe_0794.txt → F:/coding_projects/datasets/CHV_dataset\\labels\\train\\ppe_0794.txt\n",
      "Moved ppe_0660.txt → F:/coding_projects/datasets/CHV_dataset\\labels\\train\\ppe_0660.txt\n",
      "Moved ppe_0628.txt → F:/coding_projects/datasets/CHV_dataset\\labels\\train\\ppe_0628.txt\n",
      "Moved ppe_1094.txt → F:/coding_projects/datasets/CHV_dataset\\labels\\train\\ppe_1094.txt\n",
      "Moved ppe_0010.txt → F:/coding_projects/datasets/CHV_dataset\\labels\\train\\ppe_0010.txt\n",
      "Moved ppe_0370.txt → F:/coding_projects/datasets/CHV_dataset\\labels\\train\\ppe_0370.txt\n",
      "Moved ppe_0076.txt → F:/coding_projects/datasets/CHV_dataset\\labels\\train\\ppe_0076.txt\n",
      "Moved ppe_0385.txt → F:/coding_projects/datasets/CHV_dataset\\labels\\train\\ppe_0385.txt\n",
      "Moved ppe_0120.txt → F:/coding_projects/datasets/CHV_dataset\\labels\\train\\ppe_0120.txt\n",
      "Moved ppe_0071.txt → F:/coding_projects/datasets/CHV_dataset\\labels\\train\\ppe_0071.txt\n",
      "Moved ppe_0535.txt → F:/coding_projects/datasets/CHV_dataset\\labels\\train\\ppe_0535.txt\n",
      "Moved ppe_0164.txt → F:/coding_projects/datasets/CHV_dataset\\labels\\train\\ppe_0164.txt\n",
      "Moved ppe_0853.txt → F:/coding_projects/datasets/CHV_dataset\\labels\\train\\ppe_0853.txt\n",
      "Moved ppe_0022.txt → F:/coding_projects/datasets/CHV_dataset\\labels\\train\\ppe_0022.txt\n",
      "Moved ppe_1313.txt → F:/coding_projects/datasets/CHV_dataset\\labels\\train\\ppe_1313.txt\n",
      "Moved ppe_1288.txt → F:/coding_projects/datasets/CHV_dataset\\labels\\train\\ppe_1288.txt\n",
      "Moved ppe_0031.txt → F:/coding_projects/datasets/CHV_dataset\\labels\\train\\ppe_0031.txt\n",
      "Moved ppe_0149.txt → F:/coding_projects/datasets/CHV_dataset\\labels\\train\\ppe_0149.txt\n",
      "Moved ppe_0975.txt → F:/coding_projects/datasets/CHV_dataset\\labels\\train\\ppe_0975.txt\n",
      "Moved ppe_1290.txt → F:/coding_projects/datasets/CHV_dataset\\labels\\train\\ppe_1290.txt\n",
      "Moved ppe_0123.txt → F:/coding_projects/datasets/CHV_dataset\\labels\\train\\ppe_0123.txt\n",
      "Moved ppe_0040.txt → F:/coding_projects/datasets/CHV_dataset\\labels\\train\\ppe_0040.txt\n",
      "Moved ppe_0313.txt → F:/coding_projects/datasets/CHV_dataset\\labels\\train\\ppe_0313.txt\n",
      "Moved ppe_1103.txt → F:/coding_projects/datasets/CHV_dataset\\labels\\train\\ppe_1103.txt\n",
      "Moved ppe_0191.txt → F:/coding_projects/datasets/CHV_dataset\\labels\\train\\ppe_0191.txt\n",
      "Moved ppe_0020.txt → F:/coding_projects/datasets/CHV_dataset\\labels\\train\\ppe_0020.txt\n",
      "Moved ppe_0718.txt → F:/coding_projects/datasets/CHV_dataset\\labels\\train\\ppe_0718.txt\n",
      "Moved ppe_0358.txt → F:/coding_projects/datasets/CHV_dataset\\labels\\train\\ppe_0358.txt\n",
      "Moved ppe_1134.txt → F:/coding_projects/datasets/CHV_dataset\\labels\\train\\ppe_1134.txt\n",
      "Moved ppe_0177.txt → F:/coding_projects/datasets/CHV_dataset\\labels\\train\\ppe_0177.txt\n",
      "Moved ppe_0391.txt → F:/coding_projects/datasets/CHV_dataset\\labels\\train\\ppe_0391.txt\n",
      "Moved ppe_0679.txt → F:/coding_projects/datasets/CHV_dataset\\labels\\train\\ppe_0679.txt\n",
      "Moved ppe_0528.txt → F:/coding_projects/datasets/CHV_dataset\\labels\\train\\ppe_0528.txt\n",
      "Moved ppe_1147.txt → F:/coding_projects/datasets/CHV_dataset\\labels\\train\\ppe_1147.txt\n",
      "Moved ppe_1193.txt → F:/coding_projects/datasets/CHV_dataset\\labels\\train\\ppe_1193.txt\n",
      "Moved ppe_1098.txt → F:/coding_projects/datasets/CHV_dataset\\labels\\train\\ppe_1098.txt\n",
      "Moved ppe_0377.txt → F:/coding_projects/datasets/CHV_dataset\\labels\\train\\ppe_0377.txt\n",
      "Moved ppe_0785.txt → F:/coding_projects/datasets/CHV_dataset\\labels\\train\\ppe_0785.txt\n",
      "Moved ppe_0822.txt → F:/coding_projects/datasets/CHV_dataset\\labels\\train\\ppe_0822.txt\n",
      "Moved ppe_0254.txt → F:/coding_projects/datasets/CHV_dataset\\labels\\train\\ppe_0254.txt\n",
      "Moved ppe_1125.txt → F:/coding_projects/datasets/CHV_dataset\\labels\\train\\ppe_1125.txt\n",
      "Moved ppe_0743.txt → F:/coding_projects/datasets/CHV_dataset\\labels\\train\\ppe_0743.txt\n",
      "Moved ppe_1300.txt → F:/coding_projects/datasets/CHV_dataset\\labels\\train\\ppe_1300.txt\n",
      "Moved ppe_0369.txt → F:/coding_projects/datasets/CHV_dataset\\labels\\train\\ppe_0369.txt\n",
      "Moved ppe_0884.txt → F:/coding_projects/datasets/CHV_dataset\\labels\\train\\ppe_0884.txt\n",
      "Moved ppe_0903.txt → F:/coding_projects/datasets/CHV_dataset\\labels\\train\\ppe_0903.txt\n",
      "Moved ppe_1204.txt → F:/coding_projects/datasets/CHV_dataset\\labels\\train\\ppe_1204.txt\n",
      "Moved ppe_0131.txt → F:/coding_projects/datasets/CHV_dataset\\labels\\train\\ppe_0131.txt\n",
      "Moved ppe_0372.txt → F:/coding_projects/datasets/CHV_dataset\\labels\\train\\ppe_0372.txt\n",
      "Moved ppe_0688.txt → F:/coding_projects/datasets/CHV_dataset\\labels\\train\\ppe_0688.txt\n",
      "Moved ppe_0135.txt → F:/coding_projects/datasets/CHV_dataset\\labels\\train\\ppe_0135.txt\n",
      "Moved ppe_1183.txt → F:/coding_projects/datasets/CHV_dataset\\labels\\train\\ppe_1183.txt\n",
      "Moved ppe_0245.txt → F:/coding_projects/datasets/CHV_dataset\\labels\\train\\ppe_0245.txt\n",
      "Moved ppe_0876.txt → F:/coding_projects/datasets/CHV_dataset\\labels\\train\\ppe_0876.txt\n",
      "Moved ppe_1304.txt → F:/coding_projects/datasets/CHV_dataset\\labels\\train\\ppe_1304.txt\n",
      "Moved ppe_0971.txt → F:/coding_projects/datasets/CHV_dataset\\labels\\train\\ppe_0971.txt\n",
      "Moved ppe_0649.txt → F:/coding_projects/datasets/CHV_dataset\\labels\\train\\ppe_0649.txt\n",
      "Moved ppe_0437.txt → F:/coding_projects/datasets/CHV_dataset\\labels\\train\\ppe_0437.txt\n",
      "Moved ppe_0168.txt → F:/coding_projects/datasets/CHV_dataset\\labels\\train\\ppe_0168.txt\n",
      "Moved ppe_1311.txt → F:/coding_projects/datasets/CHV_dataset\\labels\\train\\ppe_1311.txt\n",
      "Moved ppe_0928.txt → F:/coding_projects/datasets/CHV_dataset\\labels\\train\\ppe_0928.txt\n",
      "Moved ppe_1302.txt → F:/coding_projects/datasets/CHV_dataset\\labels\\train\\ppe_1302.txt\n",
      "Moved ppe_1307.txt → F:/coding_projects/datasets/CHV_dataset\\labels\\val\\ppe_1307.txt\n",
      "Moved ppe_0690.txt → F:/coding_projects/datasets/CHV_dataset\\labels\\val\\ppe_0690.txt\n",
      "Moved ppe_0041.txt → F:/coding_projects/datasets/CHV_dataset\\labels\\val\\ppe_0041.txt\n",
      "Moved ppe_0752.txt → F:/coding_projects/datasets/CHV_dataset\\labels\\val\\ppe_0752.txt\n",
      "Moved ppe_0631.txt → F:/coding_projects/datasets/CHV_dataset\\labels\\val\\ppe_0631.txt\n",
      "Moved ppe_0891.txt → F:/coding_projects/datasets/CHV_dataset\\labels\\val\\ppe_0891.txt\n",
      "Moved ppe_1205.txt → F:/coding_projects/datasets/CHV_dataset\\labels\\val\\ppe_1205.txt\n",
      "Moved ppe_1165.txt → F:/coding_projects/datasets/CHV_dataset\\labels\\val\\ppe_1165.txt\n",
      "Moved ppe_0038.txt → F:/coding_projects/datasets/CHV_dataset\\labels\\val\\ppe_0038.txt\n",
      "Moved ppe_0282.txt → F:/coding_projects/datasets/CHV_dataset\\labels\\val\\ppe_0282.txt\n",
      "Moved ppe_0968.txt → F:/coding_projects/datasets/CHV_dataset\\labels\\val\\ppe_0968.txt\n",
      "Moved ppe_1119.txt → F:/coding_projects/datasets/CHV_dataset\\labels\\val\\ppe_1119.txt\n",
      "Moved ppe_0612.txt → F:/coding_projects/datasets/CHV_dataset\\labels\\val\\ppe_0612.txt\n",
      "Moved ppe_0929.txt → F:/coding_projects/datasets/CHV_dataset\\labels\\val\\ppe_0929.txt\n",
      "Moved ppe_0977.txt → F:/coding_projects/datasets/CHV_dataset\\labels\\val\\ppe_0977.txt\n",
      "Moved ppe_0877.txt → F:/coding_projects/datasets/CHV_dataset\\labels\\val\\ppe_0877.txt\n",
      "Moved ppe_1132.txt → F:/coding_projects/datasets/CHV_dataset\\labels\\val\\ppe_1132.txt\n",
      "Moved ppe_1001.txt → F:/coding_projects/datasets/CHV_dataset\\labels\\val\\ppe_1001.txt\n",
      "Moved ppe_1121.txt → F:/coding_projects/datasets/CHV_dataset\\labels\\val\\ppe_1121.txt\n",
      "Moved ppe_0348.txt → F:/coding_projects/datasets/CHV_dataset\\labels\\val\\ppe_0348.txt\n",
      "Moved ppe_1273.txt → F:/coding_projects/datasets/CHV_dataset\\labels\\val\\ppe_1273.txt\n",
      "Moved ppe_0106.txt → F:/coding_projects/datasets/CHV_dataset\\labels\\val\\ppe_0106.txt\n",
      "Moved ppe_0294.txt → F:/coding_projects/datasets/CHV_dataset\\labels\\val\\ppe_0294.txt\n",
      "Moved ppe_0383.txt → F:/coding_projects/datasets/CHV_dataset\\labels\\val\\ppe_0383.txt\n",
      "Moved ppe_0874.txt → F:/coding_projects/datasets/CHV_dataset\\labels\\val\\ppe_0874.txt\n",
      "Moved ppe_0830.txt → F:/coding_projects/datasets/CHV_dataset\\labels\\val\\ppe_0830.txt\n",
      "Moved ppe_0715.txt → F:/coding_projects/datasets/CHV_dataset\\labels\\val\\ppe_0715.txt\n",
      "Moved ppe_1264.txt → F:/coding_projects/datasets/CHV_dataset\\labels\\val\\ppe_1264.txt\n",
      "Moved ppe_0807.txt → F:/coding_projects/datasets/CHV_dataset\\labels\\val\\ppe_0807.txt\n",
      "Moved ppe_0714.txt → F:/coding_projects/datasets/CHV_dataset\\labels\\val\\ppe_0714.txt\n",
      "Moved ppe_0426.txt → F:/coding_projects/datasets/CHV_dataset\\labels\\val\\ppe_0426.txt\n",
      "Moved ppe_0103.txt → F:/coding_projects/datasets/CHV_dataset\\labels\\val\\ppe_0103.txt\n",
      "Moved ppe_0826.txt → F:/coding_projects/datasets/CHV_dataset\\labels\\val\\ppe_0826.txt\n",
      "Moved ppe_1012.txt → F:/coding_projects/datasets/CHV_dataset\\labels\\val\\ppe_1012.txt\n",
      "Moved ppe_0187.txt → F:/coding_projects/datasets/CHV_dataset\\labels\\val\\ppe_0187.txt\n",
      "Moved ppe_0332.txt → F:/coding_projects/datasets/CHV_dataset\\labels\\val\\ppe_0332.txt\n",
      "Moved ppe_0681.txt → F:/coding_projects/datasets/CHV_dataset\\labels\\val\\ppe_0681.txt\n",
      "Moved ppe_0388.txt → F:/coding_projects/datasets/CHV_dataset\\labels\\val\\ppe_0388.txt\n",
      "Moved ppe_0277.txt → F:/coding_projects/datasets/CHV_dataset\\labels\\val\\ppe_0277.txt\n",
      "Moved ppe_1244.txt → F:/coding_projects/datasets/CHV_dataset\\labels\\val\\ppe_1244.txt\n",
      "Moved ppe_0723.txt → F:/coding_projects/datasets/CHV_dataset\\labels\\val\\ppe_0723.txt\n",
      "Moved ppe_0630.txt → F:/coding_projects/datasets/CHV_dataset\\labels\\val\\ppe_0630.txt\n",
      "Moved ppe_0013.txt → F:/coding_projects/datasets/CHV_dataset\\labels\\val\\ppe_0013.txt\n",
      "Moved ppe_0749.txt → F:/coding_projects/datasets/CHV_dataset\\labels\\val\\ppe_0749.txt\n",
      "Moved ppe_0237.txt → F:/coding_projects/datasets/CHV_dataset\\labels\\val\\ppe_0237.txt\n",
      "Moved ppe_1143.txt → F:/coding_projects/datasets/CHV_dataset\\labels\\val\\ppe_1143.txt\n",
      "Moved ppe_0330.txt → F:/coding_projects/datasets/CHV_dataset\\labels\\val\\ppe_0330.txt\n",
      "Moved ppe_1033.txt → F:/coding_projects/datasets/CHV_dataset\\labels\\val\\ppe_1033.txt\n",
      "Moved ppe_0889.txt → F:/coding_projects/datasets/CHV_dataset\\labels\\val\\ppe_0889.txt\n",
      "Moved ppe_1085.txt → F:/coding_projects/datasets/CHV_dataset\\labels\\val\\ppe_1085.txt\n",
      "Moved ppe_0085.txt → F:/coding_projects/datasets/CHV_dataset\\labels\\val\\ppe_0085.txt\n",
      "Moved ppe_1295.txt → F:/coding_projects/datasets/CHV_dataset\\labels\\val\\ppe_1295.txt\n",
      "Moved ppe_1200.txt → F:/coding_projects/datasets/CHV_dataset\\labels\\val\\ppe_1200.txt\n",
      "Moved ppe_0552.txt → F:/coding_projects/datasets/CHV_dataset\\labels\\val\\ppe_0552.txt\n",
      "Moved ppe_0754.txt → F:/coding_projects/datasets/CHV_dataset\\labels\\val\\ppe_0754.txt\n",
      "Moved ppe_0114.txt → F:/coding_projects/datasets/CHV_dataset\\labels\\val\\ppe_0114.txt\n",
      "Moved ppe_0648.txt → F:/coding_projects/datasets/CHV_dataset\\labels\\val\\ppe_0648.txt\n",
      "Moved ppe_0412.txt → F:/coding_projects/datasets/CHV_dataset\\labels\\val\\ppe_0412.txt\n",
      "Moved ppe_1221.txt → F:/coding_projects/datasets/CHV_dataset\\labels\\val\\ppe_1221.txt\n",
      "Moved ppe_0409.txt → F:/coding_projects/datasets/CHV_dataset\\labels\\val\\ppe_0409.txt\n",
      "Moved ppe_0686.txt → F:/coding_projects/datasets/CHV_dataset\\labels\\val\\ppe_0686.txt\n",
      "Moved ppe_0244.txt → F:/coding_projects/datasets/CHV_dataset\\labels\\val\\ppe_0244.txt\n",
      "Moved ppe_0230.txt → F:/coding_projects/datasets/CHV_dataset\\labels\\val\\ppe_0230.txt\n",
      "Moved ppe_0411.txt → F:/coding_projects/datasets/CHV_dataset\\labels\\val\\ppe_0411.txt\n",
      "Moved ppe_0482.txt → F:/coding_projects/datasets/CHV_dataset\\labels\\val\\ppe_0482.txt\n",
      "Moved ppe_0578.txt → F:/coding_projects/datasets/CHV_dataset\\labels\\val\\ppe_0578.txt\n",
      "Moved ppe_0490.txt → F:/coding_projects/datasets/CHV_dataset\\labels\\val\\ppe_0490.txt\n",
      "Moved ppe_0520.txt → F:/coding_projects/datasets/CHV_dataset\\labels\\val\\ppe_0520.txt\n",
      "Moved ppe_0701.txt → F:/coding_projects/datasets/CHV_dataset\\labels\\val\\ppe_0701.txt\n",
      "Moved ppe_1029.txt → F:/coding_projects/datasets/CHV_dataset\\labels\\val\\ppe_1029.txt\n",
      "Moved ppe_0572.txt → F:/coding_projects/datasets/CHV_dataset\\labels\\val\\ppe_0572.txt\n",
      "Moved ppe_0691.txt → F:/coding_projects/datasets/CHV_dataset\\labels\\val\\ppe_0691.txt\n",
      "Moved ppe_0710.txt → F:/coding_projects/datasets/CHV_dataset\\labels\\val\\ppe_0710.txt\n",
      "Moved ppe_1207.txt → F:/coding_projects/datasets/CHV_dataset\\labels\\val\\ppe_1207.txt\n",
      "Moved ppe_0365.txt → F:/coding_projects/datasets/CHV_dataset\\labels\\val\\ppe_0365.txt\n",
      "Moved ppe_1294.txt → F:/coding_projects/datasets/CHV_dataset\\labels\\val\\ppe_1294.txt\n",
      "Moved ppe_0311.txt → F:/coding_projects/datasets/CHV_dataset\\labels\\val\\ppe_0311.txt\n",
      "Moved ppe_0324.txt → F:/coding_projects/datasets/CHV_dataset\\labels\\val\\ppe_0324.txt\n",
      "Moved ppe_1249.txt → F:/coding_projects/datasets/CHV_dataset\\labels\\val\\ppe_1249.txt\n",
      "Moved ppe_1235.txt → F:/coding_projects/datasets/CHV_dataset\\labels\\val\\ppe_1235.txt\n",
      "Moved ppe_0687.txt → F:/coding_projects/datasets/CHV_dataset\\labels\\val\\ppe_0687.txt\n",
      "Moved ppe_0052.txt → F:/coding_projects/datasets/CHV_dataset\\labels\\val\\ppe_0052.txt\n",
      "Moved ppe_0030.txt → F:/coding_projects/datasets/CHV_dataset\\labels\\val\\ppe_0030.txt\n",
      "Moved ppe_0588.txt → F:/coding_projects/datasets/CHV_dataset\\labels\\val\\ppe_0588.txt\n",
      "Moved ppe_1291.txt → F:/coding_projects/datasets/CHV_dataset\\labels\\val\\ppe_1291.txt\n",
      "Moved ppe_0206.txt → F:/coding_projects/datasets/CHV_dataset\\labels\\val\\ppe_0206.txt\n",
      "Moved ppe_0537.txt → F:/coding_projects/datasets/CHV_dataset\\labels\\val\\ppe_0537.txt\n",
      "Moved ppe_0258.txt → F:/coding_projects/datasets/CHV_dataset\\labels\\val\\ppe_0258.txt\n",
      "Moved ppe_0367.txt → F:/coding_projects/datasets/CHV_dataset\\labels\\val\\ppe_0367.txt\n",
      "Moved ppe_0755.txt → F:/coding_projects/datasets/CHV_dataset\\labels\\val\\ppe_0755.txt\n",
      "Moved ppe_0638.txt → F:/coding_projects/datasets/CHV_dataset\\labels\\val\\ppe_0638.txt\n",
      "Moved ppe_1151.txt → F:/coding_projects/datasets/CHV_dataset\\labels\\val\\ppe_1151.txt\n",
      "Moved ppe_0883.txt → F:/coding_projects/datasets/CHV_dataset\\labels\\val\\ppe_0883.txt\n",
      "Moved ppe_0964.txt → F:/coding_projects/datasets/CHV_dataset\\labels\\val\\ppe_0964.txt\n",
      "Moved ppe_0581.txt → F:/coding_projects/datasets/CHV_dataset\\labels\\val\\ppe_0581.txt\n",
      "Moved ppe_0504.txt → F:/coding_projects/datasets/CHV_dataset\\labels\\val\\ppe_0504.txt\n",
      "Moved ppe_0674.txt → F:/coding_projects/datasets/CHV_dataset\\labels\\val\\ppe_0674.txt\n",
      "Moved ppe_0869.txt → F:/coding_projects/datasets/CHV_dataset\\labels\\val\\ppe_0869.txt\n",
      "Moved ppe_1116.txt → F:/coding_projects/datasets/CHV_dataset\\labels\\val\\ppe_1116.txt\n",
      "Moved ppe_0364.txt → F:/coding_projects/datasets/CHV_dataset\\labels\\val\\ppe_0364.txt\n",
      "Moved ppe_0265.txt → F:/coding_projects/datasets/CHV_dataset\\labels\\val\\ppe_0265.txt\n",
      "Moved ppe_0725.txt → F:/coding_projects/datasets/CHV_dataset\\labels\\val\\ppe_0725.txt\n",
      "Moved ppe_0179.txt → F:/coding_projects/datasets/CHV_dataset\\labels\\val\\ppe_0179.txt\n",
      "Moved ppe_0024.txt → F:/coding_projects/datasets/CHV_dataset\\labels\\val\\ppe_0024.txt\n",
      "Moved ppe_0617.txt → F:/coding_projects/datasets/CHV_dataset\\labels\\val\\ppe_0617.txt\n",
      "Moved ppe_1131.txt → F:/coding_projects/datasets/CHV_dataset\\labels\\val\\ppe_1131.txt\n",
      "Moved ppe_0818.txt → F:/coding_projects/datasets/CHV_dataset\\labels\\val\\ppe_0818.txt\n",
      "Moved ppe_0502.txt → F:/coding_projects/datasets/CHV_dataset\\labels\\val\\ppe_0502.txt\n",
      "Moved ppe_0542.txt → F:/coding_projects/datasets/CHV_dataset\\labels\\val\\ppe_0542.txt\n",
      "Moved ppe_1328.txt → F:/coding_projects/datasets/CHV_dataset\\labels\\val\\ppe_1328.txt\n",
      "Moved ppe_1298.txt → F:/coding_projects/datasets/CHV_dataset\\labels\\val\\ppe_1298.txt\n",
      "Moved ppe_0516.txt → F:/coding_projects/datasets/CHV_dataset\\labels\\val\\ppe_0516.txt\n",
      "Moved ppe_0887.txt → F:/coding_projects/datasets/CHV_dataset\\labels\\val\\ppe_0887.txt\n",
      "Moved ppe_0586.txt → F:/coding_projects/datasets/CHV_dataset\\labels\\val\\ppe_0586.txt\n",
      "Moved ppe_0046.txt → F:/coding_projects/datasets/CHV_dataset\\labels\\val\\ppe_0046.txt\n",
      "Moved ppe_1006.txt → F:/coding_projects/datasets/CHV_dataset\\labels\\val\\ppe_1006.txt\n",
      "Moved ppe_0806.txt → F:/coding_projects/datasets/CHV_dataset\\labels\\val\\ppe_0806.txt\n",
      "Moved ppe_0104.txt → F:/coding_projects/datasets/CHV_dataset\\labels\\val\\ppe_0104.txt\n",
      "Moved ppe_0293.txt → F:/coding_projects/datasets/CHV_dataset\\labels\\val\\ppe_0293.txt\n",
      "Moved ppe_0672.txt → F:/coding_projects/datasets/CHV_dataset\\labels\\val\\ppe_0672.txt\n",
      "Moved ppe_0702.txt → F:/coding_projects/datasets/CHV_dataset\\labels\\val\\ppe_0702.txt\n",
      "Moved ppe_1285.txt → F:/coding_projects/datasets/CHV_dataset\\labels\\val\\ppe_1285.txt\n",
      "Moved ppe_0335.txt → F:/coding_projects/datasets/CHV_dataset\\labels\\val\\ppe_0335.txt\n",
      "Moved ppe_0699.txt → F:/coding_projects/datasets/CHV_dataset\\labels\\val\\ppe_0699.txt\n",
      "Moved ppe_1208.txt → F:/coding_projects/datasets/CHV_dataset\\labels\\val\\ppe_1208.txt\n",
      "Moved ppe_0125.txt → F:/coding_projects/datasets/CHV_dataset\\labels\\val\\ppe_0125.txt\n",
      "Moved ppe_0776.txt → F:/coding_projects/datasets/CHV_dataset\\labels\\val\\ppe_0776.txt\n",
      "Moved ppe_0435.txt → F:/coding_projects/datasets/CHV_dataset\\labels\\val\\ppe_0435.txt\n",
      "Moved ppe_0359.txt → F:/coding_projects/datasets/CHV_dataset\\labels\\val\\ppe_0359.txt\n",
      "Moved ppe_0823.txt → F:/coding_projects/datasets/CHV_dataset\\labels\\val\\ppe_0823.txt\n",
      "Moved ppe_1320.txt → F:/coding_projects/datasets/CHV_dataset\\labels\\val\\ppe_1320.txt\n",
      "Moved ppe_0483.txt → F:/coding_projects/datasets/CHV_dataset\\labels\\val\\ppe_0483.txt\n",
      "Moved ppe_0838.txt → F:/coding_projects/datasets/CHV_dataset\\labels\\val\\ppe_0838.txt\n",
      "Moved ppe_0193.txt → F:/coding_projects/datasets/CHV_dataset\\labels\\test\\ppe_0193.txt\n",
      "Moved ppe_0852.txt → F:/coding_projects/datasets/CHV_dataset\\labels\\test\\ppe_0852.txt\n",
      "Moved ppe_0067.txt → F:/coding_projects/datasets/CHV_dataset\\labels\\test\\ppe_0067.txt\n",
      "Moved ppe_0597.txt → F:/coding_projects/datasets/CHV_dataset\\labels\\test\\ppe_0597.txt\n",
      "Moved ppe_1305.txt → F:/coding_projects/datasets/CHV_dataset\\labels\\test\\ppe_1305.txt\n",
      "Moved ppe_0594.txt → F:/coding_projects/datasets/CHV_dataset\\labels\\test\\ppe_0594.txt\n",
      "Moved ppe_0982.txt → F:/coding_projects/datasets/CHV_dataset\\labels\\test\\ppe_0982.txt\n",
      "Moved ppe_1308.txt → F:/coding_projects/datasets/CHV_dataset\\labels\\test\\ppe_1308.txt\n",
      "Moved ppe_0360.txt → F:/coding_projects/datasets/CHV_dataset\\labels\\test\\ppe_0360.txt\n",
      "Moved ppe_0518.txt → F:/coding_projects/datasets/CHV_dataset\\labels\\test\\ppe_0518.txt\n",
      "Moved ppe_0809.txt → F:/coding_projects/datasets/CHV_dataset\\labels\\test\\ppe_0809.txt\n",
      "Moved ppe_0933.txt → F:/coding_projects/datasets/CHV_dataset\\labels\\test\\ppe_0933.txt\n",
      "Moved ppe_0083.txt → F:/coding_projects/datasets/CHV_dataset\\labels\\test\\ppe_0083.txt\n",
      "Moved ppe_0970.txt → F:/coding_projects/datasets/CHV_dataset\\labels\\test\\ppe_0970.txt\n",
      "Moved ppe_0317.txt → F:/coding_projects/datasets/CHV_dataset\\labels\\test\\ppe_0317.txt\n",
      "Moved ppe_0741.txt → F:/coding_projects/datasets/CHV_dataset\\labels\\test\\ppe_0741.txt\n",
      "Moved ppe_0270.txt → F:/coding_projects/datasets/CHV_dataset\\labels\\test\\ppe_0270.txt\n",
      "Moved ppe_0837.txt → F:/coding_projects/datasets/CHV_dataset\\labels\\test\\ppe_0837.txt\n",
      "Moved ppe_0633.txt → F:/coding_projects/datasets/CHV_dataset\\labels\\test\\ppe_0633.txt\n",
      "Moved ppe_0141.txt → F:/coding_projects/datasets/CHV_dataset\\labels\\test\\ppe_0141.txt\n",
      "Moved ppe_0762.txt → F:/coding_projects/datasets/CHV_dataset\\labels\\test\\ppe_0762.txt\n",
      "Moved ppe_0533.txt → F:/coding_projects/datasets/CHV_dataset\\labels\\test\\ppe_0533.txt\n",
      "Moved ppe_1289.txt → F:/coding_projects/datasets/CHV_dataset\\labels\\test\\ppe_1289.txt\n",
      "Moved ppe_0824.txt → F:/coding_projects/datasets/CHV_dataset\\labels\\test\\ppe_0824.txt\n",
      "Moved ppe_0345.txt → F:/coding_projects/datasets/CHV_dataset\\labels\\test\\ppe_0345.txt\n",
      "Moved ppe_0817.txt → F:/coding_projects/datasets/CHV_dataset\\labels\\test\\ppe_0817.txt\n",
      "Moved ppe_0062.txt → F:/coding_projects/datasets/CHV_dataset\\labels\\test\\ppe_0062.txt\n",
      "Moved ppe_0698.txt → F:/coding_projects/datasets/CHV_dataset\\labels\\test\\ppe_0698.txt\n",
      "Moved ppe_1170.txt → F:/coding_projects/datasets/CHV_dataset\\labels\\test\\ppe_1170.txt\n",
      "Moved ppe_0517.txt → F:/coding_projects/datasets/CHV_dataset\\labels\\test\\ppe_0517.txt\n",
      "Moved ppe_0592.txt → F:/coding_projects/datasets/CHV_dataset\\labels\\test\\ppe_0592.txt\n",
      "Moved ppe_1251.txt → F:/coding_projects/datasets/CHV_dataset\\labels\\test\\ppe_1251.txt\n",
      "Moved ppe_0048.txt → F:/coding_projects/datasets/CHV_dataset\\labels\\test\\ppe_0048.txt\n",
      "Moved ppe_0329.txt → F:/coding_projects/datasets/CHV_dataset\\labels\\test\\ppe_0329.txt\n",
      "Moved ppe_0608.txt → F:/coding_projects/datasets/CHV_dataset\\labels\\test\\ppe_0608.txt\n",
      "Moved ppe_1053.txt → F:/coding_projects/datasets/CHV_dataset\\labels\\test\\ppe_1053.txt\n",
      "Moved ppe_0079.txt → F:/coding_projects/datasets/CHV_dataset\\labels\\test\\ppe_0079.txt\n",
      "Moved ppe_0142.txt → F:/coding_projects/datasets/CHV_dataset\\labels\\test\\ppe_0142.txt\n",
      "Moved ppe_0321.txt → F:/coding_projects/datasets/CHV_dataset\\labels\\test\\ppe_0321.txt\n",
      "Moved ppe_0116.txt → F:/coding_projects/datasets/CHV_dataset\\labels\\test\\ppe_0116.txt\n",
      "Moved ppe_0266.txt → F:/coding_projects/datasets/CHV_dataset\\labels\\test\\ppe_0266.txt\n",
      "Moved ppe_1229.txt → F:/coding_projects/datasets/CHV_dataset\\labels\\test\\ppe_1229.txt\n",
      "Moved ppe_1225.txt → F:/coding_projects/datasets/CHV_dataset\\labels\\test\\ppe_1225.txt\n",
      "Moved ppe_0281.txt → F:/coding_projects/datasets/CHV_dataset\\labels\\test\\ppe_0281.txt\n",
      "Moved ppe_0909.txt → F:/coding_projects/datasets/CHV_dataset\\labels\\test\\ppe_0909.txt\n",
      "Moved ppe_0969.txt → F:/coding_projects/datasets/CHV_dataset\\labels\\test\\ppe_0969.txt\n",
      "Moved ppe_0716.txt → F:/coding_projects/datasets/CHV_dataset\\labels\\test\\ppe_0716.txt\n",
      "Moved ppe_1327.txt → F:/coding_projects/datasets/CHV_dataset\\labels\\test\\ppe_1327.txt\n",
      "Moved ppe_1156.txt → F:/coding_projects/datasets/CHV_dataset\\labels\\test\\ppe_1156.txt\n",
      "Moved ppe_0857.txt → F:/coding_projects/datasets/CHV_dataset\\labels\\test\\ppe_0857.txt\n",
      "Moved ppe_0042.txt → F:/coding_projects/datasets/CHV_dataset\\labels\\test\\ppe_0042.txt\n",
      "Moved ppe_0527.txt → F:/coding_projects/datasets/CHV_dataset\\labels\\test\\ppe_0527.txt\n",
      "Moved ppe_0410.txt → F:/coding_projects/datasets/CHV_dataset\\labels\\test\\ppe_0410.txt\n",
      "Moved ppe_0568.txt → F:/coding_projects/datasets/CHV_dataset\\labels\\test\\ppe_0568.txt\n",
      "Moved ppe_1242.txt → F:/coding_projects/datasets/CHV_dataset\\labels\\test\\ppe_1242.txt\n",
      "Moved ppe_0069.txt → F:/coding_projects/datasets/CHV_dataset\\labels\\test\\ppe_0069.txt\n",
      "Moved ppe_0214.txt → F:/coding_projects/datasets/CHV_dataset\\labels\\test\\ppe_0214.txt\n",
      "Moved ppe_0846.txt → F:/coding_projects/datasets/CHV_dataset\\labels\\test\\ppe_0846.txt\n",
      "Moved ppe_0003.txt → F:/coding_projects/datasets/CHV_dataset\\labels\\test\\ppe_0003.txt\n",
      "Moved ppe_1236.txt → F:/coding_projects/datasets/CHV_dataset\\labels\\test\\ppe_1236.txt\n",
      "Moved ppe_1059.txt → F:/coding_projects/datasets/CHV_dataset\\labels\\test\\ppe_1059.txt\n",
      "Moved ppe_0629.txt → F:/coding_projects/datasets/CHV_dataset\\labels\\test\\ppe_0629.txt\n",
      "Moved ppe_1044.txt → F:/coding_projects/datasets/CHV_dataset\\labels\\test\\ppe_1044.txt\n",
      "Moved ppe_0682.txt → F:/coding_projects/datasets/CHV_dataset\\labels\\test\\ppe_0682.txt\n",
      "Moved ppe_0068.txt → F:/coding_projects/datasets/CHV_dataset\\labels\\test\\ppe_0068.txt\n",
      "Moved ppe_0904.txt → F:/coding_projects/datasets/CHV_dataset\\labels\\test\\ppe_0904.txt\n",
      "Moved ppe_0037.txt → F:/coding_projects/datasets/CHV_dataset\\labels\\test\\ppe_0037.txt\n",
      "Moved ppe_1287.txt → F:/coding_projects/datasets/CHV_dataset\\labels\\test\\ppe_1287.txt\n",
      "Moved ppe_0176.txt → F:/coding_projects/datasets/CHV_dataset\\labels\\test\\ppe_0176.txt\n",
      "Moved ppe_0443.txt → F:/coding_projects/datasets/CHV_dataset\\labels\\test\\ppe_0443.txt\n",
      "Moved ppe_0540.txt → F:/coding_projects/datasets/CHV_dataset\\labels\\test\\ppe_0540.txt\n",
      "Moved ppe_0683.txt → F:/coding_projects/datasets/CHV_dataset\\labels\\test\\ppe_0683.txt\n",
      "Moved ppe_0509.txt → F:/coding_projects/datasets/CHV_dataset\\labels\\test\\ppe_0509.txt\n",
      "Moved ppe_0394.txt → F:/coding_projects/datasets/CHV_dataset\\labels\\test\\ppe_0394.txt\n",
      "Moved ppe_0163.txt → F:/coding_projects/datasets/CHV_dataset\\labels\\test\\ppe_0163.txt\n",
      "Moved ppe_0935.txt → F:/coding_projects/datasets/CHV_dataset\\labels\\test\\ppe_0935.txt\n",
      "Moved ppe_0998.txt → F:/coding_projects/datasets/CHV_dataset\\labels\\test\\ppe_0998.txt\n",
      "Moved ppe_0972.txt → F:/coding_projects/datasets/CHV_dataset\\labels\\test\\ppe_0972.txt\n",
      "Moved ppe_0580.txt → F:/coding_projects/datasets/CHV_dataset\\labels\\test\\ppe_0580.txt\n",
      "Moved ppe_0842.txt → F:/coding_projects/datasets/CHV_dataset\\labels\\test\\ppe_0842.txt\n",
      "Moved ppe_0256.txt → F:/coding_projects/datasets/CHV_dataset\\labels\\test\\ppe_0256.txt\n",
      "Moved ppe_1318.txt → F:/coding_projects/datasets/CHV_dataset\\labels\\test\\ppe_1318.txt\n",
      "Moved ppe_0539.txt → F:/coding_projects/datasets/CHV_dataset\\labels\\test\\ppe_0539.txt\n",
      "Moved ppe_0515.txt → F:/coding_projects/datasets/CHV_dataset\\labels\\test\\ppe_0515.txt\n",
      "Moved ppe_0700.txt → F:/coding_projects/datasets/CHV_dataset\\labels\\test\\ppe_0700.txt\n",
      "Moved ppe_0119.txt → F:/coding_projects/datasets/CHV_dataset\\labels\\test\\ppe_0119.txt\n",
      "Moved ppe_1015.txt → F:/coding_projects/datasets/CHV_dataset\\labels\\test\\ppe_1015.txt\n",
      "Moved ppe_0327.txt → F:/coding_projects/datasets/CHV_dataset\\labels\\test\\ppe_0327.txt\n",
      "Moved ppe_0984.txt → F:/coding_projects/datasets/CHV_dataset\\labels\\test\\ppe_0984.txt\n",
      "Moved ppe_0614.txt → F:/coding_projects/datasets/CHV_dataset\\labels\\test\\ppe_0614.txt\n",
      "Moved ppe_1266.txt → F:/coding_projects/datasets/CHV_dataset\\labels\\test\\ppe_1266.txt\n",
      "Moved ppe_0543.txt → F:/coding_projects/datasets/CHV_dataset\\labels\\test\\ppe_0543.txt\n",
      "Moved ppe_1023.txt → F:/coding_projects/datasets/CHV_dataset\\labels\\test\\ppe_1023.txt\n",
      "Moved ppe_0573.txt → F:/coding_projects/datasets/CHV_dataset\\labels\\test\\ppe_0573.txt\n",
      "Moved ppe_0432.txt → F:/coding_projects/datasets/CHV_dataset\\labels\\test\\ppe_0432.txt\n",
      "Moved ppe_0788.txt → F:/coding_projects/datasets/CHV_dataset\\labels\\test\\ppe_0788.txt\n",
      "Moved ppe_0713.txt → F:/coding_projects/datasets/CHV_dataset\\labels\\test\\ppe_0713.txt\n",
      "Moved ppe_0665.txt → F:/coding_projects/datasets/CHV_dataset\\labels\\test\\ppe_0665.txt\n",
      "Moved ppe_0872.txt → F:/coding_projects/datasets/CHV_dataset\\labels\\test\\ppe_0872.txt\n",
      "Moved ppe_1113.txt → F:/coding_projects/datasets/CHV_dataset\\labels\\test\\ppe_1113.txt\n",
      "Moved ppe_1203.txt → F:/coding_projects/datasets/CHV_dataset\\labels\\test\\ppe_1203.txt\n",
      "Moved ppe_1262.txt → F:/coding_projects/datasets/CHV_dataset\\labels\\test\\ppe_1262.txt\n",
      "Moved ppe_0758.txt → F:/coding_projects/datasets/CHV_dataset\\labels\\test\\ppe_0758.txt\n",
      "Moved ppe_0140.txt → F:/coding_projects/datasets/CHV_dataset\\labels\\test\\ppe_0140.txt\n",
      "Moved ppe_0508.txt → F:/coding_projects/datasets/CHV_dataset\\labels\\test\\ppe_0508.txt\n",
      "Moved ppe_0529.txt → F:/coding_projects/datasets/CHV_dataset\\labels\\test\\ppe_0529.txt\n",
      "Moved ppe_0967.txt → F:/coding_projects/datasets/CHV_dataset\\labels\\test\\ppe_0967.txt\n",
      "Moved ppe_0352.txt → F:/coding_projects/datasets/CHV_dataset\\labels\\test\\ppe_0352.txt\n",
      "Moved ppe_0363.txt → F:/coding_projects/datasets/CHV_dataset\\labels\\test\\ppe_0363.txt\n",
      "Moved ppe_0373.txt → F:/coding_projects/datasets/CHV_dataset\\labels\\test\\ppe_0373.txt\n",
      "Moved ppe_1071.txt → F:/coding_projects/datasets/CHV_dataset\\labels\\test\\ppe_1071.txt\n",
      "Moved ppe_0434.txt → F:/coding_projects/datasets/CHV_dataset\\labels\\test\\ppe_0434.txt\n",
      "Moved ppe_0278.txt → F:/coding_projects/datasets/CHV_dataset\\labels\\test\\ppe_0278.txt\n",
      "Moved ppe_0121.txt → F:/coding_projects/datasets/CHV_dataset\\labels\\test\\ppe_0121.txt\n",
      "Moved ppe_1090.txt → F:/coding_projects/datasets/CHV_dataset\\labels\\test\\ppe_1090.txt\n",
      "Moved ppe_0356.txt → F:/coding_projects/datasets/CHV_dataset\\labels\\test\\ppe_0356.txt\n",
      "Moved ppe_0059.txt → F:/coding_projects/datasets/CHV_dataset\\labels\\test\\ppe_0059.txt\n",
      "Moved ppe_1035.txt → F:/coding_projects/datasets/CHV_dataset\\labels\\test\\ppe_1035.txt\n",
      "Moved ppe_0229.txt → F:/coding_projects/datasets/CHV_dataset\\labels\\test\\ppe_0229.txt\n",
      "Moved ppe_0560.txt → F:/coding_projects/datasets/CHV_dataset\\labels\\test\\ppe_0560.txt\n",
      "Moved ppe_1209.txt → F:/coding_projects/datasets/CHV_dataset\\labels\\test\\ppe_1209.txt\n",
      "Moved ppe_1122.txt → F:/coding_projects/datasets/CHV_dataset\\labels\\test\\ppe_1122.txt\n",
      "Moved ppe_1087.txt → F:/coding_projects/datasets/CHV_dataset\\labels\\test\\ppe_1087.txt\n",
      "Moved ppe_0583.txt → F:/coding_projects/datasets/CHV_dataset\\labels\\test\\ppe_0583.txt\n",
      "Moved ppe_0028.txt → F:/coding_projects/datasets/CHV_dataset\\labels\\test\\ppe_0028.txt\n",
      "Moved ppe_1008.txt → F:/coding_projects/datasets/CHV_dataset\\labels\\test\\ppe_1008.txt\n",
      "Moved ppe_0463.txt → F:/coding_projects/datasets/CHV_dataset\\labels\\test\\ppe_0463.txt\n",
      "Moved ppe_0899.txt → F:/coding_projects/datasets/CHV_dataset\\labels\\test\\ppe_0899.txt\n",
      "Moved ppe_0759.txt → F:/coding_projects/datasets/CHV_dataset\\labels\\test\\ppe_0759.txt\n",
      "Moved ppe_0468.txt → F:/coding_projects/datasets/CHV_dataset\\labels\\test\\ppe_0468.txt\n",
      "Moved ppe_1127.txt → F:/coding_projects/datasets/CHV_dataset\\labels\\test\\ppe_1127.txt\n",
      "Moved ppe_1270.txt → F:/coding_projects/datasets/CHV_dataset\\labels\\test\\ppe_1270.txt\n",
      "Moved ppe_0832.txt → F:/coding_projects/datasets/CHV_dataset\\labels\\test\\ppe_0832.txt\n",
      "Label organization complete!\n"
     ]
    }
   ],
   "source": [
    "import os\n",
    "import shutil\n",
    "\n",
    "# Define dataset root path\n",
    "dataset_root = \"F:/coding_projects/datasets/CHV_dataset\"\n",
    "\n",
    "# Define paths\n",
    "image_splits = {\n",
    "    \"train\": os.path.join(dataset_root, \"datasplit/train.txt\"),\n",
    "    \"val\": os.path.join(dataset_root, \"datasplit/valid.txt\"),\n",
    "    \"test\": os.path.join(dataset_root, \"datasplit/test.txt\"),\n",
    "}\n",
    "labels_all = os.path.join(dataset_root, \"annotations\")\n",
    "labels_dir = os.path.join(dataset_root, \"labels\")\n",
    "\n",
    "# Create train/val/test label folders if they don't exist\n",
    "for split in image_splits.keys():\n",
    "    os.makedirs(os.path.join(labels_dir, split), exist_ok=True)\n",
    "\n",
    "# Move label files\n",
    "for split, file_path in image_splits.items():\n",
    "    with open(file_path, \"r\") as f:\n",
    "        for line in f:\n",
    "            image_name = os.path.basename(line.strip())  # Get image filename\n",
    "            label_name = os.path.splitext(image_name)[0] + \".txt\"  # Convert to label filename\n",
    "            src_label = os.path.join(labels_all, label_name)\n",
    "            dest_label = os.path.join(labels_dir, split, label_name)\n",
    "\n",
    "            if os.path.exists(src_label):\n",
    "                shutil.move(src_label, dest_label)\n",
    "                print(f\"Moved {label_name} → {dest_label}\")\n",
    "            else:\n",
    "                print(f\"Warning: No label found for {image_name}\")\n",
    "\n",
    "print(\"Label organization complete!\")"
   ]
  },
  {
   "cell_type": "code",
   "execution_count": 20,
   "metadata": {},
   "outputs": [
    {
     "name": "stdout",
     "output_type": "stream",
     "text": [
      "Ultralytics 8.3.82  Python-3.12.7 torch-2.6.0+cu118 CUDA:0 (NVIDIA GeForce RTX 3080, 12288MiB)\n",
      "\u001b[34m\u001b[1mengine\\trainer: \u001b[0mtask=detect, mode=train, model=yolov8n.yaml, data=F:\\coding_projects\\datasets\\CHV_dataset\\dataset.yaml, epochs=100, time=None, patience=100, batch=16, imgsz=640, save=True, save_period=-1, cache=False, device=cuda, workers=8, project=None, name=train35, exist_ok=False, pretrained=yolov8n.pt, optimizer=auto, verbose=True, seed=0, deterministic=True, single_cls=False, rect=False, cos_lr=False, close_mosaic=10, resume=False, amp=True, fraction=1.0, profile=False, freeze=None, multi_scale=False, overlap_mask=True, mask_ratio=4, dropout=0.0, val=True, split=val, save_json=False, save_hybrid=False, conf=None, iou=0.7, max_det=300, half=False, dnn=False, plots=True, source=None, vid_stride=1, stream_buffer=False, visualize=False, augment=False, agnostic_nms=False, classes=None, retina_masks=False, embed=None, show=False, save_frames=False, save_txt=False, save_conf=False, save_crop=False, show_labels=True, show_conf=True, show_boxes=True, line_width=None, format=torchscript, keras=False, optimize=False, int8=False, dynamic=False, simplify=True, opset=None, workspace=None, nms=False, lr0=0.01, lrf=0.01, momentum=0.937, weight_decay=0.0005, warmup_epochs=3.0, warmup_momentum=0.8, warmup_bias_lr=0.1, box=7.5, cls=0.5, dfl=1.5, pose=12.0, kobj=1.0, nbs=64, hsv_h=0.015, hsv_s=0.7, hsv_v=0.4, degrees=0.0, translate=0.1, scale=0.5, shear=0.0, perspective=0.0, flipud=0.0, fliplr=0.5, bgr=0.0, mosaic=1.0, mixup=0.0, copy_paste=0.0, copy_paste_mode=flip, auto_augment=randaugment, erasing=0.4, crop_fraction=1.0, cfg=None, tracker=botsort.yaml, save_dir=f:\\coding_projects\\hardhat_detection_on_construction_site\\runs\\detect\\train35\n",
      "\n",
      "                   from  n    params  module                                       arguments                     \n",
      "  0                  -1  1       464  ultralytics.nn.modules.conv.Conv             [3, 16, 3, 2]                 \n",
      "  1                  -1  1      4672  ultralytics.nn.modules.conv.Conv             [16, 32, 3, 2]                \n",
      "  2                  -1  1      7360  ultralytics.nn.modules.block.C2f             [32, 32, 1, True]             \n",
      "  3                  -1  1     18560  ultralytics.nn.modules.conv.Conv             [32, 64, 3, 2]                \n",
      "  4                  -1  2     49664  ultralytics.nn.modules.block.C2f             [64, 64, 2, True]             \n",
      "  5                  -1  1     73984  ultralytics.nn.modules.conv.Conv             [64, 128, 3, 2]               \n",
      "  6                  -1  2    197632  ultralytics.nn.modules.block.C2f             [128, 128, 2, True]           \n",
      "  7                  -1  1    295424  ultralytics.nn.modules.conv.Conv             [128, 256, 3, 2]              \n",
      "  8                  -1  1    460288  ultralytics.nn.modules.block.C2f             [256, 256, 1, True]           \n",
      "  9                  -1  1    164608  ultralytics.nn.modules.block.SPPF            [256, 256, 5]                 \n",
      " 10                  -1  1         0  torch.nn.modules.upsampling.Upsample         [None, 2, 'nearest']          \n",
      " 11             [-1, 6]  1         0  ultralytics.nn.modules.conv.Concat           [1]                           \n",
      " 12                  -1  1    148224  ultralytics.nn.modules.block.C2f             [384, 128, 1]                 \n",
      " 13                  -1  1         0  torch.nn.modules.upsampling.Upsample         [None, 2, 'nearest']          \n",
      " 14             [-1, 4]  1         0  ultralytics.nn.modules.conv.Concat           [1]                           \n",
      " 15                  -1  1     37248  ultralytics.nn.modules.block.C2f             [192, 64, 1]                  \n",
      " 16                  -1  1     36992  ultralytics.nn.modules.conv.Conv             [64, 64, 3, 2]                \n",
      " 17            [-1, 12]  1         0  ultralytics.nn.modules.conv.Concat           [1]                           \n",
      " 18                  -1  1    123648  ultralytics.nn.modules.block.C2f             [192, 128, 1]                 \n",
      " 19                  -1  1    147712  ultralytics.nn.modules.conv.Conv             [128, 128, 3, 2]              \n",
      " 20             [-1, 9]  1         0  ultralytics.nn.modules.conv.Concat           [1]                           \n",
      " 21                  -1  1    493056  ultralytics.nn.modules.block.C2f             [384, 256, 1]                 \n",
      " 22        [15, 18, 21]  1    752482  ultralytics.nn.modules.head.Detect           [6, [64, 128, 256]]           \n",
      "YOLOv8n summary: 129 layers, 3,012,018 parameters, 3,012,002 gradients, 8.2 GFLOPs\n",
      "\n",
      "Transferred 355/355 items from pretrained weights\n",
      "Freezing layer 'model.22.dfl.conv.weight'\n",
      "\u001b[34m\u001b[1mAMP: \u001b[0mrunning Automatic Mixed Precision (AMP) checks...\n",
      "\u001b[34m\u001b[1mAMP: \u001b[0mchecks passed \n"
     ]
    },
    {
     "name": "stderr",
     "output_type": "stream",
     "text": [
      "\u001b[34m\u001b[1mtrain: \u001b[0mScanning F:\\coding_projects\\datasets\\CHV_dataset\\labels\\train... 1064 images, 0 backgrounds, 0 corrupt: 100%|██████████| 1064/1064 [00:00<00:00, 2419.24it/s]\n"
     ]
    },
    {
     "name": "stdout",
     "output_type": "stream",
     "text": [
      "\u001b[34m\u001b[1mtrain: \u001b[0mNew cache created: F:\\coding_projects\\datasets\\CHV_dataset\\labels\\train.cache\n"
     ]
    },
    {
     "name": "stderr",
     "output_type": "stream",
     "text": [
      "\u001b[34m\u001b[1mval: \u001b[0mScanning F:\\coding_projects\\datasets\\CHV_dataset\\labels\\val... 133 images, 0 backgrounds, 0 corrupt: 100%|██████████| 133/133 [00:00<00:00, 1634.67it/s]"
     ]
    },
    {
     "name": "stdout",
     "output_type": "stream",
     "text": [
      "\u001b[34m\u001b[1mval: \u001b[0mNew cache created: F:\\coding_projects\\datasets\\CHV_dataset\\labels\\val.cache\n"
     ]
    },
    {
     "name": "stderr",
     "output_type": "stream",
     "text": [
      "\n"
     ]
    },
    {
     "name": "stdout",
     "output_type": "stream",
     "text": [
      "Plotting labels to f:\\coding_projects\\hardhat_detection_on_construction_site\\runs\\detect\\train35\\labels.jpg... \n",
      "\u001b[34m\u001b[1moptimizer:\u001b[0m 'optimizer=auto' found, ignoring 'lr0=0.01' and 'momentum=0.937' and determining best 'optimizer', 'lr0' and 'momentum' automatically... \n",
      "\u001b[34m\u001b[1moptimizer:\u001b[0m AdamW(lr=0.001, momentum=0.9) with parameter groups 57 weight(decay=0.0), 64 weight(decay=0.0005), 63 bias(decay=0.0)\n",
      "Image sizes 640 train, 640 val\n",
      "Using 8 dataloader workers\n",
      "Logging results to \u001b[1mf:\\coding_projects\\hardhat_detection_on_construction_site\\runs\\detect\\train35\u001b[0m\n",
      "Starting training for 100 epochs...\n",
      "\n",
      "      Epoch    GPU_mem   box_loss   cls_loss   dfl_loss  Instances       Size\n"
     ]
    },
    {
     "name": "stderr",
     "output_type": "stream",
     "text": [
      "      1/100      5.17G      3.376      4.587       2.81        101        640: 100%|██████████| 67/67 [00:09<00:00,  7.28it/s]\n",
      "                 Class     Images  Instances      Box(P          R      mAP50  mAP50-95): 100%|██████████| 5/5 [00:00<00:00,  8.78it/s]\n"
     ]
    },
    {
     "name": "stdout",
     "output_type": "stream",
     "text": [
      "                   all        133        917    0.00226     0.0921    0.00277   0.000863\n",
      "\n",
      "      Epoch    GPU_mem   box_loss   cls_loss   dfl_loss  Instances       Size\n"
     ]
    },
    {
     "name": "stderr",
     "output_type": "stream",
     "text": [
      "      2/100      2.71G      2.638      3.442      2.405        121        640: 100%|██████████| 67/67 [00:05<00:00, 12.36it/s]\n",
      "                 Class     Images  Instances      Box(P          R      mAP50  mAP50-95): 100%|██████████| 5/5 [00:00<00:00,  9.16it/s]\n"
     ]
    },
    {
     "name": "stdout",
     "output_type": "stream",
     "text": [
      "                   all        133        917      0.437     0.0902     0.0716     0.0309\n",
      "\n",
      "      Epoch    GPU_mem   box_loss   cls_loss   dfl_loss  Instances       Size\n"
     ]
    },
    {
     "name": "stderr",
     "output_type": "stream",
     "text": [
      "      3/100      2.34G      2.123      2.627      2.041        106        640: 100%|██████████| 67/67 [00:05<00:00, 12.99it/s]\n",
      "                 Class     Images  Instances      Box(P          R      mAP50  mAP50-95): 100%|██████████| 5/5 [00:00<00:00, 10.21it/s]"
     ]
    },
    {
     "name": "stdout",
     "output_type": "stream",
     "text": [
      "                   all        133        917      0.245      0.351      0.226      0.101\n"
     ]
    },
    {
     "name": "stderr",
     "output_type": "stream",
     "text": [
      "\n"
     ]
    },
    {
     "name": "stdout",
     "output_type": "stream",
     "text": [
      "\n",
      "      Epoch    GPU_mem   box_loss   cls_loss   dfl_loss  Instances       Size\n"
     ]
    },
    {
     "name": "stderr",
     "output_type": "stream",
     "text": [
      "      4/100      2.42G      1.873      2.142      1.768         77        640: 100%|██████████| 67/67 [00:05<00:00, 12.88it/s]\n",
      "                 Class     Images  Instances      Box(P          R      mAP50  mAP50-95): 100%|██████████| 5/5 [00:00<00:00,  9.35it/s]"
     ]
    },
    {
     "name": "stdout",
     "output_type": "stream",
     "text": [
      "                   all        133        917      0.376      0.393      0.336      0.173\n"
     ]
    },
    {
     "name": "stderr",
     "output_type": "stream",
     "text": [
      "\n"
     ]
    },
    {
     "name": "stdout",
     "output_type": "stream",
     "text": [
      "\n",
      "      Epoch    GPU_mem   box_loss   cls_loss   dfl_loss  Instances       Size\n"
     ]
    },
    {
     "name": "stderr",
     "output_type": "stream",
     "text": [
      "      5/100      2.42G      1.771      1.925      1.687         89        640: 100%|██████████| 67/67 [00:05<00:00, 12.98it/s]\n",
      "                 Class     Images  Instances      Box(P          R      mAP50  mAP50-95): 100%|██████████| 5/5 [00:00<00:00,  9.92it/s]\n"
     ]
    },
    {
     "name": "stdout",
     "output_type": "stream",
     "text": [
      "                   all        133        917      0.582      0.511      0.504      0.259\n",
      "\n",
      "      Epoch    GPU_mem   box_loss   cls_loss   dfl_loss  Instances       Size\n"
     ]
    },
    {
     "name": "stderr",
     "output_type": "stream",
     "text": [
      "      6/100      2.23G      1.689      1.714      1.624         94        640: 100%|██████████| 67/67 [00:05<00:00, 13.09it/s]\n",
      "                 Class     Images  Instances      Box(P          R      mAP50  mAP50-95): 100%|██████████| 5/5 [00:00<00:00, 10.83it/s]"
     ]
    },
    {
     "name": "stdout",
     "output_type": "stream",
     "text": [
      "                   all        133        917      0.639      0.573      0.635       0.34\n"
     ]
    },
    {
     "name": "stderr",
     "output_type": "stream",
     "text": [
      "\n"
     ]
    },
    {
     "name": "stdout",
     "output_type": "stream",
     "text": [
      "\n",
      "      Epoch    GPU_mem   box_loss   cls_loss   dfl_loss  Instances       Size\n"
     ]
    },
    {
     "name": "stderr",
     "output_type": "stream",
     "text": [
      "      7/100      2.53G      1.645      1.551      1.568        139        640: 100%|██████████| 67/67 [00:05<00:00, 13.19it/s]\n",
      "                 Class     Images  Instances      Box(P          R      mAP50  mAP50-95): 100%|██████████| 5/5 [00:00<00:00, 10.34it/s]"
     ]
    },
    {
     "name": "stdout",
     "output_type": "stream",
     "text": [
      "                   all        133        917       0.76      0.603      0.701       0.37\n"
     ]
    },
    {
     "name": "stderr",
     "output_type": "stream",
     "text": [
      "\n"
     ]
    },
    {
     "name": "stdout",
     "output_type": "stream",
     "text": [
      "\n",
      "      Epoch    GPU_mem   box_loss   cls_loss   dfl_loss  Instances       Size\n"
     ]
    },
    {
     "name": "stderr",
     "output_type": "stream",
     "text": [
      "      8/100      2.35G      1.616      1.469      1.546        102        640: 100%|██████████| 67/67 [00:05<00:00, 13.09it/s]\n",
      "                 Class     Images  Instances      Box(P          R      mAP50  mAP50-95): 100%|██████████| 5/5 [00:00<00:00,  9.91it/s]"
     ]
    },
    {
     "name": "stdout",
     "output_type": "stream",
     "text": [
      "                   all        133        917      0.806      0.637      0.732      0.407\n"
     ]
    },
    {
     "name": "stderr",
     "output_type": "stream",
     "text": [
      "\n"
     ]
    },
    {
     "name": "stdout",
     "output_type": "stream",
     "text": [
      "\n",
      "      Epoch    GPU_mem   box_loss   cls_loss   dfl_loss  Instances       Size\n"
     ]
    },
    {
     "name": "stderr",
     "output_type": "stream",
     "text": [
      "      9/100      2.46G      1.565      1.391      1.513        126        640: 100%|██████████| 67/67 [00:05<00:00, 13.12it/s]\n",
      "                 Class     Images  Instances      Box(P          R      mAP50  mAP50-95): 100%|██████████| 5/5 [00:00<00:00, 10.53it/s]"
     ]
    },
    {
     "name": "stdout",
     "output_type": "stream",
     "text": [
      "                   all        133        917      0.786       0.68      0.768      0.428\n"
     ]
    },
    {
     "name": "stderr",
     "output_type": "stream",
     "text": [
      "\n"
     ]
    },
    {
     "name": "stdout",
     "output_type": "stream",
     "text": [
      "\n",
      "      Epoch    GPU_mem   box_loss   cls_loss   dfl_loss  Instances       Size\n"
     ]
    },
    {
     "name": "stderr",
     "output_type": "stream",
     "text": [
      "     10/100      2.75G      1.562      1.352      1.515         78        640: 100%|██████████| 67/67 [00:05<00:00, 13.17it/s]\n",
      "                 Class     Images  Instances      Box(P          R      mAP50  mAP50-95): 100%|██████████| 5/5 [00:00<00:00, 10.61it/s]"
     ]
    },
    {
     "name": "stdout",
     "output_type": "stream",
     "text": [
      "                   all        133        917      0.798      0.678      0.765      0.439\n"
     ]
    },
    {
     "name": "stderr",
     "output_type": "stream",
     "text": [
      "\n"
     ]
    },
    {
     "name": "stdout",
     "output_type": "stream",
     "text": [
      "\n",
      "      Epoch    GPU_mem   box_loss   cls_loss   dfl_loss  Instances       Size\n"
     ]
    },
    {
     "name": "stderr",
     "output_type": "stream",
     "text": [
      "     11/100      2.22G      1.513      1.285      1.487        115        640: 100%|██████████| 67/67 [00:05<00:00, 13.20it/s]\n",
      "                 Class     Images  Instances      Box(P          R      mAP50  mAP50-95): 100%|██████████| 5/5 [00:00<00:00, 10.65it/s]"
     ]
    },
    {
     "name": "stdout",
     "output_type": "stream",
     "text": [
      "                   all        133        917      0.817      0.654      0.762      0.432\n"
     ]
    },
    {
     "name": "stderr",
     "output_type": "stream",
     "text": [
      "\n"
     ]
    },
    {
     "name": "stdout",
     "output_type": "stream",
     "text": [
      "\n",
      "      Epoch    GPU_mem   box_loss   cls_loss   dfl_loss  Instances       Size\n"
     ]
    },
    {
     "name": "stderr",
     "output_type": "stream",
     "text": [
      "     12/100      2.44G      1.515      1.252      1.475        125        640: 100%|██████████| 67/67 [00:05<00:00, 13.05it/s]\n",
      "                 Class     Images  Instances      Box(P          R      mAP50  mAP50-95): 100%|██████████| 5/5 [00:00<00:00, 10.23it/s]"
     ]
    },
    {
     "name": "stdout",
     "output_type": "stream",
     "text": [
      "                   all        133        917      0.789       0.67      0.754      0.412\n"
     ]
    },
    {
     "name": "stderr",
     "output_type": "stream",
     "text": [
      "\n"
     ]
    },
    {
     "name": "stdout",
     "output_type": "stream",
     "text": [
      "\n",
      "      Epoch    GPU_mem   box_loss   cls_loss   dfl_loss  Instances       Size\n"
     ]
    },
    {
     "name": "stderr",
     "output_type": "stream",
     "text": [
      "     13/100      2.47G      1.492      1.233      1.471         70        640: 100%|██████████| 67/67 [00:05<00:00, 13.12it/s]\n",
      "                 Class     Images  Instances      Box(P          R      mAP50  mAP50-95): 100%|██████████| 5/5 [00:00<00:00, 10.88it/s]"
     ]
    },
    {
     "name": "stdout",
     "output_type": "stream",
     "text": [
      "                   all        133        917      0.817      0.725      0.795      0.461\n"
     ]
    },
    {
     "name": "stderr",
     "output_type": "stream",
     "text": [
      "\n"
     ]
    },
    {
     "name": "stdout",
     "output_type": "stream",
     "text": [
      "\n",
      "      Epoch    GPU_mem   box_loss   cls_loss   dfl_loss  Instances       Size\n"
     ]
    },
    {
     "name": "stderr",
     "output_type": "stream",
     "text": [
      "     14/100      2.53G      1.472      1.201      1.454         77        640: 100%|██████████| 67/67 [00:05<00:00, 13.15it/s]\n",
      "                 Class     Images  Instances      Box(P          R      mAP50  mAP50-95): 100%|██████████| 5/5 [00:00<00:00, 11.02it/s]"
     ]
    },
    {
     "name": "stdout",
     "output_type": "stream",
     "text": [
      "                   all        133        917      0.862      0.707      0.798      0.457\n"
     ]
    },
    {
     "name": "stderr",
     "output_type": "stream",
     "text": [
      "\n"
     ]
    },
    {
     "name": "stdout",
     "output_type": "stream",
     "text": [
      "\n",
      "      Epoch    GPU_mem   box_loss   cls_loss   dfl_loss  Instances       Size\n"
     ]
    },
    {
     "name": "stderr",
     "output_type": "stream",
     "text": [
      "     15/100       2.4G      1.485      1.167      1.448        161        640: 100%|██████████| 67/67 [00:05<00:00, 13.36it/s]\n",
      "                 Class     Images  Instances      Box(P          R      mAP50  mAP50-95): 100%|██████████| 5/5 [00:00<00:00, 10.68it/s]"
     ]
    },
    {
     "name": "stdout",
     "output_type": "stream",
     "text": [
      "                   all        133        917      0.852      0.672      0.793      0.456\n"
     ]
    },
    {
     "name": "stderr",
     "output_type": "stream",
     "text": [
      "\n"
     ]
    },
    {
     "name": "stdout",
     "output_type": "stream",
     "text": [
      "\n",
      "      Epoch    GPU_mem   box_loss   cls_loss   dfl_loss  Instances       Size\n"
     ]
    },
    {
     "name": "stderr",
     "output_type": "stream",
     "text": [
      "     16/100      2.45G      1.452      1.161      1.436        130        640: 100%|██████████| 67/67 [00:05<00:00, 12.77it/s]\n",
      "                 Class     Images  Instances      Box(P          R      mAP50  mAP50-95): 100%|██████████| 5/5 [00:00<00:00, 10.03it/s]"
     ]
    },
    {
     "name": "stdout",
     "output_type": "stream",
     "text": [
      "                   all        133        917      0.884      0.726      0.811       0.47\n"
     ]
    },
    {
     "name": "stderr",
     "output_type": "stream",
     "text": [
      "\n"
     ]
    },
    {
     "name": "stdout",
     "output_type": "stream",
     "text": [
      "\n",
      "      Epoch    GPU_mem   box_loss   cls_loss   dfl_loss  Instances       Size\n"
     ]
    },
    {
     "name": "stderr",
     "output_type": "stream",
     "text": [
      "     17/100      2.67G      1.444       1.12      1.426        102        640: 100%|██████████| 67/67 [00:05<00:00, 13.19it/s]\n",
      "                 Class     Images  Instances      Box(P          R      mAP50  mAP50-95): 100%|██████████| 5/5 [00:00<00:00, 10.46it/s]"
     ]
    },
    {
     "name": "stdout",
     "output_type": "stream",
     "text": [
      "                   all        133        917      0.815      0.756        0.8       0.46\n"
     ]
    },
    {
     "name": "stderr",
     "output_type": "stream",
     "text": [
      "\n"
     ]
    },
    {
     "name": "stdout",
     "output_type": "stream",
     "text": [
      "\n",
      "      Epoch    GPU_mem   box_loss   cls_loss   dfl_loss  Instances       Size\n"
     ]
    },
    {
     "name": "stderr",
     "output_type": "stream",
     "text": [
      "     18/100      2.46G      1.455      1.146       1.44         95        640: 100%|██████████| 67/67 [00:05<00:00, 13.02it/s]\n",
      "                 Class     Images  Instances      Box(P          R      mAP50  mAP50-95): 100%|██████████| 5/5 [00:00<00:00, 10.70it/s]"
     ]
    },
    {
     "name": "stdout",
     "output_type": "stream",
     "text": [
      "                   all        133        917      0.872       0.72      0.815       0.47\n"
     ]
    },
    {
     "name": "stderr",
     "output_type": "stream",
     "text": [
      "\n"
     ]
    },
    {
     "name": "stdout",
     "output_type": "stream",
     "text": [
      "\n",
      "      Epoch    GPU_mem   box_loss   cls_loss   dfl_loss  Instances       Size\n"
     ]
    },
    {
     "name": "stderr",
     "output_type": "stream",
     "text": [
      "     19/100      2.54G      1.444      1.092       1.42        104        640: 100%|██████████| 67/67 [00:05<00:00, 13.08it/s]\n",
      "                 Class     Images  Instances      Box(P          R      mAP50  mAP50-95): 100%|██████████| 5/5 [00:00<00:00, 10.72it/s]"
     ]
    },
    {
     "name": "stdout",
     "output_type": "stream",
     "text": [
      "                   all        133        917      0.871      0.744      0.824      0.486\n"
     ]
    },
    {
     "name": "stderr",
     "output_type": "stream",
     "text": [
      "\n"
     ]
    },
    {
     "name": "stdout",
     "output_type": "stream",
     "text": [
      "\n",
      "      Epoch    GPU_mem   box_loss   cls_loss   dfl_loss  Instances       Size\n"
     ]
    },
    {
     "name": "stderr",
     "output_type": "stream",
     "text": [
      "     20/100      2.85G      1.435      1.091      1.421        106        640: 100%|██████████| 67/67 [00:05<00:00, 13.12it/s]\n",
      "                 Class     Images  Instances      Box(P          R      mAP50  mAP50-95): 100%|██████████| 5/5 [00:00<00:00, 10.97it/s]"
     ]
    },
    {
     "name": "stdout",
     "output_type": "stream",
     "text": [
      "                   all        133        917      0.831      0.729      0.806      0.463\n"
     ]
    },
    {
     "name": "stderr",
     "output_type": "stream",
     "text": [
      "\n"
     ]
    },
    {
     "name": "stdout",
     "output_type": "stream",
     "text": [
      "\n",
      "      Epoch    GPU_mem   box_loss   cls_loss   dfl_loss  Instances       Size\n"
     ]
    },
    {
     "name": "stderr",
     "output_type": "stream",
     "text": [
      "     21/100      2.62G      1.429      1.056      1.411        125        640: 100%|██████████| 67/67 [00:05<00:00, 13.00it/s]\n",
      "                 Class     Images  Instances      Box(P          R      mAP50  mAP50-95): 100%|██████████| 5/5 [00:00<00:00, 10.32it/s]"
     ]
    },
    {
     "name": "stdout",
     "output_type": "stream",
     "text": [
      "                   all        133        917      0.847      0.761       0.82       0.48\n"
     ]
    },
    {
     "name": "stderr",
     "output_type": "stream",
     "text": [
      "\n"
     ]
    },
    {
     "name": "stdout",
     "output_type": "stream",
     "text": [
      "\n",
      "      Epoch    GPU_mem   box_loss   cls_loss   dfl_loss  Instances       Size\n"
     ]
    },
    {
     "name": "stderr",
     "output_type": "stream",
     "text": [
      "     22/100       2.3G      1.417      1.052      1.398         92        640: 100%|██████████| 67/67 [00:05<00:00, 13.11it/s]\n",
      "                 Class     Images  Instances      Box(P          R      mAP50  mAP50-95): 100%|██████████| 5/5 [00:00<00:00, 10.80it/s]"
     ]
    },
    {
     "name": "stdout",
     "output_type": "stream",
     "text": [
      "                   all        133        917      0.833      0.769      0.832      0.479\n"
     ]
    },
    {
     "name": "stderr",
     "output_type": "stream",
     "text": [
      "\n"
     ]
    },
    {
     "name": "stdout",
     "output_type": "stream",
     "text": [
      "\n",
      "      Epoch    GPU_mem   box_loss   cls_loss   dfl_loss  Instances       Size\n"
     ]
    },
    {
     "name": "stderr",
     "output_type": "stream",
     "text": [
      "     23/100      2.33G      1.404      1.032      1.388         68        640: 100%|██████████| 67/67 [00:05<00:00, 13.35it/s]\n",
      "                 Class     Images  Instances      Box(P          R      mAP50  mAP50-95): 100%|██████████| 5/5 [00:00<00:00, 10.48it/s]"
     ]
    },
    {
     "name": "stdout",
     "output_type": "stream",
     "text": [
      "                   all        133        917      0.897      0.765      0.838      0.479\n"
     ]
    },
    {
     "name": "stderr",
     "output_type": "stream",
     "text": [
      "\n"
     ]
    },
    {
     "name": "stdout",
     "output_type": "stream",
     "text": [
      "\n",
      "      Epoch    GPU_mem   box_loss   cls_loss   dfl_loss  Instances       Size\n"
     ]
    },
    {
     "name": "stderr",
     "output_type": "stream",
     "text": [
      "     24/100       2.7G      1.391      1.024      1.378        107        640: 100%|██████████| 67/67 [00:05<00:00, 13.11it/s]\n",
      "                 Class     Images  Instances      Box(P          R      mAP50  mAP50-95): 100%|██████████| 5/5 [00:00<00:00, 11.00it/s]"
     ]
    },
    {
     "name": "stdout",
     "output_type": "stream",
     "text": [
      "                   all        133        917      0.873      0.776      0.835      0.482\n"
     ]
    },
    {
     "name": "stderr",
     "output_type": "stream",
     "text": [
      "\n"
     ]
    },
    {
     "name": "stdout",
     "output_type": "stream",
     "text": [
      "\n",
      "      Epoch    GPU_mem   box_loss   cls_loss   dfl_loss  Instances       Size\n"
     ]
    },
    {
     "name": "stderr",
     "output_type": "stream",
     "text": [
      "     25/100       2.3G      1.404      1.024      1.387        105        640: 100%|██████████| 67/67 [00:05<00:00, 12.94it/s]\n",
      "                 Class     Images  Instances      Box(P          R      mAP50  mAP50-95): 100%|██████████| 5/5 [00:00<00:00, 10.63it/s]"
     ]
    },
    {
     "name": "stdout",
     "output_type": "stream",
     "text": [
      "                   all        133        917      0.871      0.742      0.818      0.486\n"
     ]
    },
    {
     "name": "stderr",
     "output_type": "stream",
     "text": [
      "\n"
     ]
    },
    {
     "name": "stdout",
     "output_type": "stream",
     "text": [
      "\n",
      "      Epoch    GPU_mem   box_loss   cls_loss   dfl_loss  Instances       Size\n"
     ]
    },
    {
     "name": "stderr",
     "output_type": "stream",
     "text": [
      "     26/100      2.67G      1.377     0.9827      1.381        101        640: 100%|██████████| 67/67 [00:05<00:00, 13.19it/s]\n",
      "                 Class     Images  Instances      Box(P          R      mAP50  mAP50-95): 100%|██████████| 5/5 [00:00<00:00, 10.76it/s]"
     ]
    },
    {
     "name": "stdout",
     "output_type": "stream",
     "text": [
      "                   all        133        917      0.884      0.755      0.839      0.488\n"
     ]
    },
    {
     "name": "stderr",
     "output_type": "stream",
     "text": [
      "\n"
     ]
    },
    {
     "name": "stdout",
     "output_type": "stream",
     "text": [
      "\n",
      "      Epoch    GPU_mem   box_loss   cls_loss   dfl_loss  Instances       Size\n"
     ]
    },
    {
     "name": "stderr",
     "output_type": "stream",
     "text": [
      "     27/100      2.41G      1.395      1.001      1.386        137        640: 100%|██████████| 67/67 [00:05<00:00, 13.29it/s]\n",
      "                 Class     Images  Instances      Box(P          R      mAP50  mAP50-95): 100%|██████████| 5/5 [00:00<00:00, 10.69it/s]"
     ]
    },
    {
     "name": "stdout",
     "output_type": "stream",
     "text": [
      "                   all        133        917       0.89      0.774      0.847      0.497\n"
     ]
    },
    {
     "name": "stderr",
     "output_type": "stream",
     "text": [
      "\n"
     ]
    },
    {
     "name": "stdout",
     "output_type": "stream",
     "text": [
      "\n",
      "      Epoch    GPU_mem   box_loss   cls_loss   dfl_loss  Instances       Size\n"
     ]
    },
    {
     "name": "stderr",
     "output_type": "stream",
     "text": [
      "     28/100       2.5G      1.382     0.9926      1.372        107        640: 100%|██████████| 67/67 [00:05<00:00, 13.04it/s]\n",
      "                 Class     Images  Instances      Box(P          R      mAP50  mAP50-95): 100%|██████████| 5/5 [00:00<00:00, 10.44it/s]"
     ]
    },
    {
     "name": "stdout",
     "output_type": "stream",
     "text": [
      "                   all        133        917      0.864      0.782      0.832      0.491\n"
     ]
    },
    {
     "name": "stderr",
     "output_type": "stream",
     "text": [
      "\n"
     ]
    },
    {
     "name": "stdout",
     "output_type": "stream",
     "text": [
      "\n",
      "      Epoch    GPU_mem   box_loss   cls_loss   dfl_loss  Instances       Size\n"
     ]
    },
    {
     "name": "stderr",
     "output_type": "stream",
     "text": [
      "     29/100      2.57G      1.372      0.962      1.364         91        640: 100%|██████████| 67/67 [00:05<00:00, 13.15it/s]\n",
      "                 Class     Images  Instances      Box(P          R      mAP50  mAP50-95): 100%|██████████| 5/5 [00:00<00:00, 10.85it/s]"
     ]
    },
    {
     "name": "stdout",
     "output_type": "stream",
     "text": [
      "                   all        133        917      0.823        0.8      0.841      0.503\n"
     ]
    },
    {
     "name": "stderr",
     "output_type": "stream",
     "text": [
      "\n"
     ]
    },
    {
     "name": "stdout",
     "output_type": "stream",
     "text": [
      "\n",
      "      Epoch    GPU_mem   box_loss   cls_loss   dfl_loss  Instances       Size\n"
     ]
    },
    {
     "name": "stderr",
     "output_type": "stream",
     "text": [
      "     30/100      2.48G      1.364     0.9552      1.388         55        640: 100%|██████████| 67/67 [00:05<00:00, 13.05it/s]\n",
      "                 Class     Images  Instances      Box(P          R      mAP50  mAP50-95): 100%|██████████| 5/5 [00:00<00:00, 10.78it/s]"
     ]
    },
    {
     "name": "stdout",
     "output_type": "stream",
     "text": [
      "                   all        133        917      0.836      0.785      0.835      0.502\n"
     ]
    },
    {
     "name": "stderr",
     "output_type": "stream",
     "text": [
      "\n"
     ]
    },
    {
     "name": "stdout",
     "output_type": "stream",
     "text": [
      "\n",
      "      Epoch    GPU_mem   box_loss   cls_loss   dfl_loss  Instances       Size\n"
     ]
    },
    {
     "name": "stderr",
     "output_type": "stream",
     "text": [
      "     31/100      2.33G       1.36     0.9477      1.355        140        640: 100%|██████████| 67/67 [00:05<00:00, 13.23it/s]\n",
      "                 Class     Images  Instances      Box(P          R      mAP50  mAP50-95): 100%|██████████| 5/5 [00:00<00:00, 10.56it/s]"
     ]
    },
    {
     "name": "stdout",
     "output_type": "stream",
     "text": [
      "                   all        133        917      0.847      0.773      0.837      0.506\n"
     ]
    },
    {
     "name": "stderr",
     "output_type": "stream",
     "text": [
      "\n"
     ]
    },
    {
     "name": "stdout",
     "output_type": "stream",
     "text": [
      "\n",
      "      Epoch    GPU_mem   box_loss   cls_loss   dfl_loss  Instances       Size\n"
     ]
    },
    {
     "name": "stderr",
     "output_type": "stream",
     "text": [
      "     32/100      2.27G      1.361     0.9511      1.381         58        640: 100%|██████████| 67/67 [00:05<00:00, 13.22it/s]\n",
      "                 Class     Images  Instances      Box(P          R      mAP50  mAP50-95): 100%|██████████| 5/5 [00:00<00:00, 10.74it/s]"
     ]
    },
    {
     "name": "stdout",
     "output_type": "stream",
     "text": [
      "                   all        133        917      0.873      0.766       0.83      0.492\n"
     ]
    },
    {
     "name": "stderr",
     "output_type": "stream",
     "text": [
      "\n"
     ]
    },
    {
     "name": "stdout",
     "output_type": "stream",
     "text": [
      "\n",
      "      Epoch    GPU_mem   box_loss   cls_loss   dfl_loss  Instances       Size\n"
     ]
    },
    {
     "name": "stderr",
     "output_type": "stream",
     "text": [
      "     33/100      2.32G      1.322     0.9084      1.341         83        640: 100%|██████████| 67/67 [00:05<00:00, 12.99it/s]\n",
      "                 Class     Images  Instances      Box(P          R      mAP50  mAP50-95): 100%|██████████| 5/5 [00:00<00:00, 10.80it/s]"
     ]
    },
    {
     "name": "stdout",
     "output_type": "stream",
     "text": [
      "                   all        133        917      0.881      0.788      0.856      0.503\n"
     ]
    },
    {
     "name": "stderr",
     "output_type": "stream",
     "text": [
      "\n"
     ]
    },
    {
     "name": "stdout",
     "output_type": "stream",
     "text": [
      "\n",
      "      Epoch    GPU_mem   box_loss   cls_loss   dfl_loss  Instances       Size\n"
     ]
    },
    {
     "name": "stderr",
     "output_type": "stream",
     "text": [
      "     34/100       2.3G      1.357     0.9345      1.363        122        640: 100%|██████████| 67/67 [00:05<00:00, 13.16it/s]\n",
      "                 Class     Images  Instances      Box(P          R      mAP50  mAP50-95): 100%|██████████| 5/5 [00:00<00:00, 10.49it/s]"
     ]
    },
    {
     "name": "stdout",
     "output_type": "stream",
     "text": [
      "                   all        133        917      0.883      0.741      0.833      0.498\n"
     ]
    },
    {
     "name": "stderr",
     "output_type": "stream",
     "text": [
      "\n"
     ]
    },
    {
     "name": "stdout",
     "output_type": "stream",
     "text": [
      "\n",
      "      Epoch    GPU_mem   box_loss   cls_loss   dfl_loss  Instances       Size\n"
     ]
    },
    {
     "name": "stderr",
     "output_type": "stream",
     "text": [
      "     35/100      2.35G      1.345     0.9146      1.339        113        640: 100%|██████████| 67/67 [00:05<00:00, 13.10it/s]\n",
      "                 Class     Images  Instances      Box(P          R      mAP50  mAP50-95): 100%|██████████| 5/5 [00:00<00:00, 10.37it/s]"
     ]
    },
    {
     "name": "stdout",
     "output_type": "stream",
     "text": [
      "                   all        133        917       0.87      0.802      0.854      0.513\n"
     ]
    },
    {
     "name": "stderr",
     "output_type": "stream",
     "text": [
      "\n"
     ]
    },
    {
     "name": "stdout",
     "output_type": "stream",
     "text": [
      "\n",
      "      Epoch    GPU_mem   box_loss   cls_loss   dfl_loss  Instances       Size\n"
     ]
    },
    {
     "name": "stderr",
     "output_type": "stream",
     "text": [
      "     36/100      2.12G      1.335     0.9074      1.345         82        640: 100%|██████████| 67/67 [00:05<00:00, 13.31it/s]\n",
      "                 Class     Images  Instances      Box(P          R      mAP50  mAP50-95): 100%|██████████| 5/5 [00:00<00:00, 10.82it/s]"
     ]
    },
    {
     "name": "stdout",
     "output_type": "stream",
     "text": [
      "                   all        133        917      0.859      0.792      0.844      0.498\n"
     ]
    },
    {
     "name": "stderr",
     "output_type": "stream",
     "text": [
      "\n"
     ]
    },
    {
     "name": "stdout",
     "output_type": "stream",
     "text": [
      "\n",
      "      Epoch    GPU_mem   box_loss   cls_loss   dfl_loss  Instances       Size\n"
     ]
    },
    {
     "name": "stderr",
     "output_type": "stream",
     "text": [
      "     37/100      2.37G      1.331     0.9037      1.352        110        640: 100%|██████████| 67/67 [00:05<00:00, 13.15it/s]\n",
      "                 Class     Images  Instances      Box(P          R      mAP50  mAP50-95): 100%|██████████| 5/5 [00:00<00:00, 10.79it/s]"
     ]
    },
    {
     "name": "stdout",
     "output_type": "stream",
     "text": [
      "                   all        133        917      0.898      0.774      0.848      0.503\n"
     ]
    },
    {
     "name": "stderr",
     "output_type": "stream",
     "text": [
      "\n"
     ]
    },
    {
     "name": "stdout",
     "output_type": "stream",
     "text": [
      "\n",
      "      Epoch    GPU_mem   box_loss   cls_loss   dfl_loss  Instances       Size\n"
     ]
    },
    {
     "name": "stderr",
     "output_type": "stream",
     "text": [
      "     38/100       2.3G      1.345      0.929      1.357         87        640: 100%|██████████| 67/67 [00:05<00:00, 13.00it/s]\n",
      "                 Class     Images  Instances      Box(P          R      mAP50  mAP50-95): 100%|██████████| 5/5 [00:00<00:00, 10.42it/s]"
     ]
    },
    {
     "name": "stdout",
     "output_type": "stream",
     "text": [
      "                   all        133        917      0.814      0.798      0.842      0.505\n"
     ]
    },
    {
     "name": "stderr",
     "output_type": "stream",
     "text": [
      "\n"
     ]
    },
    {
     "name": "stdout",
     "output_type": "stream",
     "text": [
      "\n",
      "      Epoch    GPU_mem   box_loss   cls_loss   dfl_loss  Instances       Size\n"
     ]
    },
    {
     "name": "stderr",
     "output_type": "stream",
     "text": [
      "     39/100      2.36G      1.326     0.9013      1.351         56        640: 100%|██████████| 67/67 [00:05<00:00, 13.16it/s]\n",
      "                 Class     Images  Instances      Box(P          R      mAP50  mAP50-95): 100%|██████████| 5/5 [00:00<00:00, 10.54it/s]"
     ]
    },
    {
     "name": "stdout",
     "output_type": "stream",
     "text": [
      "                   all        133        917      0.902      0.778      0.859      0.512\n"
     ]
    },
    {
     "name": "stderr",
     "output_type": "stream",
     "text": [
      "\n"
     ]
    },
    {
     "name": "stdout",
     "output_type": "stream",
     "text": [
      "\n",
      "      Epoch    GPU_mem   box_loss   cls_loss   dfl_loss  Instances       Size\n"
     ]
    },
    {
     "name": "stderr",
     "output_type": "stream",
     "text": [
      "     40/100      2.72G      1.325     0.9064      1.356        136        640: 100%|██████████| 67/67 [00:05<00:00, 13.37it/s]\n",
      "                 Class     Images  Instances      Box(P          R      mAP50  mAP50-95): 100%|██████████| 5/5 [00:00<00:00, 10.64it/s]"
     ]
    },
    {
     "name": "stdout",
     "output_type": "stream",
     "text": [
      "                   all        133        917      0.855      0.794      0.844      0.498\n"
     ]
    },
    {
     "name": "stderr",
     "output_type": "stream",
     "text": [
      "\n"
     ]
    },
    {
     "name": "stdout",
     "output_type": "stream",
     "text": [
      "\n",
      "      Epoch    GPU_mem   box_loss   cls_loss   dfl_loss  Instances       Size\n"
     ]
    },
    {
     "name": "stderr",
     "output_type": "stream",
     "text": [
      "     41/100       2.3G      1.322     0.8818      1.323        125        640: 100%|██████████| 67/67 [00:05<00:00, 13.25it/s]\n",
      "                 Class     Images  Instances      Box(P          R      mAP50  mAP50-95): 100%|██████████| 5/5 [00:00<00:00, 10.96it/s]"
     ]
    },
    {
     "name": "stdout",
     "output_type": "stream",
     "text": [
      "                   all        133        917      0.896      0.775      0.855      0.512\n"
     ]
    },
    {
     "name": "stderr",
     "output_type": "stream",
     "text": [
      "\n"
     ]
    },
    {
     "name": "stdout",
     "output_type": "stream",
     "text": [
      "\n",
      "      Epoch    GPU_mem   box_loss   cls_loss   dfl_loss  Instances       Size\n"
     ]
    },
    {
     "name": "stderr",
     "output_type": "stream",
     "text": [
      "     42/100      2.31G      1.318     0.8589      1.339         55        640: 100%|██████████| 67/67 [00:05<00:00, 13.27it/s]\n",
      "                 Class     Images  Instances      Box(P          R      mAP50  mAP50-95): 100%|██████████| 5/5 [00:00<00:00, 10.94it/s]"
     ]
    },
    {
     "name": "stdout",
     "output_type": "stream",
     "text": [
      "                   all        133        917      0.867      0.778      0.847      0.507\n"
     ]
    },
    {
     "name": "stderr",
     "output_type": "stream",
     "text": [
      "\n"
     ]
    },
    {
     "name": "stdout",
     "output_type": "stream",
     "text": [
      "\n",
      "      Epoch    GPU_mem   box_loss   cls_loss   dfl_loss  Instances       Size\n"
     ]
    },
    {
     "name": "stderr",
     "output_type": "stream",
     "text": [
      "     43/100      2.31G      1.331     0.8792      1.325        116        640: 100%|██████████| 67/67 [00:05<00:00, 13.21it/s]\n",
      "                 Class     Images  Instances      Box(P          R      mAP50  mAP50-95): 100%|██████████| 5/5 [00:00<00:00, 10.57it/s]"
     ]
    },
    {
     "name": "stdout",
     "output_type": "stream",
     "text": [
      "                   all        133        917      0.893      0.789      0.856      0.518\n"
     ]
    },
    {
     "name": "stderr",
     "output_type": "stream",
     "text": [
      "\n"
     ]
    },
    {
     "name": "stdout",
     "output_type": "stream",
     "text": [
      "\n",
      "      Epoch    GPU_mem   box_loss   cls_loss   dfl_loss  Instances       Size\n"
     ]
    },
    {
     "name": "stderr",
     "output_type": "stream",
     "text": [
      "     44/100      2.55G      1.298     0.8585      1.317        117        640: 100%|██████████| 67/67 [00:05<00:00, 13.18it/s]\n",
      "                 Class     Images  Instances      Box(P          R      mAP50  mAP50-95): 100%|██████████| 5/5 [00:00<00:00, 11.22it/s]"
     ]
    },
    {
     "name": "stdout",
     "output_type": "stream",
     "text": [
      "                   all        133        917      0.887      0.776      0.851      0.504\n"
     ]
    },
    {
     "name": "stderr",
     "output_type": "stream",
     "text": [
      "\n"
     ]
    },
    {
     "name": "stdout",
     "output_type": "stream",
     "text": [
      "\n",
      "      Epoch    GPU_mem   box_loss   cls_loss   dfl_loss  Instances       Size\n"
     ]
    },
    {
     "name": "stderr",
     "output_type": "stream",
     "text": [
      "     45/100      2.23G      1.283     0.8393      1.297        170        640: 100%|██████████| 67/67 [00:05<00:00, 12.91it/s]\n",
      "                 Class     Images  Instances      Box(P          R      mAP50  mAP50-95): 100%|██████████| 5/5 [00:00<00:00, 10.09it/s]"
     ]
    },
    {
     "name": "stdout",
     "output_type": "stream",
     "text": [
      "                   all        133        917      0.901      0.792      0.863       0.51\n"
     ]
    },
    {
     "name": "stderr",
     "output_type": "stream",
     "text": [
      "\n"
     ]
    },
    {
     "name": "stdout",
     "output_type": "stream",
     "text": [
      "\n",
      "      Epoch    GPU_mem   box_loss   cls_loss   dfl_loss  Instances       Size\n"
     ]
    },
    {
     "name": "stderr",
     "output_type": "stream",
     "text": [
      "     46/100      2.41G      1.318     0.8633       1.32         75        640: 100%|██████████| 67/67 [00:05<00:00, 12.86it/s]\n",
      "                 Class     Images  Instances      Box(P          R      mAP50  mAP50-95): 100%|██████████| 5/5 [00:00<00:00, 11.15it/s]"
     ]
    },
    {
     "name": "stdout",
     "output_type": "stream",
     "text": [
      "                   all        133        917      0.894      0.798      0.853      0.516\n"
     ]
    },
    {
     "name": "stderr",
     "output_type": "stream",
     "text": [
      "\n"
     ]
    },
    {
     "name": "stdout",
     "output_type": "stream",
     "text": [
      "\n",
      "      Epoch    GPU_mem   box_loss   cls_loss   dfl_loss  Instances       Size\n"
     ]
    },
    {
     "name": "stderr",
     "output_type": "stream",
     "text": [
      "     47/100      2.57G      1.311     0.8525      1.326        111        640: 100%|██████████| 67/67 [00:05<00:00, 13.06it/s]\n",
      "                 Class     Images  Instances      Box(P          R      mAP50  mAP50-95): 100%|██████████| 5/5 [00:00<00:00, 10.80it/s]"
     ]
    },
    {
     "name": "stdout",
     "output_type": "stream",
     "text": [
      "                   all        133        917      0.895      0.802      0.865      0.512\n"
     ]
    },
    {
     "name": "stderr",
     "output_type": "stream",
     "text": [
      "\n"
     ]
    },
    {
     "name": "stdout",
     "output_type": "stream",
     "text": [
      "\n",
      "      Epoch    GPU_mem   box_loss   cls_loss   dfl_loss  Instances       Size\n"
     ]
    },
    {
     "name": "stderr",
     "output_type": "stream",
     "text": [
      "     48/100      2.35G       1.31      0.856      1.326         77        640: 100%|██████████| 67/67 [00:05<00:00, 13.02it/s]\n",
      "                 Class     Images  Instances      Box(P          R      mAP50  mAP50-95): 100%|██████████| 5/5 [00:00<00:00, 10.13it/s]"
     ]
    },
    {
     "name": "stdout",
     "output_type": "stream",
     "text": [
      "                   all        133        917       0.89      0.775      0.847      0.516\n"
     ]
    },
    {
     "name": "stderr",
     "output_type": "stream",
     "text": [
      "\n"
     ]
    },
    {
     "name": "stdout",
     "output_type": "stream",
     "text": [
      "\n",
      "      Epoch    GPU_mem   box_loss   cls_loss   dfl_loss  Instances       Size\n"
     ]
    },
    {
     "name": "stderr",
     "output_type": "stream",
     "text": [
      "     49/100      2.31G      1.278      0.832      1.305        128        640: 100%|██████████| 67/67 [00:05<00:00, 13.31it/s]\n",
      "                 Class     Images  Instances      Box(P          R      mAP50  mAP50-95): 100%|██████████| 5/5 [00:00<00:00, 10.81it/s]"
     ]
    },
    {
     "name": "stdout",
     "output_type": "stream",
     "text": [
      "                   all        133        917      0.887      0.795      0.863      0.524\n"
     ]
    },
    {
     "name": "stderr",
     "output_type": "stream",
     "text": [
      "\n"
     ]
    },
    {
     "name": "stdout",
     "output_type": "stream",
     "text": [
      "\n",
      "      Epoch    GPU_mem   box_loss   cls_loss   dfl_loss  Instances       Size\n"
     ]
    },
    {
     "name": "stderr",
     "output_type": "stream",
     "text": [
      "     50/100      2.37G       1.28     0.8256      1.311         90        640: 100%|██████████| 67/67 [00:05<00:00, 13.25it/s]\n",
      "                 Class     Images  Instances      Box(P          R      mAP50  mAP50-95): 100%|██████████| 5/5 [00:00<00:00, 10.82it/s]"
     ]
    },
    {
     "name": "stdout",
     "output_type": "stream",
     "text": [
      "                   all        133        917      0.888      0.807      0.857      0.524\n"
     ]
    },
    {
     "name": "stderr",
     "output_type": "stream",
     "text": [
      "\n"
     ]
    },
    {
     "name": "stdout",
     "output_type": "stream",
     "text": [
      "\n",
      "      Epoch    GPU_mem   box_loss   cls_loss   dfl_loss  Instances       Size\n"
     ]
    },
    {
     "name": "stderr",
     "output_type": "stream",
     "text": [
      "     51/100      2.45G      1.286     0.8379      1.294         98        640: 100%|██████████| 67/67 [00:05<00:00, 13.33it/s]\n",
      "                 Class     Images  Instances      Box(P          R      mAP50  mAP50-95): 100%|██████████| 5/5 [00:00<00:00, 11.06it/s]"
     ]
    },
    {
     "name": "stdout",
     "output_type": "stream",
     "text": [
      "                   all        133        917      0.877      0.804      0.858      0.518\n"
     ]
    },
    {
     "name": "stderr",
     "output_type": "stream",
     "text": [
      "\n"
     ]
    },
    {
     "name": "stdout",
     "output_type": "stream",
     "text": [
      "\n",
      "      Epoch    GPU_mem   box_loss   cls_loss   dfl_loss  Instances       Size\n"
     ]
    },
    {
     "name": "stderr",
     "output_type": "stream",
     "text": [
      "     52/100      2.74G      1.276     0.8149      1.305         72        640: 100%|██████████| 67/67 [00:05<00:00, 13.19it/s]\n",
      "                 Class     Images  Instances      Box(P          R      mAP50  mAP50-95): 100%|██████████| 5/5 [00:00<00:00, 10.43it/s]"
     ]
    },
    {
     "name": "stdout",
     "output_type": "stream",
     "text": [
      "                   all        133        917      0.895      0.807      0.869      0.522\n"
     ]
    },
    {
     "name": "stderr",
     "output_type": "stream",
     "text": [
      "\n"
     ]
    },
    {
     "name": "stdout",
     "output_type": "stream",
     "text": [
      "\n",
      "      Epoch    GPU_mem   box_loss   cls_loss   dfl_loss  Instances       Size\n"
     ]
    },
    {
     "name": "stderr",
     "output_type": "stream",
     "text": [
      "     53/100      2.51G      1.269     0.8235      1.293         72        640: 100%|██████████| 67/67 [00:05<00:00, 12.86it/s]\n",
      "                 Class     Images  Instances      Box(P          R      mAP50  mAP50-95): 100%|██████████| 5/5 [00:00<00:00, 10.34it/s]"
     ]
    },
    {
     "name": "stdout",
     "output_type": "stream",
     "text": [
      "                   all        133        917      0.893      0.805      0.863      0.514\n"
     ]
    },
    {
     "name": "stderr",
     "output_type": "stream",
     "text": [
      "\n"
     ]
    },
    {
     "name": "stdout",
     "output_type": "stream",
     "text": [
      "\n",
      "      Epoch    GPU_mem   box_loss   cls_loss   dfl_loss  Instances       Size\n"
     ]
    },
    {
     "name": "stderr",
     "output_type": "stream",
     "text": [
      "     54/100      2.59G       1.26     0.8151      1.288        139        640: 100%|██████████| 67/67 [00:05<00:00, 13.07it/s]\n",
      "                 Class     Images  Instances      Box(P          R      mAP50  mAP50-95): 100%|██████████| 5/5 [00:00<00:00,  9.76it/s]\n"
     ]
    },
    {
     "name": "stdout",
     "output_type": "stream",
     "text": [
      "                   all        133        917      0.894      0.802      0.863      0.525\n",
      "\n",
      "      Epoch    GPU_mem   box_loss   cls_loss   dfl_loss  Instances       Size\n"
     ]
    },
    {
     "name": "stderr",
     "output_type": "stream",
     "text": [
      "     55/100      2.45G      1.253     0.7931        1.3         55        640: 100%|██████████| 67/67 [00:05<00:00, 13.25it/s]\n",
      "                 Class     Images  Instances      Box(P          R      mAP50  mAP50-95): 100%|██████████| 5/5 [00:00<00:00, 10.66it/s]"
     ]
    },
    {
     "name": "stdout",
     "output_type": "stream",
     "text": [
      "                   all        133        917      0.903      0.803      0.862      0.516\n"
     ]
    },
    {
     "name": "stderr",
     "output_type": "stream",
     "text": [
      "\n"
     ]
    },
    {
     "name": "stdout",
     "output_type": "stream",
     "text": [
      "\n",
      "      Epoch    GPU_mem   box_loss   cls_loss   dfl_loss  Instances       Size\n"
     ]
    },
    {
     "name": "stderr",
     "output_type": "stream",
     "text": [
      "     56/100      2.33G       1.27     0.8087      1.293         90        640: 100%|██████████| 67/67 [00:05<00:00, 13.19it/s]\n",
      "                 Class     Images  Instances      Box(P          R      mAP50  mAP50-95): 100%|██████████| 5/5 [00:00<00:00, 11.15it/s]"
     ]
    },
    {
     "name": "stdout",
     "output_type": "stream",
     "text": [
      "                   all        133        917      0.882      0.806      0.856      0.522\n"
     ]
    },
    {
     "name": "stderr",
     "output_type": "stream",
     "text": [
      "\n"
     ]
    },
    {
     "name": "stdout",
     "output_type": "stream",
     "text": [
      "\n",
      "      Epoch    GPU_mem   box_loss   cls_loss   dfl_loss  Instances       Size\n"
     ]
    },
    {
     "name": "stderr",
     "output_type": "stream",
     "text": [
      "     57/100      2.44G      1.255     0.7987      1.304         64        640: 100%|██████████| 67/67 [00:05<00:00, 13.20it/s]\n",
      "                 Class     Images  Instances      Box(P          R      mAP50  mAP50-95): 100%|██████████| 5/5 [00:00<00:00, 10.12it/s]"
     ]
    },
    {
     "name": "stdout",
     "output_type": "stream",
     "text": [
      "                   all        133        917      0.884      0.813      0.869       0.52\n"
     ]
    },
    {
     "name": "stderr",
     "output_type": "stream",
     "text": [
      "\n"
     ]
    },
    {
     "name": "stdout",
     "output_type": "stream",
     "text": [
      "\n",
      "      Epoch    GPU_mem   box_loss   cls_loss   dfl_loss  Instances       Size\n"
     ]
    },
    {
     "name": "stderr",
     "output_type": "stream",
     "text": [
      "     58/100      2.35G       1.25     0.8106      1.294         78        640: 100%|██████████| 67/67 [00:05<00:00, 13.19it/s]\n",
      "                 Class     Images  Instances      Box(P          R      mAP50  mAP50-95): 100%|██████████| 5/5 [00:00<00:00, 10.95it/s]"
     ]
    },
    {
     "name": "stdout",
     "output_type": "stream",
     "text": [
      "                   all        133        917      0.888      0.798      0.852      0.514\n"
     ]
    },
    {
     "name": "stderr",
     "output_type": "stream",
     "text": [
      "\n"
     ]
    },
    {
     "name": "stdout",
     "output_type": "stream",
     "text": [
      "\n",
      "      Epoch    GPU_mem   box_loss   cls_loss   dfl_loss  Instances       Size\n"
     ]
    },
    {
     "name": "stderr",
     "output_type": "stream",
     "text": [
      "     59/100      2.53G      1.251     0.7932      1.277        138        640: 100%|██████████| 67/67 [00:05<00:00, 13.19it/s]\n",
      "                 Class     Images  Instances      Box(P          R      mAP50  mAP50-95): 100%|██████████| 5/5 [00:00<00:00, 11.32it/s]"
     ]
    },
    {
     "name": "stdout",
     "output_type": "stream",
     "text": [
      "                   all        133        917      0.886      0.792      0.859      0.526\n"
     ]
    },
    {
     "name": "stderr",
     "output_type": "stream",
     "text": [
      "\n"
     ]
    },
    {
     "name": "stdout",
     "output_type": "stream",
     "text": [
      "\n",
      "      Epoch    GPU_mem   box_loss   cls_loss   dfl_loss  Instances       Size\n"
     ]
    },
    {
     "name": "stderr",
     "output_type": "stream",
     "text": [
      "     60/100       2.5G      1.256     0.7931      1.298        100        640: 100%|██████████| 67/67 [00:05<00:00, 12.99it/s]\n",
      "                 Class     Images  Instances      Box(P          R      mAP50  mAP50-95): 100%|██████████| 5/5 [00:00<00:00, 10.60it/s]"
     ]
    },
    {
     "name": "stdout",
     "output_type": "stream",
     "text": [
      "                   all        133        917      0.906       0.79      0.861      0.519\n"
     ]
    },
    {
     "name": "stderr",
     "output_type": "stream",
     "text": [
      "\n"
     ]
    },
    {
     "name": "stdout",
     "output_type": "stream",
     "text": [
      "\n",
      "      Epoch    GPU_mem   box_loss   cls_loss   dfl_loss  Instances       Size\n"
     ]
    },
    {
     "name": "stderr",
     "output_type": "stream",
     "text": [
      "     61/100      2.34G      1.255      0.789      1.282         90        640: 100%|██████████| 67/67 [00:05<00:00, 12.98it/s]\n",
      "                 Class     Images  Instances      Box(P          R      mAP50  mAP50-95): 100%|██████████| 5/5 [00:00<00:00, 10.78it/s]"
     ]
    },
    {
     "name": "stdout",
     "output_type": "stream",
     "text": [
      "                   all        133        917      0.882      0.818      0.867      0.521\n"
     ]
    },
    {
     "name": "stderr",
     "output_type": "stream",
     "text": [
      "\n"
     ]
    },
    {
     "name": "stdout",
     "output_type": "stream",
     "text": [
      "\n",
      "      Epoch    GPU_mem   box_loss   cls_loss   dfl_loss  Instances       Size\n"
     ]
    },
    {
     "name": "stderr",
     "output_type": "stream",
     "text": [
      "     62/100       2.4G      1.235     0.7875      1.286         80        640: 100%|██████████| 67/67 [00:05<00:00, 13.20it/s]\n",
      "                 Class     Images  Instances      Box(P          R      mAP50  mAP50-95): 100%|██████████| 5/5 [00:00<00:00, 10.54it/s]"
     ]
    },
    {
     "name": "stdout",
     "output_type": "stream",
     "text": [
      "                   all        133        917      0.896      0.818      0.871      0.524\n"
     ]
    },
    {
     "name": "stderr",
     "output_type": "stream",
     "text": [
      "\n"
     ]
    },
    {
     "name": "stdout",
     "output_type": "stream",
     "text": [
      "\n",
      "      Epoch    GPU_mem   box_loss   cls_loss   dfl_loss  Instances       Size\n"
     ]
    },
    {
     "name": "stderr",
     "output_type": "stream",
     "text": [
      "     63/100      2.24G      1.253     0.7818      1.282        101        640: 100%|██████████| 67/67 [00:05<00:00, 13.17it/s]\n",
      "                 Class     Images  Instances      Box(P          R      mAP50  mAP50-95): 100%|██████████| 5/5 [00:00<00:00, 10.00it/s]"
     ]
    },
    {
     "name": "stdout",
     "output_type": "stream",
     "text": [
      "                   all        133        917      0.884      0.818      0.865      0.525\n"
     ]
    },
    {
     "name": "stderr",
     "output_type": "stream",
     "text": [
      "\n"
     ]
    },
    {
     "name": "stdout",
     "output_type": "stream",
     "text": [
      "\n",
      "      Epoch    GPU_mem   box_loss   cls_loss   dfl_loss  Instances       Size\n"
     ]
    },
    {
     "name": "stderr",
     "output_type": "stream",
     "text": [
      "     64/100      2.85G      1.232     0.7605       1.27         94        640: 100%|██████████| 67/67 [00:05<00:00, 13.14it/s]\n",
      "                 Class     Images  Instances      Box(P          R      mAP50  mAP50-95): 100%|██████████| 5/5 [00:00<00:00, 10.73it/s]"
     ]
    },
    {
     "name": "stdout",
     "output_type": "stream",
     "text": [
      "                   all        133        917      0.888      0.797      0.862      0.514\n"
     ]
    },
    {
     "name": "stderr",
     "output_type": "stream",
     "text": [
      "\n"
     ]
    },
    {
     "name": "stdout",
     "output_type": "stream",
     "text": [
      "\n",
      "      Epoch    GPU_mem   box_loss   cls_loss   dfl_loss  Instances       Size\n"
     ]
    },
    {
     "name": "stderr",
     "output_type": "stream",
     "text": [
      "     65/100      2.62G      1.214     0.7547      1.266         52        640: 100%|██████████| 67/67 [00:05<00:00, 12.86it/s]\n",
      "                 Class     Images  Instances      Box(P          R      mAP50  mAP50-95): 100%|██████████| 5/5 [00:00<00:00, 10.57it/s]"
     ]
    },
    {
     "name": "stdout",
     "output_type": "stream",
     "text": [
      "                   all        133        917       0.88      0.806      0.868      0.522\n"
     ]
    },
    {
     "name": "stderr",
     "output_type": "stream",
     "text": [
      "\n"
     ]
    },
    {
     "name": "stdout",
     "output_type": "stream",
     "text": [
      "\n",
      "      Epoch    GPU_mem   box_loss   cls_loss   dfl_loss  Instances       Size\n"
     ]
    },
    {
     "name": "stderr",
     "output_type": "stream",
     "text": [
      "     66/100      2.54G      1.212     0.7539       1.27        108        640: 100%|██████████| 67/67 [00:05<00:00, 12.91it/s]\n",
      "                 Class     Images  Instances      Box(P          R      mAP50  mAP50-95): 100%|██████████| 5/5 [00:00<00:00, 10.13it/s]"
     ]
    },
    {
     "name": "stdout",
     "output_type": "stream",
     "text": [
      "                   all        133        917      0.914      0.772      0.857      0.522\n"
     ]
    },
    {
     "name": "stderr",
     "output_type": "stream",
     "text": [
      "\n"
     ]
    },
    {
     "name": "stdout",
     "output_type": "stream",
     "text": [
      "\n",
      "      Epoch    GPU_mem   box_loss   cls_loss   dfl_loss  Instances       Size\n"
     ]
    },
    {
     "name": "stderr",
     "output_type": "stream",
     "text": [
      "     67/100      2.36G      1.235      0.778      1.279         80        640: 100%|██████████| 67/67 [00:05<00:00, 13.03it/s]\n",
      "                 Class     Images  Instances      Box(P          R      mAP50  mAP50-95): 100%|██████████| 5/5 [00:00<00:00, 10.93it/s]"
     ]
    },
    {
     "name": "stdout",
     "output_type": "stream",
     "text": [
      "                   all        133        917      0.912      0.775       0.86       0.52\n"
     ]
    },
    {
     "name": "stderr",
     "output_type": "stream",
     "text": [
      "\n"
     ]
    },
    {
     "name": "stdout",
     "output_type": "stream",
     "text": [
      "\n",
      "      Epoch    GPU_mem   box_loss   cls_loss   dfl_loss  Instances       Size\n"
     ]
    },
    {
     "name": "stderr",
     "output_type": "stream",
     "text": [
      "     68/100      2.28G      1.226     0.7493      1.274         77        640: 100%|██████████| 67/67 [00:05<00:00, 13.17it/s]\n",
      "                 Class     Images  Instances      Box(P          R      mAP50  mAP50-95): 100%|██████████| 5/5 [00:00<00:00, 11.07it/s]"
     ]
    },
    {
     "name": "stdout",
     "output_type": "stream",
     "text": [
      "                   all        133        917      0.899      0.799      0.864      0.525\n"
     ]
    },
    {
     "name": "stderr",
     "output_type": "stream",
     "text": [
      "\n"
     ]
    },
    {
     "name": "stdout",
     "output_type": "stream",
     "text": [
      "\n",
      "      Epoch    GPU_mem   box_loss   cls_loss   dfl_loss  Instances       Size\n"
     ]
    },
    {
     "name": "stderr",
     "output_type": "stream",
     "text": [
      "     69/100       2.4G      1.205     0.7382      1.252         89        640: 100%|██████████| 67/67 [00:05<00:00, 13.23it/s]\n",
      "                 Class     Images  Instances      Box(P          R      mAP50  mAP50-95): 100%|██████████| 5/5 [00:00<00:00, 10.98it/s]"
     ]
    },
    {
     "name": "stdout",
     "output_type": "stream",
     "text": [
      "                   all        133        917      0.895      0.795      0.864      0.521\n"
     ]
    },
    {
     "name": "stderr",
     "output_type": "stream",
     "text": [
      "\n"
     ]
    },
    {
     "name": "stdout",
     "output_type": "stream",
     "text": [
      "\n",
      "      Epoch    GPU_mem   box_loss   cls_loss   dfl_loss  Instances       Size\n"
     ]
    },
    {
     "name": "stderr",
     "output_type": "stream",
     "text": [
      "     70/100      2.31G      1.222     0.7616      1.259        139        640: 100%|██████████| 67/67 [00:05<00:00, 13.19it/s]\n",
      "                 Class     Images  Instances      Box(P          R      mAP50  mAP50-95): 100%|██████████| 5/5 [00:00<00:00, 10.62it/s]"
     ]
    },
    {
     "name": "stdout",
     "output_type": "stream",
     "text": [
      "                   all        133        917      0.896      0.803      0.867      0.522\n"
     ]
    },
    {
     "name": "stderr",
     "output_type": "stream",
     "text": [
      "\n"
     ]
    },
    {
     "name": "stdout",
     "output_type": "stream",
     "text": [
      "\n",
      "      Epoch    GPU_mem   box_loss   cls_loss   dfl_loss  Instances       Size\n"
     ]
    },
    {
     "name": "stderr",
     "output_type": "stream",
     "text": [
      "     71/100      2.24G      1.207       0.76      1.257         89        640: 100%|██████████| 67/67 [00:05<00:00, 13.20it/s]\n",
      "                 Class     Images  Instances      Box(P          R      mAP50  mAP50-95): 100%|██████████| 5/5 [00:00<00:00, 10.95it/s]"
     ]
    },
    {
     "name": "stdout",
     "output_type": "stream",
     "text": [
      "                   all        133        917      0.892      0.794      0.862      0.526\n"
     ]
    },
    {
     "name": "stderr",
     "output_type": "stream",
     "text": [
      "\n"
     ]
    },
    {
     "name": "stdout",
     "output_type": "stream",
     "text": [
      "\n",
      "      Epoch    GPU_mem   box_loss   cls_loss   dfl_loss  Instances       Size\n"
     ]
    },
    {
     "name": "stderr",
     "output_type": "stream",
     "text": [
      "     72/100      2.84G      1.216     0.7407       1.26        125        640: 100%|██████████| 67/67 [00:05<00:00, 12.87it/s]\n",
      "                 Class     Images  Instances      Box(P          R      mAP50  mAP50-95): 100%|██████████| 5/5 [00:00<00:00, 10.67it/s]"
     ]
    },
    {
     "name": "stdout",
     "output_type": "stream",
     "text": [
      "                   all        133        917      0.883       0.81      0.865      0.525\n"
     ]
    },
    {
     "name": "stderr",
     "output_type": "stream",
     "text": [
      "\n"
     ]
    },
    {
     "name": "stdout",
     "output_type": "stream",
     "text": [
      "\n",
      "      Epoch    GPU_mem   box_loss   cls_loss   dfl_loss  Instances       Size\n"
     ]
    },
    {
     "name": "stderr",
     "output_type": "stream",
     "text": [
      "     73/100      2.39G      1.199      0.737      1.258         94        640: 100%|██████████| 67/67 [00:05<00:00, 12.85it/s]\n",
      "                 Class     Images  Instances      Box(P          R      mAP50  mAP50-95): 100%|██████████| 5/5 [00:00<00:00, 10.77it/s]"
     ]
    },
    {
     "name": "stdout",
     "output_type": "stream",
     "text": [
      "                   all        133        917      0.886      0.814      0.866      0.525\n"
     ]
    },
    {
     "name": "stderr",
     "output_type": "stream",
     "text": [
      "\n"
     ]
    },
    {
     "name": "stdout",
     "output_type": "stream",
     "text": [
      "\n",
      "      Epoch    GPU_mem   box_loss   cls_loss   dfl_loss  Instances       Size\n"
     ]
    },
    {
     "name": "stderr",
     "output_type": "stream",
     "text": [
      "     74/100      2.55G      1.194     0.7333      1.256         72        640: 100%|██████████| 67/67 [00:05<00:00, 13.07it/s]\n",
      "                 Class     Images  Instances      Box(P          R      mAP50  mAP50-95): 100%|██████████| 5/5 [00:00<00:00, 10.28it/s]"
     ]
    },
    {
     "name": "stdout",
     "output_type": "stream",
     "text": [
      "                   all        133        917      0.873      0.806      0.862      0.523\n"
     ]
    },
    {
     "name": "stderr",
     "output_type": "stream",
     "text": [
      "\n"
     ]
    },
    {
     "name": "stdout",
     "output_type": "stream",
     "text": [
      "\n",
      "      Epoch    GPU_mem   box_loss   cls_loss   dfl_loss  Instances       Size\n"
     ]
    },
    {
     "name": "stderr",
     "output_type": "stream",
     "text": [
      "     75/100      2.66G        1.2     0.7322      1.271        114        640: 100%|██████████| 67/67 [00:05<00:00, 12.95it/s]\n",
      "                 Class     Images  Instances      Box(P          R      mAP50  mAP50-95): 100%|██████████| 5/5 [00:00<00:00, 10.71it/s]"
     ]
    },
    {
     "name": "stdout",
     "output_type": "stream",
     "text": [
      "                   all        133        917       0.88      0.811      0.868      0.533\n"
     ]
    },
    {
     "name": "stderr",
     "output_type": "stream",
     "text": [
      "\n"
     ]
    },
    {
     "name": "stdout",
     "output_type": "stream",
     "text": [
      "\n",
      "      Epoch    GPU_mem   box_loss   cls_loss   dfl_loss  Instances       Size\n"
     ]
    },
    {
     "name": "stderr",
     "output_type": "stream",
     "text": [
      "     76/100      2.34G      1.206     0.7383      1.254        126        640: 100%|██████████| 67/67 [00:05<00:00, 13.26it/s]\n",
      "                 Class     Images  Instances      Box(P          R      mAP50  mAP50-95): 100%|██████████| 5/5 [00:00<00:00, 10.52it/s]"
     ]
    },
    {
     "name": "stdout",
     "output_type": "stream",
     "text": [
      "                   all        133        917      0.903      0.804       0.87      0.525\n"
     ]
    },
    {
     "name": "stderr",
     "output_type": "stream",
     "text": [
      "\n"
     ]
    },
    {
     "name": "stdout",
     "output_type": "stream",
     "text": [
      "\n",
      "      Epoch    GPU_mem   box_loss   cls_loss   dfl_loss  Instances       Size\n"
     ]
    },
    {
     "name": "stderr",
     "output_type": "stream",
     "text": [
      "     77/100      2.42G      1.177     0.7207      1.249         48        640: 100%|██████████| 67/67 [00:05<00:00, 13.19it/s]\n",
      "                 Class     Images  Instances      Box(P          R      mAP50  mAP50-95): 100%|██████████| 5/5 [00:00<00:00, 10.75it/s]"
     ]
    },
    {
     "name": "stdout",
     "output_type": "stream",
     "text": [
      "                   all        133        917      0.873      0.811      0.866      0.527\n"
     ]
    },
    {
     "name": "stderr",
     "output_type": "stream",
     "text": [
      "\n"
     ]
    },
    {
     "name": "stdout",
     "output_type": "stream",
     "text": [
      "\n",
      "      Epoch    GPU_mem   box_loss   cls_loss   dfl_loss  Instances       Size\n"
     ]
    },
    {
     "name": "stderr",
     "output_type": "stream",
     "text": [
      "     78/100      2.44G      1.203     0.7302      1.254         88        640: 100%|██████████| 67/67 [00:05<00:00, 13.20it/s]\n",
      "                 Class     Images  Instances      Box(P          R      mAP50  mAP50-95): 100%|██████████| 5/5 [00:00<00:00, 10.80it/s]"
     ]
    },
    {
     "name": "stdout",
     "output_type": "stream",
     "text": [
      "                   all        133        917      0.888      0.794      0.865      0.525\n"
     ]
    },
    {
     "name": "stderr",
     "output_type": "stream",
     "text": [
      "\n"
     ]
    },
    {
     "name": "stdout",
     "output_type": "stream",
     "text": [
      "\n",
      "      Epoch    GPU_mem   box_loss   cls_loss   dfl_loss  Instances       Size\n"
     ]
    },
    {
     "name": "stderr",
     "output_type": "stream",
     "text": [
      "     79/100      2.24G      1.191     0.7184      1.242         86        640: 100%|██████████| 67/67 [00:05<00:00, 13.31it/s]\n",
      "                 Class     Images  Instances      Box(P          R      mAP50  mAP50-95): 100%|██████████| 5/5 [00:00<00:00, 10.87it/s]"
     ]
    },
    {
     "name": "stdout",
     "output_type": "stream",
     "text": [
      "                   all        133        917      0.904      0.774      0.856      0.524\n"
     ]
    },
    {
     "name": "stderr",
     "output_type": "stream",
     "text": [
      "\n"
     ]
    },
    {
     "name": "stdout",
     "output_type": "stream",
     "text": [
      "\n",
      "      Epoch    GPU_mem   box_loss   cls_loss   dfl_loss  Instances       Size\n"
     ]
    },
    {
     "name": "stderr",
     "output_type": "stream",
     "text": [
      "     80/100      2.42G      1.176     0.7222      1.243         80        640: 100%|██████████| 67/67 [00:05<00:00, 12.99it/s]\n",
      "                 Class     Images  Instances      Box(P          R      mAP50  mAP50-95): 100%|██████████| 5/5 [00:00<00:00, 10.79it/s]"
     ]
    },
    {
     "name": "stdout",
     "output_type": "stream",
     "text": [
      "                   all        133        917      0.893      0.797      0.862      0.527\n"
     ]
    },
    {
     "name": "stderr",
     "output_type": "stream",
     "text": [
      "\n"
     ]
    },
    {
     "name": "stdout",
     "output_type": "stream",
     "text": [
      "\n",
      "      Epoch    GPU_mem   box_loss   cls_loss   dfl_loss  Instances       Size\n"
     ]
    },
    {
     "name": "stderr",
     "output_type": "stream",
     "text": [
      "     81/100       2.4G       1.17     0.7164       1.23        150        640: 100%|██████████| 67/67 [00:05<00:00, 13.07it/s]\n",
      "                 Class     Images  Instances      Box(P          R      mAP50  mAP50-95): 100%|██████████| 5/5 [00:00<00:00,  9.68it/s]"
     ]
    },
    {
     "name": "stdout",
     "output_type": "stream",
     "text": [
      "                   all        133        917      0.908      0.801      0.869      0.528\n"
     ]
    },
    {
     "name": "stderr",
     "output_type": "stream",
     "text": [
      "\n"
     ]
    },
    {
     "name": "stdout",
     "output_type": "stream",
     "text": [
      "\n",
      "      Epoch    GPU_mem   box_loss   cls_loss   dfl_loss  Instances       Size\n"
     ]
    },
    {
     "name": "stderr",
     "output_type": "stream",
     "text": [
      "     82/100      2.52G      1.172     0.7073      1.236        121        640: 100%|██████████| 67/67 [00:05<00:00, 13.06it/s]\n",
      "                 Class     Images  Instances      Box(P          R      mAP50  mAP50-95): 100%|██████████| 5/5 [00:00<00:00, 10.63it/s]"
     ]
    },
    {
     "name": "stdout",
     "output_type": "stream",
     "text": [
      "                   all        133        917      0.892      0.792      0.861      0.522\n"
     ]
    },
    {
     "name": "stderr",
     "output_type": "stream",
     "text": [
      "\n"
     ]
    },
    {
     "name": "stdout",
     "output_type": "stream",
     "text": [
      "\n",
      "      Epoch    GPU_mem   box_loss   cls_loss   dfl_loss  Instances       Size\n"
     ]
    },
    {
     "name": "stderr",
     "output_type": "stream",
     "text": [
      "     83/100      2.33G      1.179     0.7093       1.24        157        640: 100%|██████████| 67/67 [00:05<00:00, 13.34it/s]\n",
      "                 Class     Images  Instances      Box(P          R      mAP50  mAP50-95): 100%|██████████| 5/5 [00:00<00:00, 11.07it/s]"
     ]
    },
    {
     "name": "stdout",
     "output_type": "stream",
     "text": [
      "                   all        133        917      0.899      0.807       0.87      0.523\n"
     ]
    },
    {
     "name": "stderr",
     "output_type": "stream",
     "text": [
      "\n"
     ]
    },
    {
     "name": "stdout",
     "output_type": "stream",
     "text": [
      "\n",
      "      Epoch    GPU_mem   box_loss   cls_loss   dfl_loss  Instances       Size\n"
     ]
    },
    {
     "name": "stderr",
     "output_type": "stream",
     "text": [
      "     84/100      2.48G      1.163     0.7028      1.245         95        640: 100%|██████████| 67/67 [00:05<00:00, 13.15it/s]\n",
      "                 Class     Images  Instances      Box(P          R      mAP50  mAP50-95): 100%|██████████| 5/5 [00:00<00:00, 11.10it/s]"
     ]
    },
    {
     "name": "stdout",
     "output_type": "stream",
     "text": [
      "                   all        133        917      0.881      0.828      0.873      0.532\n"
     ]
    },
    {
     "name": "stderr",
     "output_type": "stream",
     "text": [
      "\n"
     ]
    },
    {
     "name": "stdout",
     "output_type": "stream",
     "text": [
      "\n",
      "      Epoch    GPU_mem   box_loss   cls_loss   dfl_loss  Instances       Size\n"
     ]
    },
    {
     "name": "stderr",
     "output_type": "stream",
     "text": [
      "     85/100      2.17G       1.18     0.7091      1.238         70        640: 100%|██████████| 67/67 [00:05<00:00, 12.95it/s]\n",
      "                 Class     Images  Instances      Box(P          R      mAP50  mAP50-95): 100%|██████████| 5/5 [00:00<00:00, 10.42it/s]"
     ]
    },
    {
     "name": "stdout",
     "output_type": "stream",
     "text": [
      "                   all        133        917      0.884      0.805      0.868      0.531\n"
     ]
    },
    {
     "name": "stderr",
     "output_type": "stream",
     "text": [
      "\n"
     ]
    },
    {
     "name": "stdout",
     "output_type": "stream",
     "text": [
      "\n",
      "      Epoch    GPU_mem   box_loss   cls_loss   dfl_loss  Instances       Size\n"
     ]
    },
    {
     "name": "stderr",
     "output_type": "stream",
     "text": [
      "     86/100      2.53G      1.173     0.7093      1.244        101        640: 100%|██████████| 67/67 [00:05<00:00, 12.89it/s]\n",
      "                 Class     Images  Instances      Box(P          R      mAP50  mAP50-95): 100%|██████████| 5/5 [00:00<00:00, 10.64it/s]"
     ]
    },
    {
     "name": "stdout",
     "output_type": "stream",
     "text": [
      "                   all        133        917      0.905       0.81      0.871       0.53\n"
     ]
    },
    {
     "name": "stderr",
     "output_type": "stream",
     "text": [
      "\n"
     ]
    },
    {
     "name": "stdout",
     "output_type": "stream",
     "text": [
      "\n",
      "      Epoch    GPU_mem   box_loss   cls_loss   dfl_loss  Instances       Size\n"
     ]
    },
    {
     "name": "stderr",
     "output_type": "stream",
     "text": [
      "     87/100       2.4G      1.154     0.7016      1.234        132        640: 100%|██████████| 67/67 [00:05<00:00, 13.08it/s]\n",
      "                 Class     Images  Instances      Box(P          R      mAP50  mAP50-95): 100%|██████████| 5/5 [00:00<00:00, 10.36it/s]"
     ]
    },
    {
     "name": "stdout",
     "output_type": "stream",
     "text": [
      "                   all        133        917      0.884      0.804      0.871      0.526\n"
     ]
    },
    {
     "name": "stderr",
     "output_type": "stream",
     "text": [
      "\n"
     ]
    },
    {
     "name": "stdout",
     "output_type": "stream",
     "text": [
      "\n",
      "      Epoch    GPU_mem   box_loss   cls_loss   dfl_loss  Instances       Size\n"
     ]
    },
    {
     "name": "stderr",
     "output_type": "stream",
     "text": [
      "     88/100      2.45G      1.177     0.7057       1.24        117        640: 100%|██████████| 67/67 [00:05<00:00, 13.18it/s]\n",
      "                 Class     Images  Instances      Box(P          R      mAP50  mAP50-95): 100%|██████████| 5/5 [00:00<00:00, 10.94it/s]"
     ]
    },
    {
     "name": "stdout",
     "output_type": "stream",
     "text": [
      "                   all        133        917      0.906        0.8      0.872      0.525\n"
     ]
    },
    {
     "name": "stderr",
     "output_type": "stream",
     "text": [
      "\n"
     ]
    },
    {
     "name": "stdout",
     "output_type": "stream",
     "text": [
      "\n",
      "      Epoch    GPU_mem   box_loss   cls_loss   dfl_loss  Instances       Size\n"
     ]
    },
    {
     "name": "stderr",
     "output_type": "stream",
     "text": [
      "     89/100      2.46G      1.169     0.6934      1.238        106        640: 100%|██████████| 67/67 [00:05<00:00, 13.27it/s]\n",
      "                 Class     Images  Instances      Box(P          R      mAP50  mAP50-95): 100%|██████████| 5/5 [00:00<00:00, 10.93it/s]"
     ]
    },
    {
     "name": "stdout",
     "output_type": "stream",
     "text": [
      "                   all        133        917      0.903      0.808      0.876      0.529\n"
     ]
    },
    {
     "name": "stderr",
     "output_type": "stream",
     "text": [
      "\n"
     ]
    },
    {
     "name": "stdout",
     "output_type": "stream",
     "text": [
      "\n",
      "      Epoch    GPU_mem   box_loss   cls_loss   dfl_loss  Instances       Size\n"
     ]
    },
    {
     "name": "stderr",
     "output_type": "stream",
     "text": [
      "     90/100      2.62G      1.144     0.6947      1.229        120        640: 100%|██████████| 67/67 [00:05<00:00, 13.20it/s]\n",
      "                 Class     Images  Instances      Box(P          R      mAP50  mAP50-95): 100%|██████████| 5/5 [00:00<00:00, 10.85it/s]"
     ]
    },
    {
     "name": "stdout",
     "output_type": "stream",
     "text": [
      "                   all        133        917      0.887      0.808      0.873      0.531\n"
     ]
    },
    {
     "name": "stderr",
     "output_type": "stream",
     "text": [
      "\n"
     ]
    },
    {
     "name": "stdout",
     "output_type": "stream",
     "text": [
      "Closing dataloader mosaic\n",
      "\n",
      "      Epoch    GPU_mem   box_loss   cls_loss   dfl_loss  Instances       Size\n"
     ]
    },
    {
     "name": "stderr",
     "output_type": "stream",
     "text": [
      "     91/100       2.3G      1.153     0.6542      1.244         59        640: 100%|██████████| 67/67 [00:05<00:00, 13.08it/s]\n",
      "                 Class     Images  Instances      Box(P          R      mAP50  mAP50-95): 100%|██████████| 5/5 [00:00<00:00, 10.65it/s]"
     ]
    },
    {
     "name": "stdout",
     "output_type": "stream",
     "text": [
      "                   all        133        917      0.905       0.82      0.875      0.525\n"
     ]
    },
    {
     "name": "stderr",
     "output_type": "stream",
     "text": [
      "\n"
     ]
    },
    {
     "name": "stdout",
     "output_type": "stream",
     "text": [
      "\n",
      "      Epoch    GPU_mem   box_loss   cls_loss   dfl_loss  Instances       Size\n"
     ]
    },
    {
     "name": "stderr",
     "output_type": "stream",
     "text": [
      "     92/100      2.27G       1.13     0.6341      1.236         73        640: 100%|██████████| 67/67 [00:05<00:00, 13.37it/s]\n",
      "                 Class     Images  Instances      Box(P          R      mAP50  mAP50-95): 100%|██████████| 5/5 [00:00<00:00, 10.08it/s]\n"
     ]
    },
    {
     "name": "stdout",
     "output_type": "stream",
     "text": [
      "                   all        133        917       0.91      0.805      0.866      0.524\n",
      "\n",
      "      Epoch    GPU_mem   box_loss   cls_loss   dfl_loss  Instances       Size\n"
     ]
    },
    {
     "name": "stderr",
     "output_type": "stream",
     "text": [
      "     93/100       2.2G      1.128     0.6212      1.229         66        640: 100%|██████████| 67/67 [00:04<00:00, 13.48it/s]\n",
      "                 Class     Images  Instances      Box(P          R      mAP50  mAP50-95): 100%|██████████| 5/5 [00:00<00:00, 10.61it/s]"
     ]
    },
    {
     "name": "stdout",
     "output_type": "stream",
     "text": [
      "                   all        133        917      0.895      0.793      0.864      0.523\n"
     ]
    },
    {
     "name": "stderr",
     "output_type": "stream",
     "text": [
      "\n"
     ]
    },
    {
     "name": "stdout",
     "output_type": "stream",
     "text": [
      "\n",
      "      Epoch    GPU_mem   box_loss   cls_loss   dfl_loss  Instances       Size\n"
     ]
    },
    {
     "name": "stderr",
     "output_type": "stream",
     "text": [
      "     94/100       2.2G      1.123      0.622      1.232         56        640: 100%|██████████| 67/67 [00:05<00:00, 13.22it/s]\n",
      "                 Class     Images  Instances      Box(P          R      mAP50  mAP50-95): 100%|██████████| 5/5 [00:00<00:00, 11.05it/s]"
     ]
    },
    {
     "name": "stdout",
     "output_type": "stream",
     "text": [
      "                   all        133        917      0.908      0.807      0.869      0.524\n"
     ]
    },
    {
     "name": "stderr",
     "output_type": "stream",
     "text": [
      "\n"
     ]
    },
    {
     "name": "stdout",
     "output_type": "stream",
     "text": [
      "\n",
      "      Epoch    GPU_mem   box_loss   cls_loss   dfl_loss  Instances       Size\n"
     ]
    },
    {
     "name": "stderr",
     "output_type": "stream",
     "text": [
      "     95/100       2.3G      1.118      0.622      1.223         49        640: 100%|██████████| 67/67 [00:04<00:00, 13.60it/s]\n",
      "                 Class     Images  Instances      Box(P          R      mAP50  mAP50-95): 100%|██████████| 5/5 [00:00<00:00, 10.35it/s]"
     ]
    },
    {
     "name": "stdout",
     "output_type": "stream",
     "text": [
      "                   all        133        917      0.906       0.81      0.876       0.53\n"
     ]
    },
    {
     "name": "stderr",
     "output_type": "stream",
     "text": [
      "\n"
     ]
    },
    {
     "name": "stdout",
     "output_type": "stream",
     "text": [
      "\n",
      "      Epoch    GPU_mem   box_loss   cls_loss   dfl_loss  Instances       Size\n"
     ]
    },
    {
     "name": "stderr",
     "output_type": "stream",
     "text": [
      "     96/100      2.27G      1.112     0.6155      1.222         75        640: 100%|██████████| 67/67 [00:04<00:00, 13.52it/s]\n",
      "                 Class     Images  Instances      Box(P          R      mAP50  mAP50-95): 100%|██████████| 5/5 [00:00<00:00, 11.32it/s]"
     ]
    },
    {
     "name": "stdout",
     "output_type": "stream",
     "text": [
      "                   all        133        917        0.9      0.813      0.876      0.528\n"
     ]
    },
    {
     "name": "stderr",
     "output_type": "stream",
     "text": [
      "\n"
     ]
    },
    {
     "name": "stdout",
     "output_type": "stream",
     "text": [
      "\n",
      "      Epoch    GPU_mem   box_loss   cls_loss   dfl_loss  Instances       Size\n"
     ]
    },
    {
     "name": "stderr",
     "output_type": "stream",
     "text": [
      "     97/100      2.17G      1.114     0.6118      1.215         49        640: 100%|██████████| 67/67 [00:06<00:00,  9.91it/s]\n",
      "                 Class     Images  Instances      Box(P          R      mAP50  mAP50-95): 100%|██████████| 5/5 [00:00<00:00, 11.21it/s]"
     ]
    },
    {
     "name": "stdout",
     "output_type": "stream",
     "text": [
      "                   all        133        917      0.898      0.799      0.869      0.529\n"
     ]
    },
    {
     "name": "stderr",
     "output_type": "stream",
     "text": [
      "\n"
     ]
    },
    {
     "name": "stdout",
     "output_type": "stream",
     "text": [
      "\n",
      "      Epoch    GPU_mem   box_loss   cls_loss   dfl_loss  Instances       Size\n"
     ]
    },
    {
     "name": "stderr",
     "output_type": "stream",
     "text": [
      "     98/100      2.17G      1.098     0.6036      1.216         63        640: 100%|██████████| 67/67 [00:04<00:00, 13.72it/s]\n",
      "                 Class     Images  Instances      Box(P          R      mAP50  mAP50-95): 100%|██████████| 5/5 [00:00<00:00, 11.38it/s]"
     ]
    },
    {
     "name": "stdout",
     "output_type": "stream",
     "text": [
      "                   all        133        917      0.903        0.8      0.869      0.529\n"
     ]
    },
    {
     "name": "stderr",
     "output_type": "stream",
     "text": [
      "\n"
     ]
    },
    {
     "name": "stdout",
     "output_type": "stream",
     "text": [
      "\n",
      "      Epoch    GPU_mem   box_loss   cls_loss   dfl_loss  Instances       Size\n"
     ]
    },
    {
     "name": "stderr",
     "output_type": "stream",
     "text": [
      "     99/100      2.36G      1.107     0.6082      1.218         63        640: 100%|██████████| 67/67 [00:04<00:00, 13.84it/s]\n",
      "                 Class     Images  Instances      Box(P          R      mAP50  mAP50-95): 100%|██████████| 5/5 [00:00<00:00, 11.39it/s]"
     ]
    },
    {
     "name": "stdout",
     "output_type": "stream",
     "text": [
      "                   all        133        917      0.897      0.794      0.868      0.524\n"
     ]
    },
    {
     "name": "stderr",
     "output_type": "stream",
     "text": [
      "\n"
     ]
    },
    {
     "name": "stdout",
     "output_type": "stream",
     "text": [
      "\n",
      "      Epoch    GPU_mem   box_loss   cls_loss   dfl_loss  Instances       Size\n"
     ]
    },
    {
     "name": "stderr",
     "output_type": "stream",
     "text": [
      "    100/100      2.27G      1.107     0.6084      1.214         38        640: 100%|██████████| 67/67 [00:04<00:00, 13.85it/s]\n",
      "                 Class     Images  Instances      Box(P          R      mAP50  mAP50-95): 100%|██████████| 5/5 [00:00<00:00, 11.52it/s]"
     ]
    },
    {
     "name": "stdout",
     "output_type": "stream",
     "text": [
      "                   all        133        917      0.888      0.803      0.867      0.526\n"
     ]
    },
    {
     "name": "stderr",
     "output_type": "stream",
     "text": [
      "\n"
     ]
    },
    {
     "name": "stdout",
     "output_type": "stream",
     "text": [
      "\n",
      "100 epochs completed in 0.171 hours.\n",
      "Optimizer stripped from f:\\coding_projects\\hardhat_detection_on_construction_site\\runs\\detect\\train35\\weights\\last.pt, 6.2MB\n",
      "Optimizer stripped from f:\\coding_projects\\hardhat_detection_on_construction_site\\runs\\detect\\train35\\weights\\best.pt, 6.2MB\n",
      "\n",
      "Validating f:\\coding_projects\\hardhat_detection_on_construction_site\\runs\\detect\\train35\\weights\\best.pt...\n",
      "Ultralytics 8.3.82  Python-3.12.7 torch-2.6.0+cu118 CUDA:0 (NVIDIA GeForce RTX 3080, 12288MiB)\n",
      "YOLOv8n summary (fused): 72 layers, 3,006,818 parameters, 0 gradients, 8.1 GFLOPs\n"
     ]
    },
    {
     "name": "stderr",
     "output_type": "stream",
     "text": [
      "                 Class     Images  Instances      Box(P          R      mAP50  mAP50-95): 100%|██████████| 5/5 [00:00<00:00,  5.64it/s]\n"
     ]
    },
    {
     "name": "stdout",
     "output_type": "stream",
     "text": [
      "                   all        133        917      0.881      0.828      0.873      0.532\n",
      "                person        133        387      0.905      0.876      0.921      0.579\n",
      "                  vest         61        171      0.828      0.807      0.854      0.507\n",
      "           blue helmet         25         49       0.86      0.753      0.792      0.501\n",
      "            red helmet         29         48      0.833      0.833      0.846      0.499\n",
      "          white helmet         53         99       0.94      0.879      0.932      0.617\n",
      "         yellow helmet         70        163      0.918      0.821      0.895      0.489\n",
      "Speed: 0.1ms preprocess, 0.8ms inference, 0.0ms loss, 0.7ms postprocess per image\n",
      "Results saved to \u001b[1mf:\\coding_projects\\hardhat_detection_on_construction_site\\runs\\detect\\train35\u001b[0m\n"
     ]
    },
    {
     "data": {
      "text/plain": [
       "ultralytics.utils.metrics.DetMetrics object with attributes:\n",
       "\n",
       "ap_class_index: array([0, 1, 2, 3, 4, 5])\n",
       "box: ultralytics.utils.metrics.Metric object\n",
       "confusion_matrix: <ultralytics.utils.metrics.ConfusionMatrix object at 0x00000129AD9105C0>\n",
       "curves: ['Precision-Recall(B)', 'F1-Confidence(B)', 'Precision-Confidence(B)', 'Recall-Confidence(B)']\n",
       "curves_results: [[array([          0,    0.001001,    0.002002,    0.003003,    0.004004,    0.005005,    0.006006,    0.007007,    0.008008,    0.009009,     0.01001,    0.011011,    0.012012,    0.013013,    0.014014,    0.015015,    0.016016,    0.017017,    0.018018,    0.019019,     0.02002,    0.021021,    0.022022,    0.023023,\n",
       "          0.024024,    0.025025,    0.026026,    0.027027,    0.028028,    0.029029,     0.03003,    0.031031,    0.032032,    0.033033,    0.034034,    0.035035,    0.036036,    0.037037,    0.038038,    0.039039,     0.04004,    0.041041,    0.042042,    0.043043,    0.044044,    0.045045,    0.046046,    0.047047,\n",
       "          0.048048,    0.049049,     0.05005,    0.051051,    0.052052,    0.053053,    0.054054,    0.055055,    0.056056,    0.057057,    0.058058,    0.059059,     0.06006,    0.061061,    0.062062,    0.063063,    0.064064,    0.065065,    0.066066,    0.067067,    0.068068,    0.069069,     0.07007,    0.071071,\n",
       "          0.072072,    0.073073,    0.074074,    0.075075,    0.076076,    0.077077,    0.078078,    0.079079,     0.08008,    0.081081,    0.082082,    0.083083,    0.084084,    0.085085,    0.086086,    0.087087,    0.088088,    0.089089,     0.09009,    0.091091,    0.092092,    0.093093,    0.094094,    0.095095,\n",
       "          0.096096,    0.097097,    0.098098,    0.099099,      0.1001,      0.1011,      0.1021,      0.1031,      0.1041,     0.10511,     0.10611,     0.10711,     0.10811,     0.10911,     0.11011,     0.11111,     0.11211,     0.11311,     0.11411,     0.11512,     0.11612,     0.11712,     0.11812,     0.11912,\n",
       "           0.12012,     0.12112,     0.12212,     0.12312,     0.12412,     0.12513,     0.12613,     0.12713,     0.12813,     0.12913,     0.13013,     0.13113,     0.13213,     0.13313,     0.13413,     0.13514,     0.13614,     0.13714,     0.13814,     0.13914,     0.14014,     0.14114,     0.14214,     0.14314,\n",
       "           0.14414,     0.14515,     0.14615,     0.14715,     0.14815,     0.14915,     0.15015,     0.15115,     0.15215,     0.15315,     0.15415,     0.15516,     0.15616,     0.15716,     0.15816,     0.15916,     0.16016,     0.16116,     0.16216,     0.16316,     0.16416,     0.16517,     0.16617,     0.16717,\n",
       "           0.16817,     0.16917,     0.17017,     0.17117,     0.17217,     0.17317,     0.17417,     0.17518,     0.17618,     0.17718,     0.17818,     0.17918,     0.18018,     0.18118,     0.18218,     0.18318,     0.18418,     0.18519,     0.18619,     0.18719,     0.18819,     0.18919,     0.19019,     0.19119,\n",
       "           0.19219,     0.19319,     0.19419,      0.1952,      0.1962,      0.1972,      0.1982,      0.1992,      0.2002,      0.2012,      0.2022,      0.2032,      0.2042,     0.20521,     0.20621,     0.20721,     0.20821,     0.20921,     0.21021,     0.21121,     0.21221,     0.21321,     0.21421,     0.21522,\n",
       "           0.21622,     0.21722,     0.21822,     0.21922,     0.22022,     0.22122,     0.22222,     0.22322,     0.22422,     0.22523,     0.22623,     0.22723,     0.22823,     0.22923,     0.23023,     0.23123,     0.23223,     0.23323,     0.23423,     0.23524,     0.23624,     0.23724,     0.23824,     0.23924,\n",
       "           0.24024,     0.24124,     0.24224,     0.24324,     0.24424,     0.24525,     0.24625,     0.24725,     0.24825,     0.24925,     0.25025,     0.25125,     0.25225,     0.25325,     0.25425,     0.25526,     0.25626,     0.25726,     0.25826,     0.25926,     0.26026,     0.26126,     0.26226,     0.26326,\n",
       "           0.26426,     0.26527,     0.26627,     0.26727,     0.26827,     0.26927,     0.27027,     0.27127,     0.27227,     0.27327,     0.27427,     0.27528,     0.27628,     0.27728,     0.27828,     0.27928,     0.28028,     0.28128,     0.28228,     0.28328,     0.28428,     0.28529,     0.28629,     0.28729,\n",
       "           0.28829,     0.28929,     0.29029,     0.29129,     0.29229,     0.29329,     0.29429,      0.2953,      0.2963,      0.2973,      0.2983,      0.2993,      0.3003,      0.3013,      0.3023,      0.3033,      0.3043,     0.30531,     0.30631,     0.30731,     0.30831,     0.30931,     0.31031,     0.31131,\n",
       "           0.31231,     0.31331,     0.31431,     0.31532,     0.31632,     0.31732,     0.31832,     0.31932,     0.32032,     0.32132,     0.32232,     0.32332,     0.32432,     0.32533,     0.32633,     0.32733,     0.32833,     0.32933,     0.33033,     0.33133,     0.33233,     0.33333,     0.33433,     0.33534,\n",
       "           0.33634,     0.33734,     0.33834,     0.33934,     0.34034,     0.34134,     0.34234,     0.34334,     0.34434,     0.34535,     0.34635,     0.34735,     0.34835,     0.34935,     0.35035,     0.35135,     0.35235,     0.35335,     0.35435,     0.35536,     0.35636,     0.35736,     0.35836,     0.35936,\n",
       "           0.36036,     0.36136,     0.36236,     0.36336,     0.36436,     0.36537,     0.36637,     0.36737,     0.36837,     0.36937,     0.37037,     0.37137,     0.37237,     0.37337,     0.37437,     0.37538,     0.37638,     0.37738,     0.37838,     0.37938,     0.38038,     0.38138,     0.38238,     0.38338,\n",
       "           0.38438,     0.38539,     0.38639,     0.38739,     0.38839,     0.38939,     0.39039,     0.39139,     0.39239,     0.39339,     0.39439,      0.3954,      0.3964,      0.3974,      0.3984,      0.3994,      0.4004,      0.4014,      0.4024,      0.4034,      0.4044,     0.40541,     0.40641,     0.40741,\n",
       "           0.40841,     0.40941,     0.41041,     0.41141,     0.41241,     0.41341,     0.41441,     0.41542,     0.41642,     0.41742,     0.41842,     0.41942,     0.42042,     0.42142,     0.42242,     0.42342,     0.42442,     0.42543,     0.42643,     0.42743,     0.42843,     0.42943,     0.43043,     0.43143,\n",
       "           0.43243,     0.43343,     0.43443,     0.43544,     0.43644,     0.43744,     0.43844,     0.43944,     0.44044,     0.44144,     0.44244,     0.44344,     0.44444,     0.44545,     0.44645,     0.44745,     0.44845,     0.44945,     0.45045,     0.45145,     0.45245,     0.45345,     0.45445,     0.45546,\n",
       "           0.45646,     0.45746,     0.45846,     0.45946,     0.46046,     0.46146,     0.46246,     0.46346,     0.46446,     0.46547,     0.46647,     0.46747,     0.46847,     0.46947,     0.47047,     0.47147,     0.47247,     0.47347,     0.47447,     0.47548,     0.47648,     0.47748,     0.47848,     0.47948,\n",
       "           0.48048,     0.48148,     0.48248,     0.48348,     0.48448,     0.48549,     0.48649,     0.48749,     0.48849,     0.48949,     0.49049,     0.49149,     0.49249,     0.49349,     0.49449,      0.4955,      0.4965,      0.4975,      0.4985,      0.4995,      0.5005,      0.5015,      0.5025,      0.5035,\n",
       "            0.5045,     0.50551,     0.50651,     0.50751,     0.50851,     0.50951,     0.51051,     0.51151,     0.51251,     0.51351,     0.51451,     0.51552,     0.51652,     0.51752,     0.51852,     0.51952,     0.52052,     0.52152,     0.52252,     0.52352,     0.52452,     0.52553,     0.52653,     0.52753,\n",
       "           0.52853,     0.52953,     0.53053,     0.53153,     0.53253,     0.53353,     0.53453,     0.53554,     0.53654,     0.53754,     0.53854,     0.53954,     0.54054,     0.54154,     0.54254,     0.54354,     0.54454,     0.54555,     0.54655,     0.54755,     0.54855,     0.54955,     0.55055,     0.55155,\n",
       "           0.55255,     0.55355,     0.55455,     0.55556,     0.55656,     0.55756,     0.55856,     0.55956,     0.56056,     0.56156,     0.56256,     0.56356,     0.56456,     0.56557,     0.56657,     0.56757,     0.56857,     0.56957,     0.57057,     0.57157,     0.57257,     0.57357,     0.57457,     0.57558,\n",
       "           0.57658,     0.57758,     0.57858,     0.57958,     0.58058,     0.58158,     0.58258,     0.58358,     0.58458,     0.58559,     0.58659,     0.58759,     0.58859,     0.58959,     0.59059,     0.59159,     0.59259,     0.59359,     0.59459,      0.5956,      0.5966,      0.5976,      0.5986,      0.5996,\n",
       "            0.6006,      0.6016,      0.6026,      0.6036,      0.6046,     0.60561,     0.60661,     0.60761,     0.60861,     0.60961,     0.61061,     0.61161,     0.61261,     0.61361,     0.61461,     0.61562,     0.61662,     0.61762,     0.61862,     0.61962,     0.62062,     0.62162,     0.62262,     0.62362,\n",
       "           0.62462,     0.62563,     0.62663,     0.62763,     0.62863,     0.62963,     0.63063,     0.63163,     0.63263,     0.63363,     0.63463,     0.63564,     0.63664,     0.63764,     0.63864,     0.63964,     0.64064,     0.64164,     0.64264,     0.64364,     0.64464,     0.64565,     0.64665,     0.64765,\n",
       "           0.64865,     0.64965,     0.65065,     0.65165,     0.65265,     0.65365,     0.65465,     0.65566,     0.65666,     0.65766,     0.65866,     0.65966,     0.66066,     0.66166,     0.66266,     0.66366,     0.66466,     0.66567,     0.66667,     0.66767,     0.66867,     0.66967,     0.67067,     0.67167,\n",
       "           0.67267,     0.67367,     0.67467,     0.67568,     0.67668,     0.67768,     0.67868,     0.67968,     0.68068,     0.68168,     0.68268,     0.68368,     0.68468,     0.68569,     0.68669,     0.68769,     0.68869,     0.68969,     0.69069,     0.69169,     0.69269,     0.69369,     0.69469,      0.6957,\n",
       "            0.6967,      0.6977,      0.6987,      0.6997,      0.7007,      0.7017,      0.7027,      0.7037,      0.7047,     0.70571,     0.70671,     0.70771,     0.70871,     0.70971,     0.71071,     0.71171,     0.71271,     0.71371,     0.71471,     0.71572,     0.71672,     0.71772,     0.71872,     0.71972,\n",
       "           0.72072,     0.72172,     0.72272,     0.72372,     0.72472,     0.72573,     0.72673,     0.72773,     0.72873,     0.72973,     0.73073,     0.73173,     0.73273,     0.73373,     0.73473,     0.73574,     0.73674,     0.73774,     0.73874,     0.73974,     0.74074,     0.74174,     0.74274,     0.74374,\n",
       "           0.74474,     0.74575,     0.74675,     0.74775,     0.74875,     0.74975,     0.75075,     0.75175,     0.75275,     0.75375,     0.75475,     0.75576,     0.75676,     0.75776,     0.75876,     0.75976,     0.76076,     0.76176,     0.76276,     0.76376,     0.76476,     0.76577,     0.76677,     0.76777,\n",
       "           0.76877,     0.76977,     0.77077,     0.77177,     0.77277,     0.77377,     0.77477,     0.77578,     0.77678,     0.77778,     0.77878,     0.77978,     0.78078,     0.78178,     0.78278,     0.78378,     0.78478,     0.78579,     0.78679,     0.78779,     0.78879,     0.78979,     0.79079,     0.79179,\n",
       "           0.79279,     0.79379,     0.79479,      0.7958,      0.7968,      0.7978,      0.7988,      0.7998,      0.8008,      0.8018,      0.8028,      0.8038,      0.8048,     0.80581,     0.80681,     0.80781,     0.80881,     0.80981,     0.81081,     0.81181,     0.81281,     0.81381,     0.81481,     0.81582,\n",
       "           0.81682,     0.81782,     0.81882,     0.81982,     0.82082,     0.82182,     0.82282,     0.82382,     0.82482,     0.82583,     0.82683,     0.82783,     0.82883,     0.82983,     0.83083,     0.83183,     0.83283,     0.83383,     0.83483,     0.83584,     0.83684,     0.83784,     0.83884,     0.83984,\n",
       "           0.84084,     0.84184,     0.84284,     0.84384,     0.84484,     0.84585,     0.84685,     0.84785,     0.84885,     0.84985,     0.85085,     0.85185,     0.85285,     0.85385,     0.85485,     0.85586,     0.85686,     0.85786,     0.85886,     0.85986,     0.86086,     0.86186,     0.86286,     0.86386,\n",
       "           0.86486,     0.86587,     0.86687,     0.86787,     0.86887,     0.86987,     0.87087,     0.87187,     0.87287,     0.87387,     0.87487,     0.87588,     0.87688,     0.87788,     0.87888,     0.87988,     0.88088,     0.88188,     0.88288,     0.88388,     0.88488,     0.88589,     0.88689,     0.88789,\n",
       "           0.88889,     0.88989,     0.89089,     0.89189,     0.89289,     0.89389,     0.89489,      0.8959,      0.8969,      0.8979,      0.8989,      0.8999,      0.9009,      0.9019,      0.9029,      0.9039,      0.9049,     0.90591,     0.90691,     0.90791,     0.90891,     0.90991,     0.91091,     0.91191,\n",
       "           0.91291,     0.91391,     0.91491,     0.91592,     0.91692,     0.91792,     0.91892,     0.91992,     0.92092,     0.92192,     0.92292,     0.92392,     0.92492,     0.92593,     0.92693,     0.92793,     0.92893,     0.92993,     0.93093,     0.93193,     0.93293,     0.93393,     0.93493,     0.93594,\n",
       "           0.93694,     0.93794,     0.93894,     0.93994,     0.94094,     0.94194,     0.94294,     0.94394,     0.94494,     0.94595,     0.94695,     0.94795,     0.94895,     0.94995,     0.95095,     0.95195,     0.95295,     0.95395,     0.95495,     0.95596,     0.95696,     0.95796,     0.95896,     0.95996,\n",
       "           0.96096,     0.96196,     0.96296,     0.96396,     0.96496,     0.96597,     0.96697,     0.96797,     0.96897,     0.96997,     0.97097,     0.97197,     0.97297,     0.97397,     0.97497,     0.97598,     0.97698,     0.97798,     0.97898,     0.97998,     0.98098,     0.98198,     0.98298,     0.98398,\n",
       "           0.98498,     0.98599,     0.98699,     0.98799,     0.98899,     0.98999,     0.99099,     0.99199,     0.99299,     0.99399,     0.99499,       0.996,       0.997,       0.998,       0.999,           1]), array([[          1,           1,           1, ...,   0.0054847,   0.0027423,           0],\n",
       "       [          1,           1,           1, ...,   0.0049038,   0.0024519,           0],\n",
       "       [          1,           1,           1, ...,   0.0016259,  0.00081297,           0],\n",
       "       [          1,           1,           1, ...,   0.0035591,   0.0017796,           0],\n",
       "       [          1,           1,           1, ...,    0.010035,   0.0050177,           0],\n",
       "       [          1,           1,           1, ...,     0.00888,     0.00444,           0]]), 'Recall', 'Precision'], [array([          0,    0.001001,    0.002002,    0.003003,    0.004004,    0.005005,    0.006006,    0.007007,    0.008008,    0.009009,     0.01001,    0.011011,    0.012012,    0.013013,    0.014014,    0.015015,    0.016016,    0.017017,    0.018018,    0.019019,     0.02002,    0.021021,    0.022022,    0.023023,\n",
       "          0.024024,    0.025025,    0.026026,    0.027027,    0.028028,    0.029029,     0.03003,    0.031031,    0.032032,    0.033033,    0.034034,    0.035035,    0.036036,    0.037037,    0.038038,    0.039039,     0.04004,    0.041041,    0.042042,    0.043043,    0.044044,    0.045045,    0.046046,    0.047047,\n",
       "          0.048048,    0.049049,     0.05005,    0.051051,    0.052052,    0.053053,    0.054054,    0.055055,    0.056056,    0.057057,    0.058058,    0.059059,     0.06006,    0.061061,    0.062062,    0.063063,    0.064064,    0.065065,    0.066066,    0.067067,    0.068068,    0.069069,     0.07007,    0.071071,\n",
       "          0.072072,    0.073073,    0.074074,    0.075075,    0.076076,    0.077077,    0.078078,    0.079079,     0.08008,    0.081081,    0.082082,    0.083083,    0.084084,    0.085085,    0.086086,    0.087087,    0.088088,    0.089089,     0.09009,    0.091091,    0.092092,    0.093093,    0.094094,    0.095095,\n",
       "          0.096096,    0.097097,    0.098098,    0.099099,      0.1001,      0.1011,      0.1021,      0.1031,      0.1041,     0.10511,     0.10611,     0.10711,     0.10811,     0.10911,     0.11011,     0.11111,     0.11211,     0.11311,     0.11411,     0.11512,     0.11612,     0.11712,     0.11812,     0.11912,\n",
       "           0.12012,     0.12112,     0.12212,     0.12312,     0.12412,     0.12513,     0.12613,     0.12713,     0.12813,     0.12913,     0.13013,     0.13113,     0.13213,     0.13313,     0.13413,     0.13514,     0.13614,     0.13714,     0.13814,     0.13914,     0.14014,     0.14114,     0.14214,     0.14314,\n",
       "           0.14414,     0.14515,     0.14615,     0.14715,     0.14815,     0.14915,     0.15015,     0.15115,     0.15215,     0.15315,     0.15415,     0.15516,     0.15616,     0.15716,     0.15816,     0.15916,     0.16016,     0.16116,     0.16216,     0.16316,     0.16416,     0.16517,     0.16617,     0.16717,\n",
       "           0.16817,     0.16917,     0.17017,     0.17117,     0.17217,     0.17317,     0.17417,     0.17518,     0.17618,     0.17718,     0.17818,     0.17918,     0.18018,     0.18118,     0.18218,     0.18318,     0.18418,     0.18519,     0.18619,     0.18719,     0.18819,     0.18919,     0.19019,     0.19119,\n",
       "           0.19219,     0.19319,     0.19419,      0.1952,      0.1962,      0.1972,      0.1982,      0.1992,      0.2002,      0.2012,      0.2022,      0.2032,      0.2042,     0.20521,     0.20621,     0.20721,     0.20821,     0.20921,     0.21021,     0.21121,     0.21221,     0.21321,     0.21421,     0.21522,\n",
       "           0.21622,     0.21722,     0.21822,     0.21922,     0.22022,     0.22122,     0.22222,     0.22322,     0.22422,     0.22523,     0.22623,     0.22723,     0.22823,     0.22923,     0.23023,     0.23123,     0.23223,     0.23323,     0.23423,     0.23524,     0.23624,     0.23724,     0.23824,     0.23924,\n",
       "           0.24024,     0.24124,     0.24224,     0.24324,     0.24424,     0.24525,     0.24625,     0.24725,     0.24825,     0.24925,     0.25025,     0.25125,     0.25225,     0.25325,     0.25425,     0.25526,     0.25626,     0.25726,     0.25826,     0.25926,     0.26026,     0.26126,     0.26226,     0.26326,\n",
       "           0.26426,     0.26527,     0.26627,     0.26727,     0.26827,     0.26927,     0.27027,     0.27127,     0.27227,     0.27327,     0.27427,     0.27528,     0.27628,     0.27728,     0.27828,     0.27928,     0.28028,     0.28128,     0.28228,     0.28328,     0.28428,     0.28529,     0.28629,     0.28729,\n",
       "           0.28829,     0.28929,     0.29029,     0.29129,     0.29229,     0.29329,     0.29429,      0.2953,      0.2963,      0.2973,      0.2983,      0.2993,      0.3003,      0.3013,      0.3023,      0.3033,      0.3043,     0.30531,     0.30631,     0.30731,     0.30831,     0.30931,     0.31031,     0.31131,\n",
       "           0.31231,     0.31331,     0.31431,     0.31532,     0.31632,     0.31732,     0.31832,     0.31932,     0.32032,     0.32132,     0.32232,     0.32332,     0.32432,     0.32533,     0.32633,     0.32733,     0.32833,     0.32933,     0.33033,     0.33133,     0.33233,     0.33333,     0.33433,     0.33534,\n",
       "           0.33634,     0.33734,     0.33834,     0.33934,     0.34034,     0.34134,     0.34234,     0.34334,     0.34434,     0.34535,     0.34635,     0.34735,     0.34835,     0.34935,     0.35035,     0.35135,     0.35235,     0.35335,     0.35435,     0.35536,     0.35636,     0.35736,     0.35836,     0.35936,\n",
       "           0.36036,     0.36136,     0.36236,     0.36336,     0.36436,     0.36537,     0.36637,     0.36737,     0.36837,     0.36937,     0.37037,     0.37137,     0.37237,     0.37337,     0.37437,     0.37538,     0.37638,     0.37738,     0.37838,     0.37938,     0.38038,     0.38138,     0.38238,     0.38338,\n",
       "           0.38438,     0.38539,     0.38639,     0.38739,     0.38839,     0.38939,     0.39039,     0.39139,     0.39239,     0.39339,     0.39439,      0.3954,      0.3964,      0.3974,      0.3984,      0.3994,      0.4004,      0.4014,      0.4024,      0.4034,      0.4044,     0.40541,     0.40641,     0.40741,\n",
       "           0.40841,     0.40941,     0.41041,     0.41141,     0.41241,     0.41341,     0.41441,     0.41542,     0.41642,     0.41742,     0.41842,     0.41942,     0.42042,     0.42142,     0.42242,     0.42342,     0.42442,     0.42543,     0.42643,     0.42743,     0.42843,     0.42943,     0.43043,     0.43143,\n",
       "           0.43243,     0.43343,     0.43443,     0.43544,     0.43644,     0.43744,     0.43844,     0.43944,     0.44044,     0.44144,     0.44244,     0.44344,     0.44444,     0.44545,     0.44645,     0.44745,     0.44845,     0.44945,     0.45045,     0.45145,     0.45245,     0.45345,     0.45445,     0.45546,\n",
       "           0.45646,     0.45746,     0.45846,     0.45946,     0.46046,     0.46146,     0.46246,     0.46346,     0.46446,     0.46547,     0.46647,     0.46747,     0.46847,     0.46947,     0.47047,     0.47147,     0.47247,     0.47347,     0.47447,     0.47548,     0.47648,     0.47748,     0.47848,     0.47948,\n",
       "           0.48048,     0.48148,     0.48248,     0.48348,     0.48448,     0.48549,     0.48649,     0.48749,     0.48849,     0.48949,     0.49049,     0.49149,     0.49249,     0.49349,     0.49449,      0.4955,      0.4965,      0.4975,      0.4985,      0.4995,      0.5005,      0.5015,      0.5025,      0.5035,\n",
       "            0.5045,     0.50551,     0.50651,     0.50751,     0.50851,     0.50951,     0.51051,     0.51151,     0.51251,     0.51351,     0.51451,     0.51552,     0.51652,     0.51752,     0.51852,     0.51952,     0.52052,     0.52152,     0.52252,     0.52352,     0.52452,     0.52553,     0.52653,     0.52753,\n",
       "           0.52853,     0.52953,     0.53053,     0.53153,     0.53253,     0.53353,     0.53453,     0.53554,     0.53654,     0.53754,     0.53854,     0.53954,     0.54054,     0.54154,     0.54254,     0.54354,     0.54454,     0.54555,     0.54655,     0.54755,     0.54855,     0.54955,     0.55055,     0.55155,\n",
       "           0.55255,     0.55355,     0.55455,     0.55556,     0.55656,     0.55756,     0.55856,     0.55956,     0.56056,     0.56156,     0.56256,     0.56356,     0.56456,     0.56557,     0.56657,     0.56757,     0.56857,     0.56957,     0.57057,     0.57157,     0.57257,     0.57357,     0.57457,     0.57558,\n",
       "           0.57658,     0.57758,     0.57858,     0.57958,     0.58058,     0.58158,     0.58258,     0.58358,     0.58458,     0.58559,     0.58659,     0.58759,     0.58859,     0.58959,     0.59059,     0.59159,     0.59259,     0.59359,     0.59459,      0.5956,      0.5966,      0.5976,      0.5986,      0.5996,\n",
       "            0.6006,      0.6016,      0.6026,      0.6036,      0.6046,     0.60561,     0.60661,     0.60761,     0.60861,     0.60961,     0.61061,     0.61161,     0.61261,     0.61361,     0.61461,     0.61562,     0.61662,     0.61762,     0.61862,     0.61962,     0.62062,     0.62162,     0.62262,     0.62362,\n",
       "           0.62462,     0.62563,     0.62663,     0.62763,     0.62863,     0.62963,     0.63063,     0.63163,     0.63263,     0.63363,     0.63463,     0.63564,     0.63664,     0.63764,     0.63864,     0.63964,     0.64064,     0.64164,     0.64264,     0.64364,     0.64464,     0.64565,     0.64665,     0.64765,\n",
       "           0.64865,     0.64965,     0.65065,     0.65165,     0.65265,     0.65365,     0.65465,     0.65566,     0.65666,     0.65766,     0.65866,     0.65966,     0.66066,     0.66166,     0.66266,     0.66366,     0.66466,     0.66567,     0.66667,     0.66767,     0.66867,     0.66967,     0.67067,     0.67167,\n",
       "           0.67267,     0.67367,     0.67467,     0.67568,     0.67668,     0.67768,     0.67868,     0.67968,     0.68068,     0.68168,     0.68268,     0.68368,     0.68468,     0.68569,     0.68669,     0.68769,     0.68869,     0.68969,     0.69069,     0.69169,     0.69269,     0.69369,     0.69469,      0.6957,\n",
       "            0.6967,      0.6977,      0.6987,      0.6997,      0.7007,      0.7017,      0.7027,      0.7037,      0.7047,     0.70571,     0.70671,     0.70771,     0.70871,     0.70971,     0.71071,     0.71171,     0.71271,     0.71371,     0.71471,     0.71572,     0.71672,     0.71772,     0.71872,     0.71972,\n",
       "           0.72072,     0.72172,     0.72272,     0.72372,     0.72472,     0.72573,     0.72673,     0.72773,     0.72873,     0.72973,     0.73073,     0.73173,     0.73273,     0.73373,     0.73473,     0.73574,     0.73674,     0.73774,     0.73874,     0.73974,     0.74074,     0.74174,     0.74274,     0.74374,\n",
       "           0.74474,     0.74575,     0.74675,     0.74775,     0.74875,     0.74975,     0.75075,     0.75175,     0.75275,     0.75375,     0.75475,     0.75576,     0.75676,     0.75776,     0.75876,     0.75976,     0.76076,     0.76176,     0.76276,     0.76376,     0.76476,     0.76577,     0.76677,     0.76777,\n",
       "           0.76877,     0.76977,     0.77077,     0.77177,     0.77277,     0.77377,     0.77477,     0.77578,     0.77678,     0.77778,     0.77878,     0.77978,     0.78078,     0.78178,     0.78278,     0.78378,     0.78478,     0.78579,     0.78679,     0.78779,     0.78879,     0.78979,     0.79079,     0.79179,\n",
       "           0.79279,     0.79379,     0.79479,      0.7958,      0.7968,      0.7978,      0.7988,      0.7998,      0.8008,      0.8018,      0.8028,      0.8038,      0.8048,     0.80581,     0.80681,     0.80781,     0.80881,     0.80981,     0.81081,     0.81181,     0.81281,     0.81381,     0.81481,     0.81582,\n",
       "           0.81682,     0.81782,     0.81882,     0.81982,     0.82082,     0.82182,     0.82282,     0.82382,     0.82482,     0.82583,     0.82683,     0.82783,     0.82883,     0.82983,     0.83083,     0.83183,     0.83283,     0.83383,     0.83483,     0.83584,     0.83684,     0.83784,     0.83884,     0.83984,\n",
       "           0.84084,     0.84184,     0.84284,     0.84384,     0.84484,     0.84585,     0.84685,     0.84785,     0.84885,     0.84985,     0.85085,     0.85185,     0.85285,     0.85385,     0.85485,     0.85586,     0.85686,     0.85786,     0.85886,     0.85986,     0.86086,     0.86186,     0.86286,     0.86386,\n",
       "           0.86486,     0.86587,     0.86687,     0.86787,     0.86887,     0.86987,     0.87087,     0.87187,     0.87287,     0.87387,     0.87487,     0.87588,     0.87688,     0.87788,     0.87888,     0.87988,     0.88088,     0.88188,     0.88288,     0.88388,     0.88488,     0.88589,     0.88689,     0.88789,\n",
       "           0.88889,     0.88989,     0.89089,     0.89189,     0.89289,     0.89389,     0.89489,      0.8959,      0.8969,      0.8979,      0.8989,      0.8999,      0.9009,      0.9019,      0.9029,      0.9039,      0.9049,     0.90591,     0.90691,     0.90791,     0.90891,     0.90991,     0.91091,     0.91191,\n",
       "           0.91291,     0.91391,     0.91491,     0.91592,     0.91692,     0.91792,     0.91892,     0.91992,     0.92092,     0.92192,     0.92292,     0.92392,     0.92492,     0.92593,     0.92693,     0.92793,     0.92893,     0.92993,     0.93093,     0.93193,     0.93293,     0.93393,     0.93493,     0.93594,\n",
       "           0.93694,     0.93794,     0.93894,     0.93994,     0.94094,     0.94194,     0.94294,     0.94394,     0.94494,     0.94595,     0.94695,     0.94795,     0.94895,     0.94995,     0.95095,     0.95195,     0.95295,     0.95395,     0.95495,     0.95596,     0.95696,     0.95796,     0.95896,     0.95996,\n",
       "           0.96096,     0.96196,     0.96296,     0.96396,     0.96496,     0.96597,     0.96697,     0.96797,     0.96897,     0.96997,     0.97097,     0.97197,     0.97297,     0.97397,     0.97497,     0.97598,     0.97698,     0.97798,     0.97898,     0.97998,     0.98098,     0.98198,     0.98298,     0.98398,\n",
       "           0.98498,     0.98599,     0.98699,     0.98799,     0.98899,     0.98999,     0.99099,     0.99199,     0.99299,     0.99399,     0.99499,       0.996,       0.997,       0.998,       0.999,           1]), array([[    0.16805,     0.16805,     0.25016, ...,           0,           0,           0],\n",
       "       [    0.29015,     0.29015,     0.36593, ...,           0,           0,           0],\n",
       "       [    0.20438,     0.20438,     0.25356, ...,           0,           0,           0],\n",
       "       [    0.19868,     0.19868,     0.26312, ...,           0,           0,           0],\n",
       "       [    0.26265,     0.26265,     0.35163, ...,           0,           0,           0],\n",
       "       [    0.35429,     0.35429,     0.43432, ...,           0,           0,           0]]), 'Confidence', 'F1'], [array([          0,    0.001001,    0.002002,    0.003003,    0.004004,    0.005005,    0.006006,    0.007007,    0.008008,    0.009009,     0.01001,    0.011011,    0.012012,    0.013013,    0.014014,    0.015015,    0.016016,    0.017017,    0.018018,    0.019019,     0.02002,    0.021021,    0.022022,    0.023023,\n",
       "          0.024024,    0.025025,    0.026026,    0.027027,    0.028028,    0.029029,     0.03003,    0.031031,    0.032032,    0.033033,    0.034034,    0.035035,    0.036036,    0.037037,    0.038038,    0.039039,     0.04004,    0.041041,    0.042042,    0.043043,    0.044044,    0.045045,    0.046046,    0.047047,\n",
       "          0.048048,    0.049049,     0.05005,    0.051051,    0.052052,    0.053053,    0.054054,    0.055055,    0.056056,    0.057057,    0.058058,    0.059059,     0.06006,    0.061061,    0.062062,    0.063063,    0.064064,    0.065065,    0.066066,    0.067067,    0.068068,    0.069069,     0.07007,    0.071071,\n",
       "          0.072072,    0.073073,    0.074074,    0.075075,    0.076076,    0.077077,    0.078078,    0.079079,     0.08008,    0.081081,    0.082082,    0.083083,    0.084084,    0.085085,    0.086086,    0.087087,    0.088088,    0.089089,     0.09009,    0.091091,    0.092092,    0.093093,    0.094094,    0.095095,\n",
       "          0.096096,    0.097097,    0.098098,    0.099099,      0.1001,      0.1011,      0.1021,      0.1031,      0.1041,     0.10511,     0.10611,     0.10711,     0.10811,     0.10911,     0.11011,     0.11111,     0.11211,     0.11311,     0.11411,     0.11512,     0.11612,     0.11712,     0.11812,     0.11912,\n",
       "           0.12012,     0.12112,     0.12212,     0.12312,     0.12412,     0.12513,     0.12613,     0.12713,     0.12813,     0.12913,     0.13013,     0.13113,     0.13213,     0.13313,     0.13413,     0.13514,     0.13614,     0.13714,     0.13814,     0.13914,     0.14014,     0.14114,     0.14214,     0.14314,\n",
       "           0.14414,     0.14515,     0.14615,     0.14715,     0.14815,     0.14915,     0.15015,     0.15115,     0.15215,     0.15315,     0.15415,     0.15516,     0.15616,     0.15716,     0.15816,     0.15916,     0.16016,     0.16116,     0.16216,     0.16316,     0.16416,     0.16517,     0.16617,     0.16717,\n",
       "           0.16817,     0.16917,     0.17017,     0.17117,     0.17217,     0.17317,     0.17417,     0.17518,     0.17618,     0.17718,     0.17818,     0.17918,     0.18018,     0.18118,     0.18218,     0.18318,     0.18418,     0.18519,     0.18619,     0.18719,     0.18819,     0.18919,     0.19019,     0.19119,\n",
       "           0.19219,     0.19319,     0.19419,      0.1952,      0.1962,      0.1972,      0.1982,      0.1992,      0.2002,      0.2012,      0.2022,      0.2032,      0.2042,     0.20521,     0.20621,     0.20721,     0.20821,     0.20921,     0.21021,     0.21121,     0.21221,     0.21321,     0.21421,     0.21522,\n",
       "           0.21622,     0.21722,     0.21822,     0.21922,     0.22022,     0.22122,     0.22222,     0.22322,     0.22422,     0.22523,     0.22623,     0.22723,     0.22823,     0.22923,     0.23023,     0.23123,     0.23223,     0.23323,     0.23423,     0.23524,     0.23624,     0.23724,     0.23824,     0.23924,\n",
       "           0.24024,     0.24124,     0.24224,     0.24324,     0.24424,     0.24525,     0.24625,     0.24725,     0.24825,     0.24925,     0.25025,     0.25125,     0.25225,     0.25325,     0.25425,     0.25526,     0.25626,     0.25726,     0.25826,     0.25926,     0.26026,     0.26126,     0.26226,     0.26326,\n",
       "           0.26426,     0.26527,     0.26627,     0.26727,     0.26827,     0.26927,     0.27027,     0.27127,     0.27227,     0.27327,     0.27427,     0.27528,     0.27628,     0.27728,     0.27828,     0.27928,     0.28028,     0.28128,     0.28228,     0.28328,     0.28428,     0.28529,     0.28629,     0.28729,\n",
       "           0.28829,     0.28929,     0.29029,     0.29129,     0.29229,     0.29329,     0.29429,      0.2953,      0.2963,      0.2973,      0.2983,      0.2993,      0.3003,      0.3013,      0.3023,      0.3033,      0.3043,     0.30531,     0.30631,     0.30731,     0.30831,     0.30931,     0.31031,     0.31131,\n",
       "           0.31231,     0.31331,     0.31431,     0.31532,     0.31632,     0.31732,     0.31832,     0.31932,     0.32032,     0.32132,     0.32232,     0.32332,     0.32432,     0.32533,     0.32633,     0.32733,     0.32833,     0.32933,     0.33033,     0.33133,     0.33233,     0.33333,     0.33433,     0.33534,\n",
       "           0.33634,     0.33734,     0.33834,     0.33934,     0.34034,     0.34134,     0.34234,     0.34334,     0.34434,     0.34535,     0.34635,     0.34735,     0.34835,     0.34935,     0.35035,     0.35135,     0.35235,     0.35335,     0.35435,     0.35536,     0.35636,     0.35736,     0.35836,     0.35936,\n",
       "           0.36036,     0.36136,     0.36236,     0.36336,     0.36436,     0.36537,     0.36637,     0.36737,     0.36837,     0.36937,     0.37037,     0.37137,     0.37237,     0.37337,     0.37437,     0.37538,     0.37638,     0.37738,     0.37838,     0.37938,     0.38038,     0.38138,     0.38238,     0.38338,\n",
       "           0.38438,     0.38539,     0.38639,     0.38739,     0.38839,     0.38939,     0.39039,     0.39139,     0.39239,     0.39339,     0.39439,      0.3954,      0.3964,      0.3974,      0.3984,      0.3994,      0.4004,      0.4014,      0.4024,      0.4034,      0.4044,     0.40541,     0.40641,     0.40741,\n",
       "           0.40841,     0.40941,     0.41041,     0.41141,     0.41241,     0.41341,     0.41441,     0.41542,     0.41642,     0.41742,     0.41842,     0.41942,     0.42042,     0.42142,     0.42242,     0.42342,     0.42442,     0.42543,     0.42643,     0.42743,     0.42843,     0.42943,     0.43043,     0.43143,\n",
       "           0.43243,     0.43343,     0.43443,     0.43544,     0.43644,     0.43744,     0.43844,     0.43944,     0.44044,     0.44144,     0.44244,     0.44344,     0.44444,     0.44545,     0.44645,     0.44745,     0.44845,     0.44945,     0.45045,     0.45145,     0.45245,     0.45345,     0.45445,     0.45546,\n",
       "           0.45646,     0.45746,     0.45846,     0.45946,     0.46046,     0.46146,     0.46246,     0.46346,     0.46446,     0.46547,     0.46647,     0.46747,     0.46847,     0.46947,     0.47047,     0.47147,     0.47247,     0.47347,     0.47447,     0.47548,     0.47648,     0.47748,     0.47848,     0.47948,\n",
       "           0.48048,     0.48148,     0.48248,     0.48348,     0.48448,     0.48549,     0.48649,     0.48749,     0.48849,     0.48949,     0.49049,     0.49149,     0.49249,     0.49349,     0.49449,      0.4955,      0.4965,      0.4975,      0.4985,      0.4995,      0.5005,      0.5015,      0.5025,      0.5035,\n",
       "            0.5045,     0.50551,     0.50651,     0.50751,     0.50851,     0.50951,     0.51051,     0.51151,     0.51251,     0.51351,     0.51451,     0.51552,     0.51652,     0.51752,     0.51852,     0.51952,     0.52052,     0.52152,     0.52252,     0.52352,     0.52452,     0.52553,     0.52653,     0.52753,\n",
       "           0.52853,     0.52953,     0.53053,     0.53153,     0.53253,     0.53353,     0.53453,     0.53554,     0.53654,     0.53754,     0.53854,     0.53954,     0.54054,     0.54154,     0.54254,     0.54354,     0.54454,     0.54555,     0.54655,     0.54755,     0.54855,     0.54955,     0.55055,     0.55155,\n",
       "           0.55255,     0.55355,     0.55455,     0.55556,     0.55656,     0.55756,     0.55856,     0.55956,     0.56056,     0.56156,     0.56256,     0.56356,     0.56456,     0.56557,     0.56657,     0.56757,     0.56857,     0.56957,     0.57057,     0.57157,     0.57257,     0.57357,     0.57457,     0.57558,\n",
       "           0.57658,     0.57758,     0.57858,     0.57958,     0.58058,     0.58158,     0.58258,     0.58358,     0.58458,     0.58559,     0.58659,     0.58759,     0.58859,     0.58959,     0.59059,     0.59159,     0.59259,     0.59359,     0.59459,      0.5956,      0.5966,      0.5976,      0.5986,      0.5996,\n",
       "            0.6006,      0.6016,      0.6026,      0.6036,      0.6046,     0.60561,     0.60661,     0.60761,     0.60861,     0.60961,     0.61061,     0.61161,     0.61261,     0.61361,     0.61461,     0.61562,     0.61662,     0.61762,     0.61862,     0.61962,     0.62062,     0.62162,     0.62262,     0.62362,\n",
       "           0.62462,     0.62563,     0.62663,     0.62763,     0.62863,     0.62963,     0.63063,     0.63163,     0.63263,     0.63363,     0.63463,     0.63564,     0.63664,     0.63764,     0.63864,     0.63964,     0.64064,     0.64164,     0.64264,     0.64364,     0.64464,     0.64565,     0.64665,     0.64765,\n",
       "           0.64865,     0.64965,     0.65065,     0.65165,     0.65265,     0.65365,     0.65465,     0.65566,     0.65666,     0.65766,     0.65866,     0.65966,     0.66066,     0.66166,     0.66266,     0.66366,     0.66466,     0.66567,     0.66667,     0.66767,     0.66867,     0.66967,     0.67067,     0.67167,\n",
       "           0.67267,     0.67367,     0.67467,     0.67568,     0.67668,     0.67768,     0.67868,     0.67968,     0.68068,     0.68168,     0.68268,     0.68368,     0.68468,     0.68569,     0.68669,     0.68769,     0.68869,     0.68969,     0.69069,     0.69169,     0.69269,     0.69369,     0.69469,      0.6957,\n",
       "            0.6967,      0.6977,      0.6987,      0.6997,      0.7007,      0.7017,      0.7027,      0.7037,      0.7047,     0.70571,     0.70671,     0.70771,     0.70871,     0.70971,     0.71071,     0.71171,     0.71271,     0.71371,     0.71471,     0.71572,     0.71672,     0.71772,     0.71872,     0.71972,\n",
       "           0.72072,     0.72172,     0.72272,     0.72372,     0.72472,     0.72573,     0.72673,     0.72773,     0.72873,     0.72973,     0.73073,     0.73173,     0.73273,     0.73373,     0.73473,     0.73574,     0.73674,     0.73774,     0.73874,     0.73974,     0.74074,     0.74174,     0.74274,     0.74374,\n",
       "           0.74474,     0.74575,     0.74675,     0.74775,     0.74875,     0.74975,     0.75075,     0.75175,     0.75275,     0.75375,     0.75475,     0.75576,     0.75676,     0.75776,     0.75876,     0.75976,     0.76076,     0.76176,     0.76276,     0.76376,     0.76476,     0.76577,     0.76677,     0.76777,\n",
       "           0.76877,     0.76977,     0.77077,     0.77177,     0.77277,     0.77377,     0.77477,     0.77578,     0.77678,     0.77778,     0.77878,     0.77978,     0.78078,     0.78178,     0.78278,     0.78378,     0.78478,     0.78579,     0.78679,     0.78779,     0.78879,     0.78979,     0.79079,     0.79179,\n",
       "           0.79279,     0.79379,     0.79479,      0.7958,      0.7968,      0.7978,      0.7988,      0.7998,      0.8008,      0.8018,      0.8028,      0.8038,      0.8048,     0.80581,     0.80681,     0.80781,     0.80881,     0.80981,     0.81081,     0.81181,     0.81281,     0.81381,     0.81481,     0.81582,\n",
       "           0.81682,     0.81782,     0.81882,     0.81982,     0.82082,     0.82182,     0.82282,     0.82382,     0.82482,     0.82583,     0.82683,     0.82783,     0.82883,     0.82983,     0.83083,     0.83183,     0.83283,     0.83383,     0.83483,     0.83584,     0.83684,     0.83784,     0.83884,     0.83984,\n",
       "           0.84084,     0.84184,     0.84284,     0.84384,     0.84484,     0.84585,     0.84685,     0.84785,     0.84885,     0.84985,     0.85085,     0.85185,     0.85285,     0.85385,     0.85485,     0.85586,     0.85686,     0.85786,     0.85886,     0.85986,     0.86086,     0.86186,     0.86286,     0.86386,\n",
       "           0.86486,     0.86587,     0.86687,     0.86787,     0.86887,     0.86987,     0.87087,     0.87187,     0.87287,     0.87387,     0.87487,     0.87588,     0.87688,     0.87788,     0.87888,     0.87988,     0.88088,     0.88188,     0.88288,     0.88388,     0.88488,     0.88589,     0.88689,     0.88789,\n",
       "           0.88889,     0.88989,     0.89089,     0.89189,     0.89289,     0.89389,     0.89489,      0.8959,      0.8969,      0.8979,      0.8989,      0.8999,      0.9009,      0.9019,      0.9029,      0.9039,      0.9049,     0.90591,     0.90691,     0.90791,     0.90891,     0.90991,     0.91091,     0.91191,\n",
       "           0.91291,     0.91391,     0.91491,     0.91592,     0.91692,     0.91792,     0.91892,     0.91992,     0.92092,     0.92192,     0.92292,     0.92392,     0.92492,     0.92593,     0.92693,     0.92793,     0.92893,     0.92993,     0.93093,     0.93193,     0.93293,     0.93393,     0.93493,     0.93594,\n",
       "           0.93694,     0.93794,     0.93894,     0.93994,     0.94094,     0.94194,     0.94294,     0.94394,     0.94494,     0.94595,     0.94695,     0.94795,     0.94895,     0.94995,     0.95095,     0.95195,     0.95295,     0.95395,     0.95495,     0.95596,     0.95696,     0.95796,     0.95896,     0.95996,\n",
       "           0.96096,     0.96196,     0.96296,     0.96396,     0.96496,     0.96597,     0.96697,     0.96797,     0.96897,     0.96997,     0.97097,     0.97197,     0.97297,     0.97397,     0.97497,     0.97598,     0.97698,     0.97798,     0.97898,     0.97998,     0.98098,     0.98198,     0.98298,     0.98398,\n",
       "           0.98498,     0.98599,     0.98699,     0.98799,     0.98899,     0.98999,     0.99099,     0.99199,     0.99299,     0.99399,     0.99499,       0.996,       0.997,       0.998,       0.999,           1]), array([[   0.092028,    0.092028,     0.14379, ...,           1,           1,           1],\n",
       "       [    0.17189,     0.17189,      0.2285, ...,           1,           1,           1],\n",
       "       [    0.11602,     0.11602,     0.14879, ...,           1,           1,           1],\n",
       "       [    0.11111,     0.11111,     0.15304, ...,           1,           1,           1],\n",
       "       [     0.1519,      0.1519,     0.21475, ...,           1,           1,           1],\n",
       "       [     0.2177,      0.2177,     0.28252, ...,           1,           1,           1]]), 'Confidence', 'Precision'], [array([          0,    0.001001,    0.002002,    0.003003,    0.004004,    0.005005,    0.006006,    0.007007,    0.008008,    0.009009,     0.01001,    0.011011,    0.012012,    0.013013,    0.014014,    0.015015,    0.016016,    0.017017,    0.018018,    0.019019,     0.02002,    0.021021,    0.022022,    0.023023,\n",
       "          0.024024,    0.025025,    0.026026,    0.027027,    0.028028,    0.029029,     0.03003,    0.031031,    0.032032,    0.033033,    0.034034,    0.035035,    0.036036,    0.037037,    0.038038,    0.039039,     0.04004,    0.041041,    0.042042,    0.043043,    0.044044,    0.045045,    0.046046,    0.047047,\n",
       "          0.048048,    0.049049,     0.05005,    0.051051,    0.052052,    0.053053,    0.054054,    0.055055,    0.056056,    0.057057,    0.058058,    0.059059,     0.06006,    0.061061,    0.062062,    0.063063,    0.064064,    0.065065,    0.066066,    0.067067,    0.068068,    0.069069,     0.07007,    0.071071,\n",
       "          0.072072,    0.073073,    0.074074,    0.075075,    0.076076,    0.077077,    0.078078,    0.079079,     0.08008,    0.081081,    0.082082,    0.083083,    0.084084,    0.085085,    0.086086,    0.087087,    0.088088,    0.089089,     0.09009,    0.091091,    0.092092,    0.093093,    0.094094,    0.095095,\n",
       "          0.096096,    0.097097,    0.098098,    0.099099,      0.1001,      0.1011,      0.1021,      0.1031,      0.1041,     0.10511,     0.10611,     0.10711,     0.10811,     0.10911,     0.11011,     0.11111,     0.11211,     0.11311,     0.11411,     0.11512,     0.11612,     0.11712,     0.11812,     0.11912,\n",
       "           0.12012,     0.12112,     0.12212,     0.12312,     0.12412,     0.12513,     0.12613,     0.12713,     0.12813,     0.12913,     0.13013,     0.13113,     0.13213,     0.13313,     0.13413,     0.13514,     0.13614,     0.13714,     0.13814,     0.13914,     0.14014,     0.14114,     0.14214,     0.14314,\n",
       "           0.14414,     0.14515,     0.14615,     0.14715,     0.14815,     0.14915,     0.15015,     0.15115,     0.15215,     0.15315,     0.15415,     0.15516,     0.15616,     0.15716,     0.15816,     0.15916,     0.16016,     0.16116,     0.16216,     0.16316,     0.16416,     0.16517,     0.16617,     0.16717,\n",
       "           0.16817,     0.16917,     0.17017,     0.17117,     0.17217,     0.17317,     0.17417,     0.17518,     0.17618,     0.17718,     0.17818,     0.17918,     0.18018,     0.18118,     0.18218,     0.18318,     0.18418,     0.18519,     0.18619,     0.18719,     0.18819,     0.18919,     0.19019,     0.19119,\n",
       "           0.19219,     0.19319,     0.19419,      0.1952,      0.1962,      0.1972,      0.1982,      0.1992,      0.2002,      0.2012,      0.2022,      0.2032,      0.2042,     0.20521,     0.20621,     0.20721,     0.20821,     0.20921,     0.21021,     0.21121,     0.21221,     0.21321,     0.21421,     0.21522,\n",
       "           0.21622,     0.21722,     0.21822,     0.21922,     0.22022,     0.22122,     0.22222,     0.22322,     0.22422,     0.22523,     0.22623,     0.22723,     0.22823,     0.22923,     0.23023,     0.23123,     0.23223,     0.23323,     0.23423,     0.23524,     0.23624,     0.23724,     0.23824,     0.23924,\n",
       "           0.24024,     0.24124,     0.24224,     0.24324,     0.24424,     0.24525,     0.24625,     0.24725,     0.24825,     0.24925,     0.25025,     0.25125,     0.25225,     0.25325,     0.25425,     0.25526,     0.25626,     0.25726,     0.25826,     0.25926,     0.26026,     0.26126,     0.26226,     0.26326,\n",
       "           0.26426,     0.26527,     0.26627,     0.26727,     0.26827,     0.26927,     0.27027,     0.27127,     0.27227,     0.27327,     0.27427,     0.27528,     0.27628,     0.27728,     0.27828,     0.27928,     0.28028,     0.28128,     0.28228,     0.28328,     0.28428,     0.28529,     0.28629,     0.28729,\n",
       "           0.28829,     0.28929,     0.29029,     0.29129,     0.29229,     0.29329,     0.29429,      0.2953,      0.2963,      0.2973,      0.2983,      0.2993,      0.3003,      0.3013,      0.3023,      0.3033,      0.3043,     0.30531,     0.30631,     0.30731,     0.30831,     0.30931,     0.31031,     0.31131,\n",
       "           0.31231,     0.31331,     0.31431,     0.31532,     0.31632,     0.31732,     0.31832,     0.31932,     0.32032,     0.32132,     0.32232,     0.32332,     0.32432,     0.32533,     0.32633,     0.32733,     0.32833,     0.32933,     0.33033,     0.33133,     0.33233,     0.33333,     0.33433,     0.33534,\n",
       "           0.33634,     0.33734,     0.33834,     0.33934,     0.34034,     0.34134,     0.34234,     0.34334,     0.34434,     0.34535,     0.34635,     0.34735,     0.34835,     0.34935,     0.35035,     0.35135,     0.35235,     0.35335,     0.35435,     0.35536,     0.35636,     0.35736,     0.35836,     0.35936,\n",
       "           0.36036,     0.36136,     0.36236,     0.36336,     0.36436,     0.36537,     0.36637,     0.36737,     0.36837,     0.36937,     0.37037,     0.37137,     0.37237,     0.37337,     0.37437,     0.37538,     0.37638,     0.37738,     0.37838,     0.37938,     0.38038,     0.38138,     0.38238,     0.38338,\n",
       "           0.38438,     0.38539,     0.38639,     0.38739,     0.38839,     0.38939,     0.39039,     0.39139,     0.39239,     0.39339,     0.39439,      0.3954,      0.3964,      0.3974,      0.3984,      0.3994,      0.4004,      0.4014,      0.4024,      0.4034,      0.4044,     0.40541,     0.40641,     0.40741,\n",
       "           0.40841,     0.40941,     0.41041,     0.41141,     0.41241,     0.41341,     0.41441,     0.41542,     0.41642,     0.41742,     0.41842,     0.41942,     0.42042,     0.42142,     0.42242,     0.42342,     0.42442,     0.42543,     0.42643,     0.42743,     0.42843,     0.42943,     0.43043,     0.43143,\n",
       "           0.43243,     0.43343,     0.43443,     0.43544,     0.43644,     0.43744,     0.43844,     0.43944,     0.44044,     0.44144,     0.44244,     0.44344,     0.44444,     0.44545,     0.44645,     0.44745,     0.44845,     0.44945,     0.45045,     0.45145,     0.45245,     0.45345,     0.45445,     0.45546,\n",
       "           0.45646,     0.45746,     0.45846,     0.45946,     0.46046,     0.46146,     0.46246,     0.46346,     0.46446,     0.46547,     0.46647,     0.46747,     0.46847,     0.46947,     0.47047,     0.47147,     0.47247,     0.47347,     0.47447,     0.47548,     0.47648,     0.47748,     0.47848,     0.47948,\n",
       "           0.48048,     0.48148,     0.48248,     0.48348,     0.48448,     0.48549,     0.48649,     0.48749,     0.48849,     0.48949,     0.49049,     0.49149,     0.49249,     0.49349,     0.49449,      0.4955,      0.4965,      0.4975,      0.4985,      0.4995,      0.5005,      0.5015,      0.5025,      0.5035,\n",
       "            0.5045,     0.50551,     0.50651,     0.50751,     0.50851,     0.50951,     0.51051,     0.51151,     0.51251,     0.51351,     0.51451,     0.51552,     0.51652,     0.51752,     0.51852,     0.51952,     0.52052,     0.52152,     0.52252,     0.52352,     0.52452,     0.52553,     0.52653,     0.52753,\n",
       "           0.52853,     0.52953,     0.53053,     0.53153,     0.53253,     0.53353,     0.53453,     0.53554,     0.53654,     0.53754,     0.53854,     0.53954,     0.54054,     0.54154,     0.54254,     0.54354,     0.54454,     0.54555,     0.54655,     0.54755,     0.54855,     0.54955,     0.55055,     0.55155,\n",
       "           0.55255,     0.55355,     0.55455,     0.55556,     0.55656,     0.55756,     0.55856,     0.55956,     0.56056,     0.56156,     0.56256,     0.56356,     0.56456,     0.56557,     0.56657,     0.56757,     0.56857,     0.56957,     0.57057,     0.57157,     0.57257,     0.57357,     0.57457,     0.57558,\n",
       "           0.57658,     0.57758,     0.57858,     0.57958,     0.58058,     0.58158,     0.58258,     0.58358,     0.58458,     0.58559,     0.58659,     0.58759,     0.58859,     0.58959,     0.59059,     0.59159,     0.59259,     0.59359,     0.59459,      0.5956,      0.5966,      0.5976,      0.5986,      0.5996,\n",
       "            0.6006,      0.6016,      0.6026,      0.6036,      0.6046,     0.60561,     0.60661,     0.60761,     0.60861,     0.60961,     0.61061,     0.61161,     0.61261,     0.61361,     0.61461,     0.61562,     0.61662,     0.61762,     0.61862,     0.61962,     0.62062,     0.62162,     0.62262,     0.62362,\n",
       "           0.62462,     0.62563,     0.62663,     0.62763,     0.62863,     0.62963,     0.63063,     0.63163,     0.63263,     0.63363,     0.63463,     0.63564,     0.63664,     0.63764,     0.63864,     0.63964,     0.64064,     0.64164,     0.64264,     0.64364,     0.64464,     0.64565,     0.64665,     0.64765,\n",
       "           0.64865,     0.64965,     0.65065,     0.65165,     0.65265,     0.65365,     0.65465,     0.65566,     0.65666,     0.65766,     0.65866,     0.65966,     0.66066,     0.66166,     0.66266,     0.66366,     0.66466,     0.66567,     0.66667,     0.66767,     0.66867,     0.66967,     0.67067,     0.67167,\n",
       "           0.67267,     0.67367,     0.67467,     0.67568,     0.67668,     0.67768,     0.67868,     0.67968,     0.68068,     0.68168,     0.68268,     0.68368,     0.68468,     0.68569,     0.68669,     0.68769,     0.68869,     0.68969,     0.69069,     0.69169,     0.69269,     0.69369,     0.69469,      0.6957,\n",
       "            0.6967,      0.6977,      0.6987,      0.6997,      0.7007,      0.7017,      0.7027,      0.7037,      0.7047,     0.70571,     0.70671,     0.70771,     0.70871,     0.70971,     0.71071,     0.71171,     0.71271,     0.71371,     0.71471,     0.71572,     0.71672,     0.71772,     0.71872,     0.71972,\n",
       "           0.72072,     0.72172,     0.72272,     0.72372,     0.72472,     0.72573,     0.72673,     0.72773,     0.72873,     0.72973,     0.73073,     0.73173,     0.73273,     0.73373,     0.73473,     0.73574,     0.73674,     0.73774,     0.73874,     0.73974,     0.74074,     0.74174,     0.74274,     0.74374,\n",
       "           0.74474,     0.74575,     0.74675,     0.74775,     0.74875,     0.74975,     0.75075,     0.75175,     0.75275,     0.75375,     0.75475,     0.75576,     0.75676,     0.75776,     0.75876,     0.75976,     0.76076,     0.76176,     0.76276,     0.76376,     0.76476,     0.76577,     0.76677,     0.76777,\n",
       "           0.76877,     0.76977,     0.77077,     0.77177,     0.77277,     0.77377,     0.77477,     0.77578,     0.77678,     0.77778,     0.77878,     0.77978,     0.78078,     0.78178,     0.78278,     0.78378,     0.78478,     0.78579,     0.78679,     0.78779,     0.78879,     0.78979,     0.79079,     0.79179,\n",
       "           0.79279,     0.79379,     0.79479,      0.7958,      0.7968,      0.7978,      0.7988,      0.7998,      0.8008,      0.8018,      0.8028,      0.8038,      0.8048,     0.80581,     0.80681,     0.80781,     0.80881,     0.80981,     0.81081,     0.81181,     0.81281,     0.81381,     0.81481,     0.81582,\n",
       "           0.81682,     0.81782,     0.81882,     0.81982,     0.82082,     0.82182,     0.82282,     0.82382,     0.82482,     0.82583,     0.82683,     0.82783,     0.82883,     0.82983,     0.83083,     0.83183,     0.83283,     0.83383,     0.83483,     0.83584,     0.83684,     0.83784,     0.83884,     0.83984,\n",
       "           0.84084,     0.84184,     0.84284,     0.84384,     0.84484,     0.84585,     0.84685,     0.84785,     0.84885,     0.84985,     0.85085,     0.85185,     0.85285,     0.85385,     0.85485,     0.85586,     0.85686,     0.85786,     0.85886,     0.85986,     0.86086,     0.86186,     0.86286,     0.86386,\n",
       "           0.86486,     0.86587,     0.86687,     0.86787,     0.86887,     0.86987,     0.87087,     0.87187,     0.87287,     0.87387,     0.87487,     0.87588,     0.87688,     0.87788,     0.87888,     0.87988,     0.88088,     0.88188,     0.88288,     0.88388,     0.88488,     0.88589,     0.88689,     0.88789,\n",
       "           0.88889,     0.88989,     0.89089,     0.89189,     0.89289,     0.89389,     0.89489,      0.8959,      0.8969,      0.8979,      0.8989,      0.8999,      0.9009,      0.9019,      0.9029,      0.9039,      0.9049,     0.90591,     0.90691,     0.90791,     0.90891,     0.90991,     0.91091,     0.91191,\n",
       "           0.91291,     0.91391,     0.91491,     0.91592,     0.91692,     0.91792,     0.91892,     0.91992,     0.92092,     0.92192,     0.92292,     0.92392,     0.92492,     0.92593,     0.92693,     0.92793,     0.92893,     0.92993,     0.93093,     0.93193,     0.93293,     0.93393,     0.93493,     0.93594,\n",
       "           0.93694,     0.93794,     0.93894,     0.93994,     0.94094,     0.94194,     0.94294,     0.94394,     0.94494,     0.94595,     0.94695,     0.94795,     0.94895,     0.94995,     0.95095,     0.95195,     0.95295,     0.95395,     0.95495,     0.95596,     0.95696,     0.95796,     0.95896,     0.95996,\n",
       "           0.96096,     0.96196,     0.96296,     0.96396,     0.96496,     0.96597,     0.96697,     0.96797,     0.96897,     0.96997,     0.97097,     0.97197,     0.97297,     0.97397,     0.97497,     0.97598,     0.97698,     0.97798,     0.97898,     0.97998,     0.98098,     0.98198,     0.98298,     0.98398,\n",
       "           0.98498,     0.98599,     0.98699,     0.98799,     0.98899,     0.98999,     0.99099,     0.99199,     0.99299,     0.99399,     0.99499,       0.996,       0.997,       0.998,       0.999,           1]), array([[    0.96641,     0.96641,     0.96124, ...,           0,           0,           0],\n",
       "       [    0.92982,     0.92982,     0.91813, ...,           0,           0,           0],\n",
       "       [    0.85714,     0.85714,     0.85714, ...,           0,           0,           0],\n",
       "       [     0.9375,      0.9375,      0.9375, ...,           0,           0,           0],\n",
       "       [     0.9697,      0.9697,      0.9697, ...,           0,           0,           0],\n",
       "       [    0.95092,     0.95092,     0.93865, ...,           0,           0,           0]]), 'Confidence', 'Recall']]\n",
       "fitness: np.float64(0.5664264829168457)\n",
       "keys: ['metrics/precision(B)', 'metrics/recall(B)', 'metrics/mAP50(B)', 'metrics/mAP50-95(B)']\n",
       "maps: array([    0.57907,      0.5075,      0.5011,     0.49933,      0.6174,     0.48949])\n",
       "names: {0: 'person', 1: 'vest', 2: 'blue helmet', 3: 'red helmet', 4: 'white helmet', 5: 'yellow helmet'}\n",
       "plot: True\n",
       "results_dict: {'metrics/precision(B)': np.float64(0.8808313486165534), 'metrics/recall(B)': np.float64(0.8281455558298019), 'metrics/mAP50(B)': np.float64(0.873430725353344), 'metrics/mAP50-95(B)': np.float64(0.5323149004239015), 'fitness': np.float64(0.5664264829168457)}\n",
       "save_dir: WindowsPath('f:/coding_projects/hardhat_detection_on_construction_site/runs/detect/train35')\n",
       "speed: {'preprocess': 0.1057924812067041, 'inference': 0.8303293233117636, 'loss': 0.0009691729540744082, 'postprocess': 0.6993466165311515}\n",
       "task: 'detect'"
      ]
     },
     "execution_count": 20,
     "metadata": {},
     "output_type": "execute_result"
    }
   ],
   "source": [
    "# Training on CHV dataset\n",
    "os.chdir(r'F:\\coding_projects\\datasets')\n",
    "model.train(data=r'F:\\coding_projects\\datasets\\CHV_dataset\\dataset.yaml', epochs=100,  imgsz=640, device='cuda')"
   ]
  },
  {
   "cell_type": "markdown",
   "metadata": {},
   "source": [
    "# Use YOLO_ppe custom trained"
   ]
  },
  {
   "cell_type": "code",
   "execution_count": null,
   "metadata": {},
   "outputs": [
    {
     "data": {
      "text/plain": [
       "YOLO(\n",
       "  (model): DetectionModel(\n",
       "    (model): Sequential(\n",
       "      (0): Conv(\n",
       "        (conv): Conv2d(3, 16, kernel_size=(3, 3), stride=(2, 2), padding=(1, 1), bias=False)\n",
       "        (bn): BatchNorm2d(16, eps=0.001, momentum=0.03, affine=True, track_running_stats=True)\n",
       "        (act): SiLU(inplace=True)\n",
       "      )\n",
       "      (1): Conv(\n",
       "        (conv): Conv2d(16, 32, kernel_size=(3, 3), stride=(2, 2), padding=(1, 1), bias=False)\n",
       "        (bn): BatchNorm2d(32, eps=0.001, momentum=0.03, affine=True, track_running_stats=True)\n",
       "        (act): SiLU(inplace=True)\n",
       "      )\n",
       "      (2): C2f(\n",
       "        (cv1): Conv(\n",
       "          (conv): Conv2d(32, 32, kernel_size=(1, 1), stride=(1, 1), bias=False)\n",
       "          (bn): BatchNorm2d(32, eps=0.001, momentum=0.03, affine=True, track_running_stats=True)\n",
       "          (act): SiLU(inplace=True)\n",
       "        )\n",
       "        (cv2): Conv(\n",
       "          (conv): Conv2d(48, 32, kernel_size=(1, 1), stride=(1, 1), bias=False)\n",
       "          (bn): BatchNorm2d(32, eps=0.001, momentum=0.03, affine=True, track_running_stats=True)\n",
       "          (act): SiLU(inplace=True)\n",
       "        )\n",
       "        (m): ModuleList(\n",
       "          (0): Bottleneck(\n",
       "            (cv1): Conv(\n",
       "              (conv): Conv2d(16, 16, kernel_size=(3, 3), stride=(1, 1), padding=(1, 1), bias=False)\n",
       "              (bn): BatchNorm2d(16, eps=0.001, momentum=0.03, affine=True, track_running_stats=True)\n",
       "              (act): SiLU(inplace=True)\n",
       "            )\n",
       "            (cv2): Conv(\n",
       "              (conv): Conv2d(16, 16, kernel_size=(3, 3), stride=(1, 1), padding=(1, 1), bias=False)\n",
       "              (bn): BatchNorm2d(16, eps=0.001, momentum=0.03, affine=True, track_running_stats=True)\n",
       "              (act): SiLU(inplace=True)\n",
       "            )\n",
       "          )\n",
       "        )\n",
       "      )\n",
       "      (3): Conv(\n",
       "        (conv): Conv2d(32, 64, kernel_size=(3, 3), stride=(2, 2), padding=(1, 1), bias=False)\n",
       "        (bn): BatchNorm2d(64, eps=0.001, momentum=0.03, affine=True, track_running_stats=True)\n",
       "        (act): SiLU(inplace=True)\n",
       "      )\n",
       "      (4): C2f(\n",
       "        (cv1): Conv(\n",
       "          (conv): Conv2d(64, 64, kernel_size=(1, 1), stride=(1, 1), bias=False)\n",
       "          (bn): BatchNorm2d(64, eps=0.001, momentum=0.03, affine=True, track_running_stats=True)\n",
       "          (act): SiLU(inplace=True)\n",
       "        )\n",
       "        (cv2): Conv(\n",
       "          (conv): Conv2d(128, 64, kernel_size=(1, 1), stride=(1, 1), bias=False)\n",
       "          (bn): BatchNorm2d(64, eps=0.001, momentum=0.03, affine=True, track_running_stats=True)\n",
       "          (act): SiLU(inplace=True)\n",
       "        )\n",
       "        (m): ModuleList(\n",
       "          (0-1): 2 x Bottleneck(\n",
       "            (cv1): Conv(\n",
       "              (conv): Conv2d(32, 32, kernel_size=(3, 3), stride=(1, 1), padding=(1, 1), bias=False)\n",
       "              (bn): BatchNorm2d(32, eps=0.001, momentum=0.03, affine=True, track_running_stats=True)\n",
       "              (act): SiLU(inplace=True)\n",
       "            )\n",
       "            (cv2): Conv(\n",
       "              (conv): Conv2d(32, 32, kernel_size=(3, 3), stride=(1, 1), padding=(1, 1), bias=False)\n",
       "              (bn): BatchNorm2d(32, eps=0.001, momentum=0.03, affine=True, track_running_stats=True)\n",
       "              (act): SiLU(inplace=True)\n",
       "            )\n",
       "          )\n",
       "        )\n",
       "      )\n",
       "      (5): Conv(\n",
       "        (conv): Conv2d(64, 128, kernel_size=(3, 3), stride=(2, 2), padding=(1, 1), bias=False)\n",
       "        (bn): BatchNorm2d(128, eps=0.001, momentum=0.03, affine=True, track_running_stats=True)\n",
       "        (act): SiLU(inplace=True)\n",
       "      )\n",
       "      (6): C2f(\n",
       "        (cv1): Conv(\n",
       "          (conv): Conv2d(128, 128, kernel_size=(1, 1), stride=(1, 1), bias=False)\n",
       "          (bn): BatchNorm2d(128, eps=0.001, momentum=0.03, affine=True, track_running_stats=True)\n",
       "          (act): SiLU(inplace=True)\n",
       "        )\n",
       "        (cv2): Conv(\n",
       "          (conv): Conv2d(256, 128, kernel_size=(1, 1), stride=(1, 1), bias=False)\n",
       "          (bn): BatchNorm2d(128, eps=0.001, momentum=0.03, affine=True, track_running_stats=True)\n",
       "          (act): SiLU(inplace=True)\n",
       "        )\n",
       "        (m): ModuleList(\n",
       "          (0-1): 2 x Bottleneck(\n",
       "            (cv1): Conv(\n",
       "              (conv): Conv2d(64, 64, kernel_size=(3, 3), stride=(1, 1), padding=(1, 1), bias=False)\n",
       "              (bn): BatchNorm2d(64, eps=0.001, momentum=0.03, affine=True, track_running_stats=True)\n",
       "              (act): SiLU(inplace=True)\n",
       "            )\n",
       "            (cv2): Conv(\n",
       "              (conv): Conv2d(64, 64, kernel_size=(3, 3), stride=(1, 1), padding=(1, 1), bias=False)\n",
       "              (bn): BatchNorm2d(64, eps=0.001, momentum=0.03, affine=True, track_running_stats=True)\n",
       "              (act): SiLU(inplace=True)\n",
       "            )\n",
       "          )\n",
       "        )\n",
       "      )\n",
       "      (7): Conv(\n",
       "        (conv): Conv2d(128, 256, kernel_size=(3, 3), stride=(2, 2), padding=(1, 1), bias=False)\n",
       "        (bn): BatchNorm2d(256, eps=0.001, momentum=0.03, affine=True, track_running_stats=True)\n",
       "        (act): SiLU(inplace=True)\n",
       "      )\n",
       "      (8): C2f(\n",
       "        (cv1): Conv(\n",
       "          (conv): Conv2d(256, 256, kernel_size=(1, 1), stride=(1, 1), bias=False)\n",
       "          (bn): BatchNorm2d(256, eps=0.001, momentum=0.03, affine=True, track_running_stats=True)\n",
       "          (act): SiLU(inplace=True)\n",
       "        )\n",
       "        (cv2): Conv(\n",
       "          (conv): Conv2d(384, 256, kernel_size=(1, 1), stride=(1, 1), bias=False)\n",
       "          (bn): BatchNorm2d(256, eps=0.001, momentum=0.03, affine=True, track_running_stats=True)\n",
       "          (act): SiLU(inplace=True)\n",
       "        )\n",
       "        (m): ModuleList(\n",
       "          (0): Bottleneck(\n",
       "            (cv1): Conv(\n",
       "              (conv): Conv2d(128, 128, kernel_size=(3, 3), stride=(1, 1), padding=(1, 1), bias=False)\n",
       "              (bn): BatchNorm2d(128, eps=0.001, momentum=0.03, affine=True, track_running_stats=True)\n",
       "              (act): SiLU(inplace=True)\n",
       "            )\n",
       "            (cv2): Conv(\n",
       "              (conv): Conv2d(128, 128, kernel_size=(3, 3), stride=(1, 1), padding=(1, 1), bias=False)\n",
       "              (bn): BatchNorm2d(128, eps=0.001, momentum=0.03, affine=True, track_running_stats=True)\n",
       "              (act): SiLU(inplace=True)\n",
       "            )\n",
       "          )\n",
       "        )\n",
       "      )\n",
       "      (9): SPPF(\n",
       "        (cv1): Conv(\n",
       "          (conv): Conv2d(256, 128, kernel_size=(1, 1), stride=(1, 1), bias=False)\n",
       "          (bn): BatchNorm2d(128, eps=0.001, momentum=0.03, affine=True, track_running_stats=True)\n",
       "          (act): SiLU(inplace=True)\n",
       "        )\n",
       "        (cv2): Conv(\n",
       "          (conv): Conv2d(512, 256, kernel_size=(1, 1), stride=(1, 1), bias=False)\n",
       "          (bn): BatchNorm2d(256, eps=0.001, momentum=0.03, affine=True, track_running_stats=True)\n",
       "          (act): SiLU(inplace=True)\n",
       "        )\n",
       "        (m): MaxPool2d(kernel_size=5, stride=1, padding=2, dilation=1, ceil_mode=False)\n",
       "      )\n",
       "      (10): Upsample(scale_factor=2.0, mode='nearest')\n",
       "      (11): Concat()\n",
       "      (12): C2f(\n",
       "        (cv1): Conv(\n",
       "          (conv): Conv2d(384, 128, kernel_size=(1, 1), stride=(1, 1), bias=False)\n",
       "          (bn): BatchNorm2d(128, eps=0.001, momentum=0.03, affine=True, track_running_stats=True)\n",
       "          (act): SiLU(inplace=True)\n",
       "        )\n",
       "        (cv2): Conv(\n",
       "          (conv): Conv2d(192, 128, kernel_size=(1, 1), stride=(1, 1), bias=False)\n",
       "          (bn): BatchNorm2d(128, eps=0.001, momentum=0.03, affine=True, track_running_stats=True)\n",
       "          (act): SiLU(inplace=True)\n",
       "        )\n",
       "        (m): ModuleList(\n",
       "          (0): Bottleneck(\n",
       "            (cv1): Conv(\n",
       "              (conv): Conv2d(64, 64, kernel_size=(3, 3), stride=(1, 1), padding=(1, 1), bias=False)\n",
       "              (bn): BatchNorm2d(64, eps=0.001, momentum=0.03, affine=True, track_running_stats=True)\n",
       "              (act): SiLU(inplace=True)\n",
       "            )\n",
       "            (cv2): Conv(\n",
       "              (conv): Conv2d(64, 64, kernel_size=(3, 3), stride=(1, 1), padding=(1, 1), bias=False)\n",
       "              (bn): BatchNorm2d(64, eps=0.001, momentum=0.03, affine=True, track_running_stats=True)\n",
       "              (act): SiLU(inplace=True)\n",
       "            )\n",
       "          )\n",
       "        )\n",
       "      )\n",
       "      (13): Upsample(scale_factor=2.0, mode='nearest')\n",
       "      (14): Concat()\n",
       "      (15): C2f(\n",
       "        (cv1): Conv(\n",
       "          (conv): Conv2d(192, 64, kernel_size=(1, 1), stride=(1, 1), bias=False)\n",
       "          (bn): BatchNorm2d(64, eps=0.001, momentum=0.03, affine=True, track_running_stats=True)\n",
       "          (act): SiLU(inplace=True)\n",
       "        )\n",
       "        (cv2): Conv(\n",
       "          (conv): Conv2d(96, 64, kernel_size=(1, 1), stride=(1, 1), bias=False)\n",
       "          (bn): BatchNorm2d(64, eps=0.001, momentum=0.03, affine=True, track_running_stats=True)\n",
       "          (act): SiLU(inplace=True)\n",
       "        )\n",
       "        (m): ModuleList(\n",
       "          (0): Bottleneck(\n",
       "            (cv1): Conv(\n",
       "              (conv): Conv2d(32, 32, kernel_size=(3, 3), stride=(1, 1), padding=(1, 1), bias=False)\n",
       "              (bn): BatchNorm2d(32, eps=0.001, momentum=0.03, affine=True, track_running_stats=True)\n",
       "              (act): SiLU(inplace=True)\n",
       "            )\n",
       "            (cv2): Conv(\n",
       "              (conv): Conv2d(32, 32, kernel_size=(3, 3), stride=(1, 1), padding=(1, 1), bias=False)\n",
       "              (bn): BatchNorm2d(32, eps=0.001, momentum=0.03, affine=True, track_running_stats=True)\n",
       "              (act): SiLU(inplace=True)\n",
       "            )\n",
       "          )\n",
       "        )\n",
       "      )\n",
       "      (16): Conv(\n",
       "        (conv): Conv2d(64, 64, kernel_size=(3, 3), stride=(2, 2), padding=(1, 1), bias=False)\n",
       "        (bn): BatchNorm2d(64, eps=0.001, momentum=0.03, affine=True, track_running_stats=True)\n",
       "        (act): SiLU(inplace=True)\n",
       "      )\n",
       "      (17): Concat()\n",
       "      (18): C2f(\n",
       "        (cv1): Conv(\n",
       "          (conv): Conv2d(192, 128, kernel_size=(1, 1), stride=(1, 1), bias=False)\n",
       "          (bn): BatchNorm2d(128, eps=0.001, momentum=0.03, affine=True, track_running_stats=True)\n",
       "          (act): SiLU(inplace=True)\n",
       "        )\n",
       "        (cv2): Conv(\n",
       "          (conv): Conv2d(192, 128, kernel_size=(1, 1), stride=(1, 1), bias=False)\n",
       "          (bn): BatchNorm2d(128, eps=0.001, momentum=0.03, affine=True, track_running_stats=True)\n",
       "          (act): SiLU(inplace=True)\n",
       "        )\n",
       "        (m): ModuleList(\n",
       "          (0): Bottleneck(\n",
       "            (cv1): Conv(\n",
       "              (conv): Conv2d(64, 64, kernel_size=(3, 3), stride=(1, 1), padding=(1, 1), bias=False)\n",
       "              (bn): BatchNorm2d(64, eps=0.001, momentum=0.03, affine=True, track_running_stats=True)\n",
       "              (act): SiLU(inplace=True)\n",
       "            )\n",
       "            (cv2): Conv(\n",
       "              (conv): Conv2d(64, 64, kernel_size=(3, 3), stride=(1, 1), padding=(1, 1), bias=False)\n",
       "              (bn): BatchNorm2d(64, eps=0.001, momentum=0.03, affine=True, track_running_stats=True)\n",
       "              (act): SiLU(inplace=True)\n",
       "            )\n",
       "          )\n",
       "        )\n",
       "      )\n",
       "      (19): Conv(\n",
       "        (conv): Conv2d(128, 128, kernel_size=(3, 3), stride=(2, 2), padding=(1, 1), bias=False)\n",
       "        (bn): BatchNorm2d(128, eps=0.001, momentum=0.03, affine=True, track_running_stats=True)\n",
       "        (act): SiLU(inplace=True)\n",
       "      )\n",
       "      (20): Concat()\n",
       "      (21): C2f(\n",
       "        (cv1): Conv(\n",
       "          (conv): Conv2d(384, 256, kernel_size=(1, 1), stride=(1, 1), bias=False)\n",
       "          (bn): BatchNorm2d(256, eps=0.001, momentum=0.03, affine=True, track_running_stats=True)\n",
       "          (act): SiLU(inplace=True)\n",
       "        )\n",
       "        (cv2): Conv(\n",
       "          (conv): Conv2d(384, 256, kernel_size=(1, 1), stride=(1, 1), bias=False)\n",
       "          (bn): BatchNorm2d(256, eps=0.001, momentum=0.03, affine=True, track_running_stats=True)\n",
       "          (act): SiLU(inplace=True)\n",
       "        )\n",
       "        (m): ModuleList(\n",
       "          (0): Bottleneck(\n",
       "            (cv1): Conv(\n",
       "              (conv): Conv2d(128, 128, kernel_size=(3, 3), stride=(1, 1), padding=(1, 1), bias=False)\n",
       "              (bn): BatchNorm2d(128, eps=0.001, momentum=0.03, affine=True, track_running_stats=True)\n",
       "              (act): SiLU(inplace=True)\n",
       "            )\n",
       "            (cv2): Conv(\n",
       "              (conv): Conv2d(128, 128, kernel_size=(3, 3), stride=(1, 1), padding=(1, 1), bias=False)\n",
       "              (bn): BatchNorm2d(128, eps=0.001, momentum=0.03, affine=True, track_running_stats=True)\n",
       "              (act): SiLU(inplace=True)\n",
       "            )\n",
       "          )\n",
       "        )\n",
       "      )\n",
       "      (22): Detect(\n",
       "        (cv2): ModuleList(\n",
       "          (0): Sequential(\n",
       "            (0): Conv(\n",
       "              (conv): Conv2d(64, 64, kernel_size=(3, 3), stride=(1, 1), padding=(1, 1), bias=False)\n",
       "              (bn): BatchNorm2d(64, eps=0.001, momentum=0.03, affine=True, track_running_stats=True)\n",
       "              (act): SiLU(inplace=True)\n",
       "            )\n",
       "            (1): Conv(\n",
       "              (conv): Conv2d(64, 64, kernel_size=(3, 3), stride=(1, 1), padding=(1, 1), bias=False)\n",
       "              (bn): BatchNorm2d(64, eps=0.001, momentum=0.03, affine=True, track_running_stats=True)\n",
       "              (act): SiLU(inplace=True)\n",
       "            )\n",
       "            (2): Conv2d(64, 64, kernel_size=(1, 1), stride=(1, 1))\n",
       "          )\n",
       "          (1): Sequential(\n",
       "            (0): Conv(\n",
       "              (conv): Conv2d(128, 64, kernel_size=(3, 3), stride=(1, 1), padding=(1, 1), bias=False)\n",
       "              (bn): BatchNorm2d(64, eps=0.001, momentum=0.03, affine=True, track_running_stats=True)\n",
       "              (act): SiLU(inplace=True)\n",
       "            )\n",
       "            (1): Conv(\n",
       "              (conv): Conv2d(64, 64, kernel_size=(3, 3), stride=(1, 1), padding=(1, 1), bias=False)\n",
       "              (bn): BatchNorm2d(64, eps=0.001, momentum=0.03, affine=True, track_running_stats=True)\n",
       "              (act): SiLU(inplace=True)\n",
       "            )\n",
       "            (2): Conv2d(64, 64, kernel_size=(1, 1), stride=(1, 1))\n",
       "          )\n",
       "          (2): Sequential(\n",
       "            (0): Conv(\n",
       "              (conv): Conv2d(256, 64, kernel_size=(3, 3), stride=(1, 1), padding=(1, 1), bias=False)\n",
       "              (bn): BatchNorm2d(64, eps=0.001, momentum=0.03, affine=True, track_running_stats=True)\n",
       "              (act): SiLU(inplace=True)\n",
       "            )\n",
       "            (1): Conv(\n",
       "              (conv): Conv2d(64, 64, kernel_size=(3, 3), stride=(1, 1), padding=(1, 1), bias=False)\n",
       "              (bn): BatchNorm2d(64, eps=0.001, momentum=0.03, affine=True, track_running_stats=True)\n",
       "              (act): SiLU(inplace=True)\n",
       "            )\n",
       "            (2): Conv2d(64, 64, kernel_size=(1, 1), stride=(1, 1))\n",
       "          )\n",
       "        )\n",
       "        (cv3): ModuleList(\n",
       "          (0): Sequential(\n",
       "            (0): Conv(\n",
       "              (conv): Conv2d(64, 64, kernel_size=(3, 3), stride=(1, 1), padding=(1, 1), bias=False)\n",
       "              (bn): BatchNorm2d(64, eps=0.001, momentum=0.03, affine=True, track_running_stats=True)\n",
       "              (act): SiLU(inplace=True)\n",
       "            )\n",
       "            (1): Conv(\n",
       "              (conv): Conv2d(64, 64, kernel_size=(3, 3), stride=(1, 1), padding=(1, 1), bias=False)\n",
       "              (bn): BatchNorm2d(64, eps=0.001, momentum=0.03, affine=True, track_running_stats=True)\n",
       "              (act): SiLU(inplace=True)\n",
       "            )\n",
       "            (2): Conv2d(64, 6, kernel_size=(1, 1), stride=(1, 1))\n",
       "          )\n",
       "          (1): Sequential(\n",
       "            (0): Conv(\n",
       "              (conv): Conv2d(128, 64, kernel_size=(3, 3), stride=(1, 1), padding=(1, 1), bias=False)\n",
       "              (bn): BatchNorm2d(64, eps=0.001, momentum=0.03, affine=True, track_running_stats=True)\n",
       "              (act): SiLU(inplace=True)\n",
       "            )\n",
       "            (1): Conv(\n",
       "              (conv): Conv2d(64, 64, kernel_size=(3, 3), stride=(1, 1), padding=(1, 1), bias=False)\n",
       "              (bn): BatchNorm2d(64, eps=0.001, momentum=0.03, affine=True, track_running_stats=True)\n",
       "              (act): SiLU(inplace=True)\n",
       "            )\n",
       "            (2): Conv2d(64, 6, kernel_size=(1, 1), stride=(1, 1))\n",
       "          )\n",
       "          (2): Sequential(\n",
       "            (0): Conv(\n",
       "              (conv): Conv2d(256, 64, kernel_size=(3, 3), stride=(1, 1), padding=(1, 1), bias=False)\n",
       "              (bn): BatchNorm2d(64, eps=0.001, momentum=0.03, affine=True, track_running_stats=True)\n",
       "              (act): SiLU(inplace=True)\n",
       "            )\n",
       "            (1): Conv(\n",
       "              (conv): Conv2d(64, 64, kernel_size=(3, 3), stride=(1, 1), padding=(1, 1), bias=False)\n",
       "              (bn): BatchNorm2d(64, eps=0.001, momentum=0.03, affine=True, track_running_stats=True)\n",
       "              (act): SiLU(inplace=True)\n",
       "            )\n",
       "            (2): Conv2d(64, 6, kernel_size=(1, 1), stride=(1, 1))\n",
       "          )\n",
       "        )\n",
       "        (dfl): DFL(\n",
       "          (conv): Conv2d(16, 1, kernel_size=(1, 1), stride=(1, 1), bias=False)\n",
       "        )\n",
       "      )\n",
       "    )\n",
       "  )\n",
       ")"
      ]
     },
     "execution_count": 25,
     "metadata": {},
     "output_type": "execute_result"
    }
   ],
   "source": [
    "model = YOLO('F:/coding_projects/hardhat_detection_on_construction_site/runs/detect/train35/weights/best.pt').to('cuda')\n",
    "model"
   ]
  },
  {
   "cell_type": "code",
   "execution_count": 27,
   "metadata": {},
   "outputs": [
    {
     "name": "stdout",
     "output_type": "stream",
     "text": [
      "\n",
      "image 1/1 F:\\coding_projects\\hardhat_detection_on_construction_site\\hardhat_images\\maxresdefault.jpg: 384x640 2 persons, 1 vest, 39.4ms\n",
      "Speed: 2.2ms preprocess, 39.4ms inference, 1.2ms postprocess per image at shape (1, 3, 384, 640)\n"
     ]
    },
    {
     "data": {
      "image/png": "[encoded data removed]",
      "text/plain": [
       "<Figure size 640x480 with 1 Axes>"
      ]
     },
     "metadata": {},
     "output_type": "display_data"
    }
   ],
   "source": [
    "test_results = model('F:/coding_projects/hardhat_detection_on_construction_site/hardhat_images/maxresdefault.jpg')\n",
    "\n",
    "# Convert image to array and plot it\n",
    "annotated_img = test_results[0].plot()\n",
    "\n",
    "plt.imshow(annotated_img)\n",
    "plt.axis(\"off\")  # Hide axis\n",
    "plt.show()"
   ]
  },
  {
   "cell_type": "code",
   "execution_count": 32,
   "metadata": {},
   "outputs": [],
   "source": [
    "# test_vid_results = model('F:/coding_projects/hardhat_detection_on_construction_site/hardhat_videos/Construction_vid_0.mp4')"
   ]
  },
  {
   "cell_type": "code",
   "execution_count": null,
   "metadata": {},
   "outputs": [],
   "source": []
  }
 ],
 "metadata": {
  "kernelspec": {
   "display_name": "yolo_env",
   "language": "python",
   "name": "python3"
  },
  "language_info": {
   "codemirror_mode": {
    "name": "ipython",
    "version": 3
   },
   "file_extension": ".py",
   "mimetype": "text/x-python",
   "name": "python",
   "nbconvert_exporter": "python",
   "pygments_lexer": "ipython3",
   "version": "3.12.7"
  }
 },
 "nbformat": 4,
 "nbformat_minor": 2
}
